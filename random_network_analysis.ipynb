{
 "cells": [
  {
   "cell_type": "markdown",
   "metadata": {},
   "source": [
    "# iGED : Global Systems Dynamics Initiative\n",
    "\n",
    "El objetivo principal de este documento es analizar las métricas globales en las siguientes redes capitales\n",
    "\n",
    "  *  Ciudad Autónoma de Buenos Aires (CABA)\n",
    "  *  Ciudad de México (CDMX)\n",
    "  *  Santiago de Chile (SCL)\n",
    "  *  Montevideo (MTV)\n",
    "  *  Madrid (MAD)\n",
    "  *  Sao Paulo (SAO)\n",
    "\n",
    "y obtener un tidy DataFrame, para continuar analizando los datos obtenidos, por ejemplo obteniendo correlaciones entre parejas de métricas.\n",
    "\n",
    "Respecto al notebook anterior, utilizamos la documentación de NetworkX: https://www.nas.ewi.tudelft.nl/people/Piet/papers/TUDreport20111111_MetricList.pdf\n",
    "\n",
    "así como el siguiente recurso: https://www.nas.ewi.tudelft.nl/people/Piet/papers/TUDreport20111111_MetricList.pdf\n",
    "\n",
    "para saber con cuáles métricas globales seguir estudiando nuestros ecosistemas."
   ]
  },
  {
   "cell_type": "code",
   "execution_count": 1,
   "metadata": {},
   "outputs": [],
   "source": [
    "#-------------------------------------------------------\n",
    "# Importar paquetes a utilizar\n",
    "#-------------------------------------------------------\n",
    "import pandas as pd\n",
    "import numpy as np \n",
    "import networkx as nx\n",
    "import scipy.stats as stats\n",
    "\n",
    "import matplotlib.pyplot as plt\n",
    "import seaborn as sns; sns.set()\n",
    "\n",
    "G={}\n",
    "\n",
    "for i in range(60):\n",
    "    G[i]=nx.read_graphml('Random_Graphs/Random_Graph_'+str(i+1)+'.graphml')\n"
   ]
  },
  {
   "cell_type": "code",
   "execution_count": 2,
   "metadata": {},
   "outputs": [],
   "source": [
    "#--------------------------------\n",
    "# Central point of Dominance\n",
    "#--------------------------------\n",
    "\n",
    "\n",
    "def central_point_dominance(G):\n",
    "    betwennesses = nx.betweenness_centrality(G)\n",
    "    b_max = max(betwennesses.values())\n",
    "    N = len(betwennesses.keys())\n",
    "    count = 0\n",
    "    for i, b_i in betwennesses.items():\n",
    "        count += ( b_max - b_i )/(N-1)\n",
    "    return count"
   ]
  },
  {
   "cell_type": "code",
   "execution_count": 3,
   "metadata": {},
   "outputs": [],
   "source": [
    "#--------------------------------\n",
    "# Spectral Radius\n",
    "#--------------------------------\n",
    "#     the smaller the spectral radius rho, the higher the probability of 'virus infection' tau, \n",
    "#     the more difficult it is for an idea to spread in the innovative network, \n",
    "#     namely, the less efficient\n",
    "\n",
    "import numpy.linalg\n",
    "\n",
    "def spectral_radius(G):\n",
    "    L = nx.normalized_laplacian_matrix(G)\n",
    "    e = numpy.linalg.eigvals(L.A)\n",
    "    e_abs = [abs(x) for x in e]\n",
    "    return max(e_abs)"
   ]
  },
  {
   "cell_type": "code",
   "execution_count": 4,
   "metadata": {},
   "outputs": [],
   "source": [
    "def core_ratio(G):\n",
    "    return len(nx.k_core(G,k=2).nodes())/len(G.nodes())"
   ]
  },
  {
   "cell_type": "code",
   "execution_count": 5,
   "metadata": {},
   "outputs": [],
   "source": [
    "def rich_club_coeffs(G):\n",
    "    t_ok = True\n",
    "    t = 0\n",
    "    d = dict()\n",
    "    while t_ok:\n",
    "        nodes_large_degree=[]\n",
    "        for x in G.nodes():\n",
    "            if G.degree(x)>t:\n",
    "                nodes_large_degree.append(x)\n",
    "        core = G.subgraph(nodes_large_degree)\n",
    "        edges_core = len(core.edges())\n",
    "        nodes_core = len(core.nodes())\n",
    "        if nodes_core<=1:\n",
    "            t_ok = False\n",
    "            break\n",
    "        d[t] = (2*edges_core)/(nodes_core*(nodes_core-1))\n",
    "        t += 1 \n",
    "    return d        \n",
    "\n",
    "def max_rich_club(G):\n",
    "    #rich_club_1=nx.algorithms.rich_club_coefficient(G, normalized=False)\n",
    "    rich_club=rich_club_coeffs(G)\n",
    "    max_i=0\n",
    "    for i in range(len(rich_club)):\n",
    "        if rich_club[i]>rich_club[max_i]:\n",
    "            max_i=i\n",
    "        else:\n",
    "            return rich_club[max_i]"
   ]
  },
  {
   "cell_type": "code",
   "execution_count": 6,
   "metadata": {},
   "outputs": [],
   "source": [
    "def eccentricity(G):\n",
    "    excentricidades=nx.algorithms.distance_measures.eccentricity(G)\n",
    "    excentricidad=0\n",
    "    for i in excentricidades.keys():\n",
    "        excentricidad+=excentricidades[i]\n",
    "    return excentricidad/len(excentricidades.keys())"
   ]
  },
  {
   "cell_type": "markdown",
   "metadata": {},
   "source": [
    "## Creacion del Dataframe\n",
    "\n",
    "El siguiente bloque crea todas las metricas de la grafica que usaremos para estudiarlas."
   ]
  },
  {
   "cell_type": "code",
   "execution_count": 7,
   "metadata": {},
   "outputs": [],
   "source": [
    "n=len(G)\n",
    "\n",
    "degree = n*[0]\n",
    "diameter = n*[0]\n",
    "radius = n*[0]\n",
    "avg_shortest_path_length = n*[0]\n",
    "transitivity = n*[0]\n",
    "global_efficiency = n*[0]\n",
    "modularity = n*[0]\n",
    "rich_club_coefficient = n*[0]\n",
    "core_rate= n*[0]\n",
    "central_pt = n*[0]\n",
    "spectral_radii = n*[0]\n",
    "excentricidad = n*[0]\n",
    "modularidad=n*[0]\n",
    "\n",
    "for index in G.keys():\n",
    "    graph=G[index]\n",
    "    \n",
    "    #conseguimos cada parámetro para esta ciudad\n",
    "    degree[index]=                        2*len(graph.edges())/len(graph.nodes())\n",
    "    diameter[index] =                     nx.diameter(graph)\n",
    "    radius[index] =                       nx.radius(graph)\n",
    "    avg_shortest_path_length[index] =     nx.average_shortest_path_length(graph)\n",
    "    transitivity[index] =                 nx.transitivity(graph)\n",
    "    global_efficiency[index] =            nx.global_efficiency(graph)\n",
    "    #modularidad precomputada\n",
    "    rich_club_coefficient[index] =        max_rich_club(graph)  \n",
    "    core_rate[index]=                     core_ratio(graph)\n",
    "    central_pt[index]=                    central_point_dominance(graph)\n",
    "    spectral_radii[index]=                spectral_radius(graph)\n",
    "    excentricidad[index]=                 eccentricity(graph)\n",
    "    modularidad[index]=                   nx.algorithms.community.quality.performance(graph,nx.algorithms.community.modularity_max.greedy_modularity_communities(graph))\n",
    "\n",
    "df=pd.DataFrame()\n",
    "\n",
    "\n",
    "df['Eficiencia Global'] = global_efficiency\n",
    "df['Degree']= degree\n",
    "df['Transitividad'] = transitivity\n",
    "df['Modularidad'] = modularidad\n",
    "df['Excentricidad']= excentricidad\n",
    "df['Radio'] = radius\n",
    "df['Rich Club Coefficient'] = rich_club_coefficient\n",
    "df['Core Ratio'] = core_rate\n",
    "df['Central Point Dominance'] = [round(central_pt[index],3) for index in range(n)]\n",
    "df['Spectral radius'] = [round(spectral_radii[index],3) for index in range(n)]\n",
    "df['Camino más corto promedio'] = avg_shortest_path_length\n",
    "df['Diámetro'] = diameter\n"
   ]
  },
  {
   "cell_type": "markdown",
   "metadata": {},
   "source": [
    "## Colaboracion\n",
    "\n",
    "Empezamos analizando las metricas que ya hemos calculado y luego usaremos esta informacion para crear una medida de la colaboracion."
   ]
  },
  {
   "cell_type": "code",
   "execution_count": 8,
   "metadata": {},
   "outputs": [
    {
     "data": {
      "text/plain": [
       "array([[ 0.02368363, -0.25305316,  0.01299442, -0.0161432 , -0.31343466,\n",
       "        -0.54036425,  0.01556938, -0.03967146,  0.05866092, -0.00350904,\n",
       "        -0.15399244, -0.71816127],\n",
       "       [ 0.00895109, -0.48973113, -0.00225761, -0.01129218, -0.04605719,\n",
       "         0.77887261,  0.01144692, -0.01143393,  0.05489789,  0.01357485,\n",
       "        -0.01672611, -0.38398867],\n",
       "       [ 0.0187043 , -0.79156839,  0.01641002, -0.01865542, -0.07255627,\n",
       "        -0.25223328,  0.01885338, -0.09034348,  0.09892042,  0.03475733,\n",
       "        -0.06510966,  0.52897666],\n",
       "       [ 0.08751013,  0.2209762 ,  0.03373636, -0.07278166, -0.68016435,\n",
       "         0.18359678,  0.05202346,  0.06791932,  0.16770859, -0.02210354,\n",
       "        -0.59521476,  0.22478889],\n",
       "       [-0.05780381,  0.09403497,  0.0817445 , -0.016493  , -0.49383307,\n",
       "         0.05773732, -0.01203858, -0.6254354 , -0.02718477,  0.19733082,\n",
       "         0.54763184,  0.05257184]])"
      ]
     },
     "execution_count": 8,
     "metadata": {},
     "output_type": "execute_result"
    }
   ],
   "source": [
    "#---------------------------------------------\n",
    "#Preparar escalas y herramientas para el analisis.\n",
    "#---------------------------------------------\n",
    "\n",
    "from sklearn.preprocessing import StandardScaler\n",
    "from sklearn.decomposition import PCA\n",
    "\n",
    "X=df.to_numpy()\n",
    "\n",
    "\n",
    "\n",
    "#normalized= StandardScaler().fit_transform(X)\n",
    "pca=PCA(n_components=5)\n",
    "prin_comp=pca.fit_transform(X)\n",
    "\n",
    "pca.components_"
   ]
  },
  {
   "cell_type": "code",
   "execution_count": 9,
   "metadata": {},
   "outputs": [
    {
     "data": {
      "text/plain": [
       "<matplotlib.collections.PathCollection at 0x1a1cb5c190>"
      ]
     },
     "execution_count": 9,
     "metadata": {},
     "output_type": "execute_result"
    },
    {
     "data": {
      "image/png": "[encoded data removed]",
      "text/plain": [
       "<Figure size 432x288 with 1 Axes>"
      ]
     },
     "metadata": {},
     "output_type": "display_data"
    }
   ],
   "source": [
    "from matplotlib import pyplot as plt\n",
    "plt.scatter(prin_comp[:,0], prin_comp[:,1],color='b')"
   ]
  },
  {
   "cell_type": "code",
   "execution_count": 10,
   "metadata": {
    "tags": []
   },
   "outputs": [
    {
     "name": "stdout",
     "output_type": "stream",
     "text": [
      "0.37690179386163175 1\n",
      "0.3597402217366625 3\n",
      "0.5528144640202921 5\n",
      "0.34338953128456035 7\n",
      "0.3062623515785765 9\n",
      "0.3503928037593445 11\n",
      "0.37604290803886914 12\n",
      "0.30343928829434 14\n",
      "0.31525510659926786 20\n",
      "0.31849032882558276 22\n",
      "0.3152434448828492 24\n",
      "0.35362198166544695 25\n",
      "0.33932376663125147 35\n",
      "0.3083192984208191 42\n",
      "0.33411452073991166 43\n",
      "0.30541865146108127 44\n",
      "0.32773420963481353 49\n",
      "0.3085660196139893 50\n",
      "0.3507023717052769 52\n",
      "0.31919892275827966 53\n",
      "0.33159827363997996 58\n"
     ]
    }
   ],
   "source": [
    "#---------------------------------------\n",
    "# Fórmula para colaboratividad\n",
    "#---------------------------------------\n",
    "\n",
    "eg = df['Eficiencia Global'].tolist()\n",
    "tr = df['Transitividad'].tolist()\n",
    "comunicacion = [eg[x]+tr[x] for x in range(n)]\n",
    "\n",
    "r= df['Radio'].tolist()\n",
    "sr= df['Spectral radius'].tolist()\n",
    "size=[-r[x]/28-sr[x]/5 for x in range(n)]\n",
    "\n",
    "rcc = df['Rich Club Coefficient'].tolist()\n",
    "cr = df['Core Ratio'].tolist()\n",
    "preparacion = [(rcc[x]+cr[x])/2 for x in range(n)]\n",
    "\n",
    "colab_1 = [comunicacion[x]+preparacion[x]+size[x] for x in range(n)]\n",
    "max_colab_1=[]\n",
    "for i in range(len(colab_1)):\n",
    "    if colab_1[i]>.3:\n",
    "        print(colab_1[i],i)\n",
    "        max_colab_1.append(i)"
   ]
  },
  {
   "cell_type": "code",
   "execution_count": 12,
   "metadata": {
    "tags": []
   },
   "outputs": [
    {
     "name": "stdout",
     "output_type": "stream",
     "text": [
      "0.4335028076424266 0\n",
      "0.43753176761336443 1\n",
      "0.43149924355746627 3\n",
      "0.5043622869551668 5\n",
      "0.4455468178699993 8\n",
      "0.43126561622638704 10\n",
      "0.433730287925361 11\n",
      "0.4326648703799853 12\n",
      "0.43959562345749187 17\n",
      "0.4364438432023845 18\n",
      "0.43324006965323153 19\n",
      "0.43684909805376115 21\n",
      "0.4339609223538563 27\n",
      "0.43355979850012616 31\n",
      "0.431009608372572 32\n",
      "0.43058956195798115 37\n",
      "0.4363704225421378 44\n",
      "0.4509555732886308 53\n"
     ]
    }
   ],
   "source": [
    "#Bad number between 11 and 35 is higher than 36 to 60\n",
    "\n",
    "eg = df['Eficiencia Global'].tolist()\n",
    "tr = df['Transitividad'].tolist()\n",
    "comunicacion = [eg[x]+tr[x] for x in range(n)]\n",
    "\n",
    "r= df['Radio'].tolist()\n",
    "sr= df['Spectral radius'].tolist()\n",
    "size=[-r[x]/28-sr[x]/5 for x in range(n)]\n",
    "\n",
    "rcc = df['Rich Club Coefficient'].tolist()\n",
    "cr = df['Core Ratio'].tolist()\n",
    "preparacion = [(rcc[x]+cr[x])/2 for x in range(n)]\n",
    "\n",
    "colab_1b = [((comunicacion[x]**2+preparacion[x]**2+size[x]**2)/3)**(1/2) for x in range(n)]\n",
    "max_colab_1b=[]\n",
    "for i in range(len(colab_1b)):\n",
    "    if colab_1b[i]>.43:\n",
    "        print(colab_1b[i],i)\n",
    "        max_colab_1b.append(i)"
   ]
  },
  {
   "cell_type": "code",
   "execution_count": 13,
   "metadata": {
    "tags": []
   },
   "outputs": [
    {
     "name": "stdout",
     "output_type": "stream",
     "text": [
      "0.22830056621726855 1\n",
      "0.21003267662269107 2\n",
      "0.21690363477256727 3\n",
      "0.21047463074125325 4\n",
      "0.3398934850901574 5\n",
      "0.2177823912300705 7\n",
      "0.2103616370330609 8\n",
      "0.2160883361378501 11\n",
      "0.21956453322465674 12\n",
      "0.21520719075676395 20\n",
      "0.2203280966830905 25\n",
      "0.21203445959972195 35\n",
      "0.21543777691504476 36\n",
      "0.21423168975620852 39\n",
      "0.21768971688629038 43\n",
      "0.22201918051954592 49\n",
      "0.22024968479074772 52\n",
      "0.2176678200945896 53\n",
      "0.21409607440181844 58\n"
     ]
    }
   ],
   "source": [
    "eg = df['Eficiencia Global'].tolist()\n",
    "comunicacion = [eg[x] for x in range(n)]\n",
    "\n",
    "rcc= df['Rich Club Coefficient'].tolist()\n",
    "mod= df['Modularidad'].tolist()\n",
    "futuro=[(rcc[x]+1-mod[x])/2 for x in range(n)]\n",
    "\n",
    "tr = df['Transitividad'].tolist()\n",
    "resistencia = [tr[x] for x in range(n)]\n",
    "\n",
    "colab_2 = [((comunicacion[x]**2+futuro[x]**2+resistencia[x]**2)/3)**(1/2) for x in range(n)]\n",
    "max_colab_2=[]\n",
    "for i in range(len(colab_2)):\n",
    "    if colab_2[i]>.21:\n",
    "        print(colab_2[i],i)\n",
    "        max_colab_2.append(i)"
   ]
  },
  {
   "cell_type": "code",
   "execution_count": 14,
   "metadata": {
    "tags": []
   },
   "outputs": [
    {
     "name": "stdout",
     "output_type": "stream",
     "text": [
      "0.6854215507005375 1\n",
      "0.7008895065150914 4\n",
      "1.1006861727037653 5\n",
      "0.6828792036031921 7\n",
      "0.6957583970652077 13\n",
      "0.6848731420259988 20\n",
      "0.6713298055488807 25\n",
      "0.7490891371834657 36\n",
      "0.7160498126265097 39\n",
      "0.7004154842924882 43\n",
      "0.7145626650580623 49\n",
      "0.6854451581677711 51\n",
      "0.6704796708289175 52\n",
      "0.6756822964306508 53\n",
      "0.6987255448428292 55\n",
      "0.671492843979964 57\n"
     ]
    }
   ],
   "source": [
    "eg = df['Eficiencia Global'].tolist()\n",
    "comunicacion = [eg[x] for x in range(n)]\n",
    "\n",
    "r= df['Transitividad'].tolist()\n",
    "size=[r[x] for x in range(n)]\n",
    "\n",
    "rcc = df['Core Ratio'].tolist()\n",
    "md= df['Modularidad'].tolist()\n",
    "preparacion = [1-(rcc[x]/2+md[x]/2) for x in range(n)]\n",
    "\n",
    "colab_3 = [comunicacion[x]+preparacion[x]+size[x] for x in range(n)]\n",
    "max_colab_3=[]\n",
    "for i in range(len(colab_3)):\n",
    "    if colab_3[i]>.67:\n",
    "        print(colab_3[i],i)\n",
    "        max_colab_3.append(i)"
   ]
  },
  {
   "cell_type": "code",
   "execution_count": 15,
   "metadata": {
    "tags": []
   },
   "outputs": [
    {
     "name": "stdout",
     "output_type": "stream",
     "text": [
      "0.2550556581055234 1\n",
      "0.24706865880661183 2\n",
      "0.2543080371451285 4\n",
      "0.3956886252668821 5\n",
      "0.2500967476692722 7\n",
      "0.25394989285233 13\n",
      "0.2506953428856495 20\n",
      "0.2498187722258049 25\n",
      "0.2671421293242758 36\n",
      "0.24590590394876655 38\n",
      "0.2607765994678477 39\n",
      "0.2477081883566307 40\n",
      "0.2539638055830213 43\n",
      "0.2601267127369639 49\n",
      "0.25001837989975473 51\n",
      "0.2491294286020056 52\n",
      "0.24583389007303758 53\n",
      "0.2511668502785238 55\n",
      "0.2466972066827345 57\n"
     ]
    }
   ],
   "source": [
    "eg = df['Eficiencia Global'].tolist()\n",
    "comunicacion = [eg[x] for x in range(n)]\n",
    "\n",
    "r= df['Transitividad'].tolist()\n",
    "size=[r[x] for x in range(n)]\n",
    "\n",
    "rcc = df['Core Ratio'].tolist()\n",
    "md= df['Modularidad'].tolist()\n",
    "preparacion = [1-(rcc[x]/2+md[x]/2) for x in range(n)]\n",
    "\n",
    "colab_3 = [((comunicacion[x]**2+preparacion[x]**2+size[x]**2)/3)**(1/2) for x in range(n)]\n",
    "max_colab_3=[]\n",
    "for i in range(len(colab_3)):\n",
    "    if colab_3[i]>.245:\n",
    "        print(colab_3[i],i)\n",
    "        max_colab_3.append(i)"
   ]
  },
  {
   "cell_type": "code",
   "execution_count": null,
   "metadata": {},
   "outputs": [],
   "source": []
  }
 ],
 "metadata": {
  "@webio": {
   "lastCommId": null,
   "lastKernelId": null
  },
  "kernelspec": {
   "display_name": "Python 3",
   "language": "python",
   "name": "python3"
  },
  "language_info": {
   "codemirror_mode": {
    "name": "ipython",
    "version": 3
   },
   "file_extension": ".py",
   "mimetype": "text/x-python",
   "name": "python",
   "nbconvert_exporter": "python",
   "pygments_lexer": "ipython3",
   "version": "3.7.6"
  }
 },
 "nbformat": 4,
 "nbformat_minor": 4
}
