{
 "cells": [
  {
   "cell_type": "markdown",
   "metadata": {},
   "source": [
    "# iGED : Global Systems Dynamics Initiative\n",
    "\n",
    "El objetivo principal de este documento es analizar las métricas globales en las siguientes redes capitales\n",
    "\n",
    "  *  Ciudad Autónoma de Buenos Aires (CABA)\n",
    "  *  Ciudad de México (CDMX)\n",
    "  *  Santiago de Chile (SCL)\n",
    "  *  Montevideo (MTV)\n",
    "  *  Madrid (MAD)\n",
    "  *  Sao Paulo (SAO)\n",
    "\n",
    "y obtener un tidy DataFrame, para continuar analizando los datos obtenidos, por ejemplo obteniendo correlaciones entre parejas de métricas.\n",
    "\n",
    "Respecto al notebook anterior, utilizamos la documentación de NetworkX: https://www.nas.ewi.tudelft.nl/people/Piet/papers/TUDreport20111111_MetricList.pdf\n",
    "\n",
    "así como el siguiente recurso: https://www.nas.ewi.tudelft.nl/people/Piet/papers/TUDreport20111111_MetricList.pdf\n",
    "\n",
    "para saber con cuáles métricas globales seguir estudiando nuestros ecosistemas."
   ]
  },
  {
   "cell_type": "code",
   "execution_count": 1,
   "metadata": {},
   "outputs": [],
   "source": [
    "#-------------------------------------------------------\n",
    "# Importar paquetes a utilizar\n",
    "#-------------------------------------------------------\n",
    "import pandas as pd\n",
    "import numpy as np \n",
    "import networkx as nx\n",
    "import scipy.stats as stats\n",
    "\n",
    "import matplotlib.pyplot as plt\n",
    "import seaborn as sns; sns.set()\n",
    "\n",
    "G={}\n",
    "\n",
    "for i in range(60):\n",
    "    G[i]=nx.read_graphml('Random_Graphs/Random_Graph_'+str(i+1)+'.graphml')\n"
   ]
  },
  {
   "cell_type": "code",
   "execution_count": 2,
   "metadata": {},
   "outputs": [],
   "source": [
    "#--------------------------------\n",
    "# Central point of Dominance\n",
    "#--------------------------------\n",
    "\n",
    "\n",
    "def central_point_dominance(G):\n",
    "    betwennesses = nx.betweenness_centrality(G)\n",
    "    b_max = max(betwennesses.values())\n",
    "    N = len(betwennesses.keys())\n",
    "    count = 0\n",
    "    for i, b_i in betwennesses.items():\n",
    "        count += ( b_max - b_i )/(N-1)\n",
    "    return count"
   ]
  },
  {
   "cell_type": "code",
   "execution_count": 3,
   "metadata": {},
   "outputs": [],
   "source": [
    "#--------------------------------\n",
    "# Spectral Radius\n",
    "#--------------------------------\n",
    "#     the smaller the spectral radius rho, the higher the probability of 'virus infection' tau, \n",
    "#     the more difficult it is for an idea to spread in the innovative network, \n",
    "#     namely, the less efficient\n",
    "\n",
    "import numpy.linalg\n",
    "\n",
    "def spectral_radius(G):\n",
    "    L = nx.normalized_laplacian_matrix(G)\n",
    "    e = numpy.linalg.eigvals(L.A)\n",
    "    e_abs = [abs(x) for x in e]\n",
    "    return max(e_abs)"
   ]
  },
  {
   "cell_type": "code",
   "execution_count": 4,
   "metadata": {},
   "outputs": [],
   "source": [
    "def core_ratio(G):\n",
    "    return len(nx.k_core(G,k=2).nodes())/len(G.nodes())"
   ]
  },
  {
   "cell_type": "code",
   "execution_count": 5,
   "metadata": {},
   "outputs": [],
   "source": [
    "def rich_club_coeffs(G):\n",
    "    t_ok = True\n",
    "    t = 0\n",
    "    d = dict()\n",
    "    while t_ok:\n",
    "        nodes_large_degree=[]\n",
    "        for x in G.nodes():\n",
    "            if G.degree(x)>t:\n",
    "                nodes_large_degree.append(x)\n",
    "        core = G.subgraph(nodes_large_degree)\n",
    "        edges_core = len(core.edges())\n",
    "        nodes_core = len(core.nodes())\n",
    "        if nodes_core<=1:\n",
    "            t_ok = False\n",
    "            break\n",
    "        d[t] = (2*edges_core)/(nodes_core*(nodes_core-1))\n",
    "        t += 1 \n",
    "    return d        \n",
    "\n",
    "def max_rich_club(G):\n",
    "    #rich_club_1=nx.algorithms.rich_club_coefficient(G, normalized=False)\n",
    "    rich_club=rich_club_coeffs(G)\n",
    "    max_i=0\n",
    "    for i in range(len(rich_club)):\n",
    "        if rich_club[i]>rich_club[max_i]:\n",
    "            max_i=i\n",
    "        else:\n",
    "            return rich_club[max_i]"
   ]
  },
  {
   "cell_type": "markdown",
   "metadata": {},
   "source": [
    "## Creacion del Dataframe\n",
    "\n",
    "El siguiente bloque crea todas las metricas de la grafica que usaremos para estudiarlas."
   ]
  },
  {
   "cell_type": "code",
   "execution_count": 6,
   "metadata": {},
   "outputs": [
    {
     "output_type": "execute_result",
     "data": {
      "text/plain": "    Eficiencia Global  Transitividad  Modularidad  Radio  \\\n0            0.342953       0.057235     0.880214      4   \n1            0.374024       0.097466     0.870010      3   \n2            0.349931       0.074597     0.895751      3   \n3            0.358951       0.087683     0.896654      3   \n4            0.343725       0.100840     0.889586      3   \n5            0.523965       0.168224     0.738562      2   \n6            0.329053       0.071940     0.899981      3   \n7            0.353618       0.099850     0.858824      3   \n8            0.347859       0.086497     0.898352      4   \n9            0.345227       0.076463     0.901171      3   \n10           0.339562       0.068998     0.883894      4   \n11           0.353672       0.099436     0.886897      3   \n12           0.362066       0.092191     0.888608      3   \n13           0.332250       0.089525     0.856683      3   \n14           0.346360       0.076287     0.891244      3   \n15           0.334510       0.090101     0.894745      3   \n16           0.333945       0.067504     0.883805      4   \n17           0.342962       0.097516     0.890468      4   \n18           0.345288       0.071358     0.888279      4   \n19           0.341539       0.088617     0.884136      4   \n20           0.351982       0.098457     0.882984      3   \n21           0.339832       0.096737     0.878355      4   \n22           0.340490       0.098970     0.878553      3   \n23           0.339915       0.072289     0.886710      3   \n24           0.345124       0.078062     0.878670      3   \n25           0.360131       0.088102     0.850776      3   \n26           0.345115       0.059416     0.902008      3   \n27           0.345158       0.071057     0.870516      4   \n28           0.323688       0.076832     0.902518      4   \n29           0.339993       0.083490     0.875495      3   \n30           0.324279       0.069809     0.905195      4   \n31           0.341811       0.092350     0.895874      4   \n32           0.345583       0.075048     0.867910      4   \n33           0.332286       0.085017     0.893692      4   \n34           0.330101       0.070734     0.909195      3   \n35           0.345113       0.104327     0.886502      3   \n36           0.344018       0.119756     0.861530      3   \n37           0.334760       0.068720     0.900411      4   \n38           0.330324       0.080336     0.907322      3   \n39           0.349702       0.097686     0.874797      3   \n40           0.344254       0.082919     0.871405      4   \n41           0.345517       0.076574     0.887186      3   \n42           0.345058       0.082542     0.899431      3   \n43           0.352022       0.107547     0.866695      3   \n44           0.345766       0.085974     0.888604      4   \n45           0.337777       0.064407     0.892373      4   \n46           0.320791       0.073628     0.894631      4   \n47           0.343253       0.068199     0.882178      4   \n48           0.339217       0.090580     0.889444      3   \n49           0.361439       0.105811     0.876443      3   \n50           0.346500       0.071476     0.884301      3   \n51           0.334296       0.091548     0.897107      3   \n52           0.363405       0.094436     0.895935      3   \n53           0.350037       0.109182     0.854428      4   \n54           0.335630       0.070529     0.888806      3   \n55           0.323796       0.103428     0.900475      3   \n56           0.336930       0.081503     0.904029      3   \n57           0.343682       0.090655     0.889819      3   \n58           0.355871       0.078274     0.887698      3   \n59           0.339404       0.056229     0.877752      4   \n\n    Rich Club Coefficient  Core Ratio  Central Point Dominance  \\\n0                0.025378    0.741758                    0.117   \n1                0.036981    0.702128                    0.144   \n2                0.027271    0.634731                    0.103   \n3                0.032415    0.723684                    0.119   \n4                0.024983    0.597765                    0.130   \n5                0.156863    0.444444                    0.647   \n6                0.019537    0.593074                    0.119   \n7                0.029377    0.682353                    0.142   \n8                0.029022    0.721893                    0.158   \n9                0.024552    0.685279                    0.113   \n10               0.022222    0.721239                    0.103   \n11               0.029885    0.708571                    0.114   \n12               0.030517    0.730539                    0.180   \n13               0.021778    0.595349                    0.129   \n14               0.024179    0.661692                    0.120   \n15               0.020872    0.621622                    0.123   \n16               0.024620    0.661202                    0.110   \n17               0.028206    0.689024                    0.122   \n18               0.025702    0.729469                    0.091   \n19               0.025676    0.675676                    0.130   \n20               0.029369    0.648148                    0.162   \n21               0.028581    0.671053                    0.242   \n22               0.022308    0.662037                    0.106   \n23               0.022026    0.644860                    0.151   \n24               0.024881    0.689119                    0.126   \n25               0.031633    0.703030                    0.119   \n26               0.025119    0.668675                    0.162   \n27               0.025956    0.733696                    0.109   \n28               0.017782    0.603053                    0.146   \n29               0.023471    0.671569                    0.106   \n30               0.018898    0.658333                    0.114   \n31               0.027820    0.650602                    0.149   \n32               0.024008    0.707317                    0.115   \n33               0.024649    0.664835                    0.115   \n34               0.019888    0.693227                    0.114   \n35               0.026338    0.685714                    0.121   \n36               0.023400    0.567839                    0.126   \n37               0.023806    0.708543                    0.131   \n38               0.021887    0.579487                    0.135   \n39               0.027790    0.587879                    0.203   \n40               0.025745    0.644068                    0.126   \n41               0.024422    0.665000                    0.117   \n42               0.025128    0.673797                    0.143   \n43               0.030163    0.651613                    0.110   \n44               0.027586    0.714286                    0.116   \n45               0.022854    0.671362                    0.126   \n46               0.018997    0.579646                    0.175   \n47               0.024018    0.689119                    0.135   \n48               0.023852    0.658986                    0.139   \n49               0.031924    0.628931                    0.166   \n50               0.025052    0.680412                    0.117   \n51               0.020423    0.583691                    0.109   \n52               0.030820    0.678788                    0.174   \n53               0.029832    0.712644                    0.174   \n54               0.021203    0.634454                    0.096   \n55               0.019366    0.556522                    0.112   \n56               0.022027    0.633028                    0.123   \n57               0.024590    0.635870                    0.158   \n58               0.025396    0.688995                    0.133   \n59               0.022785    0.721973                    0.117   \n\n    Spectral radius  Camino más corto promedio  Diámetro  \n0             1.818                   3.227126         5  \n1             1.785                   2.972036         5  \n2             1.818                   3.183248         5  \n3             1.789                   3.110753         5  \n4             1.796                   3.223024         5  \n5             1.843                   2.169935         3  \n6             1.806                   3.350386         6  \n7             1.794                   3.150365         6  \n8             1.864                   3.214849         6  \n9             1.816                   3.198695         5  \n10            1.800                   3.238348         5  \n11            1.824                   3.154220         6  \n12            1.758                   3.055335         5  \n13            1.823                   3.334927         5  \n14            1.775                   3.182388         6  \n15            1.832                   3.287718         5  \n16            1.840                   3.342161         5  \n17            1.821                   3.261784         6  \n18            1.812                   3.216406         6  \n19            1.811                   3.253878         5  \n20            1.834                   3.161184         5  \n21            1.833                   3.305943         6  \n22            1.780                   3.225495         5  \n23            1.803                   3.235839         5  \n24            1.789                   3.198780         5  \n25            1.774                   3.098744         5  \n26            1.828                   3.205622         5  \n27            1.773                   3.208838         6  \n28            1.841                   3.382674         5  \n29            1.862                   3.261132         6  \n30            1.817                   3.398291         5  \n31            1.837                   3.274991         5  \n32            1.769                   3.177284         5  \n33            1.831                   3.353591         6  \n34            1.802                   3.338709         5  \n35            1.795                   3.208604         5  \n36            1.833                   3.198213         5  \n37            1.832                   3.321202         6  \n38            1.832                   3.345123         5  \n39            1.884                   3.184996         6  \n40            1.797                   3.218798         6  \n41            1.801                   3.203367         6  \n42            1.808                   3.206831         5  \n43            1.796                   3.163720         5  \n44            1.772                   3.221938         6  \n45            1.826                   3.276818         6  \n46            1.841                   3.449322         6  \n47            1.821                   3.216429         6  \n48            1.840                   3.264124         6  \n49            1.814                   3.076109         5  \n50            1.775                   3.193526         5  \n51            1.814                   3.288775         5  \n52            1.774                   3.048633         5  \n53            1.842                   3.184440         6  \n54            1.824                   3.283693         5  \n55            1.822                   3.402316         6  \n56            1.824                   3.271763         5  \n57            1.808                   3.201829         5  \n58            1.763                   3.081478         5  \n59            1.805                   3.257666         6  ",
      "text/html": "<div>\n<style scoped>\n    .dataframe tbody tr th:only-of-type {\n        vertical-align: middle;\n    }\n\n    .dataframe tbody tr th {\n        vertical-align: top;\n    }\n\n    .dataframe thead th {\n        text-align: right;\n    }\n</style>\n<table border=\"1\" class=\"dataframe\">\n  <thead>\n    <tr style=\"text-align: right;\">\n      <th></th>\n      <th>Eficiencia Global</th>\n      <th>Transitividad</th>\n      <th>Modularidad</th>\n      <th>Radio</th>\n      <th>Rich Club Coefficient</th>\n      <th>Core Ratio</th>\n      <th>Central Point Dominance</th>\n      <th>Spectral radius</th>\n      <th>Camino más corto promedio</th>\n      <th>Diámetro</th>\n    </tr>\n  </thead>\n  <tbody>\n    <tr>\n      <th>0</th>\n      <td>0.342953</td>\n      <td>0.057235</td>\n      <td>0.880214</td>\n      <td>4</td>\n      <td>0.025378</td>\n      <td>0.741758</td>\n      <td>0.117</td>\n      <td>1.818</td>\n      <td>3.227126</td>\n      <td>5</td>\n    </tr>\n    <tr>\n      <th>1</th>\n      <td>0.374024</td>\n      <td>0.097466</td>\n      <td>0.870010</td>\n      <td>3</td>\n      <td>0.036981</td>\n      <td>0.702128</td>\n      <td>0.144</td>\n      <td>1.785</td>\n      <td>2.972036</td>\n      <td>5</td>\n    </tr>\n    <tr>\n      <th>2</th>\n      <td>0.349931</td>\n      <td>0.074597</td>\n      <td>0.895751</td>\n      <td>3</td>\n      <td>0.027271</td>\n      <td>0.634731</td>\n      <td>0.103</td>\n      <td>1.818</td>\n      <td>3.183248</td>\n      <td>5</td>\n    </tr>\n    <tr>\n      <th>3</th>\n      <td>0.358951</td>\n      <td>0.087683</td>\n      <td>0.896654</td>\n      <td>3</td>\n      <td>0.032415</td>\n      <td>0.723684</td>\n      <td>0.119</td>\n      <td>1.789</td>\n      <td>3.110753</td>\n      <td>5</td>\n    </tr>\n    <tr>\n      <th>4</th>\n      <td>0.343725</td>\n      <td>0.100840</td>\n      <td>0.889586</td>\n      <td>3</td>\n      <td>0.024983</td>\n      <td>0.597765</td>\n      <td>0.130</td>\n      <td>1.796</td>\n      <td>3.223024</td>\n      <td>5</td>\n    </tr>\n    <tr>\n      <th>5</th>\n      <td>0.523965</td>\n      <td>0.168224</td>\n      <td>0.738562</td>\n      <td>2</td>\n      <td>0.156863</td>\n      <td>0.444444</td>\n      <td>0.647</td>\n      <td>1.843</td>\n      <td>2.169935</td>\n      <td>3</td>\n    </tr>\n    <tr>\n      <th>6</th>\n      <td>0.329053</td>\n      <td>0.071940</td>\n      <td>0.899981</td>\n      <td>3</td>\n      <td>0.019537</td>\n      <td>0.593074</td>\n      <td>0.119</td>\n      <td>1.806</td>\n      <td>3.350386</td>\n      <td>6</td>\n    </tr>\n    <tr>\n      <th>7</th>\n      <td>0.353618</td>\n      <td>0.099850</td>\n      <td>0.858824</td>\n      <td>3</td>\n      <td>0.029377</td>\n      <td>0.682353</td>\n      <td>0.142</td>\n      <td>1.794</td>\n      <td>3.150365</td>\n      <td>6</td>\n    </tr>\n    <tr>\n      <th>8</th>\n      <td>0.347859</td>\n      <td>0.086497</td>\n      <td>0.898352</td>\n      <td>4</td>\n      <td>0.029022</td>\n      <td>0.721893</td>\n      <td>0.158</td>\n      <td>1.864</td>\n      <td>3.214849</td>\n      <td>6</td>\n    </tr>\n    <tr>\n      <th>9</th>\n      <td>0.345227</td>\n      <td>0.076463</td>\n      <td>0.901171</td>\n      <td>3</td>\n      <td>0.024552</td>\n      <td>0.685279</td>\n      <td>0.113</td>\n      <td>1.816</td>\n      <td>3.198695</td>\n      <td>5</td>\n    </tr>\n    <tr>\n      <th>10</th>\n      <td>0.339562</td>\n      <td>0.068998</td>\n      <td>0.883894</td>\n      <td>4</td>\n      <td>0.022222</td>\n      <td>0.721239</td>\n      <td>0.103</td>\n      <td>1.800</td>\n      <td>3.238348</td>\n      <td>5</td>\n    </tr>\n    <tr>\n      <th>11</th>\n      <td>0.353672</td>\n      <td>0.099436</td>\n      <td>0.886897</td>\n      <td>3</td>\n      <td>0.029885</td>\n      <td>0.708571</td>\n      <td>0.114</td>\n      <td>1.824</td>\n      <td>3.154220</td>\n      <td>6</td>\n    </tr>\n    <tr>\n      <th>12</th>\n      <td>0.362066</td>\n      <td>0.092191</td>\n      <td>0.888608</td>\n      <td>3</td>\n      <td>0.030517</td>\n      <td>0.730539</td>\n      <td>0.180</td>\n      <td>1.758</td>\n      <td>3.055335</td>\n      <td>5</td>\n    </tr>\n    <tr>\n      <th>13</th>\n      <td>0.332250</td>\n      <td>0.089525</td>\n      <td>0.856683</td>\n      <td>3</td>\n      <td>0.021778</td>\n      <td>0.595349</td>\n      <td>0.129</td>\n      <td>1.823</td>\n      <td>3.334927</td>\n      <td>5</td>\n    </tr>\n    <tr>\n      <th>14</th>\n      <td>0.346360</td>\n      <td>0.076287</td>\n      <td>0.891244</td>\n      <td>3</td>\n      <td>0.024179</td>\n      <td>0.661692</td>\n      <td>0.120</td>\n      <td>1.775</td>\n      <td>3.182388</td>\n      <td>6</td>\n    </tr>\n    <tr>\n      <th>15</th>\n      <td>0.334510</td>\n      <td>0.090101</td>\n      <td>0.894745</td>\n      <td>3</td>\n      <td>0.020872</td>\n      <td>0.621622</td>\n      <td>0.123</td>\n      <td>1.832</td>\n      <td>3.287718</td>\n      <td>5</td>\n    </tr>\n    <tr>\n      <th>16</th>\n      <td>0.333945</td>\n      <td>0.067504</td>\n      <td>0.883805</td>\n      <td>4</td>\n      <td>0.024620</td>\n      <td>0.661202</td>\n      <td>0.110</td>\n      <td>1.840</td>\n      <td>3.342161</td>\n      <td>5</td>\n    </tr>\n    <tr>\n      <th>17</th>\n      <td>0.342962</td>\n      <td>0.097516</td>\n      <td>0.890468</td>\n      <td>4</td>\n      <td>0.028206</td>\n      <td>0.689024</td>\n      <td>0.122</td>\n      <td>1.821</td>\n      <td>3.261784</td>\n      <td>6</td>\n    </tr>\n    <tr>\n      <th>18</th>\n      <td>0.345288</td>\n      <td>0.071358</td>\n      <td>0.888279</td>\n      <td>4</td>\n      <td>0.025702</td>\n      <td>0.729469</td>\n      <td>0.091</td>\n      <td>1.812</td>\n      <td>3.216406</td>\n      <td>6</td>\n    </tr>\n    <tr>\n      <th>19</th>\n      <td>0.341539</td>\n      <td>0.088617</td>\n      <td>0.884136</td>\n      <td>4</td>\n      <td>0.025676</td>\n      <td>0.675676</td>\n      <td>0.130</td>\n      <td>1.811</td>\n      <td>3.253878</td>\n      <td>5</td>\n    </tr>\n    <tr>\n      <th>20</th>\n      <td>0.351982</td>\n      <td>0.098457</td>\n      <td>0.882984</td>\n      <td>3</td>\n      <td>0.029369</td>\n      <td>0.648148</td>\n      <td>0.162</td>\n      <td>1.834</td>\n      <td>3.161184</td>\n      <td>5</td>\n    </tr>\n    <tr>\n      <th>21</th>\n      <td>0.339832</td>\n      <td>0.096737</td>\n      <td>0.878355</td>\n      <td>4</td>\n      <td>0.028581</td>\n      <td>0.671053</td>\n      <td>0.242</td>\n      <td>1.833</td>\n      <td>3.305943</td>\n      <td>6</td>\n    </tr>\n    <tr>\n      <th>22</th>\n      <td>0.340490</td>\n      <td>0.098970</td>\n      <td>0.878553</td>\n      <td>3</td>\n      <td>0.022308</td>\n      <td>0.662037</td>\n      <td>0.106</td>\n      <td>1.780</td>\n      <td>3.225495</td>\n      <td>5</td>\n    </tr>\n    <tr>\n      <th>23</th>\n      <td>0.339915</td>\n      <td>0.072289</td>\n      <td>0.886710</td>\n      <td>3</td>\n      <td>0.022026</td>\n      <td>0.644860</td>\n      <td>0.151</td>\n      <td>1.803</td>\n      <td>3.235839</td>\n      <td>5</td>\n    </tr>\n    <tr>\n      <th>24</th>\n      <td>0.345124</td>\n      <td>0.078062</td>\n      <td>0.878670</td>\n      <td>3</td>\n      <td>0.024881</td>\n      <td>0.689119</td>\n      <td>0.126</td>\n      <td>1.789</td>\n      <td>3.198780</td>\n      <td>5</td>\n    </tr>\n    <tr>\n      <th>25</th>\n      <td>0.360131</td>\n      <td>0.088102</td>\n      <td>0.850776</td>\n      <td>3</td>\n      <td>0.031633</td>\n      <td>0.703030</td>\n      <td>0.119</td>\n      <td>1.774</td>\n      <td>3.098744</td>\n      <td>5</td>\n    </tr>\n    <tr>\n      <th>26</th>\n      <td>0.345115</td>\n      <td>0.059416</td>\n      <td>0.902008</td>\n      <td>3</td>\n      <td>0.025119</td>\n      <td>0.668675</td>\n      <td>0.162</td>\n      <td>1.828</td>\n      <td>3.205622</td>\n      <td>5</td>\n    </tr>\n    <tr>\n      <th>27</th>\n      <td>0.345158</td>\n      <td>0.071057</td>\n      <td>0.870516</td>\n      <td>4</td>\n      <td>0.025956</td>\n      <td>0.733696</td>\n      <td>0.109</td>\n      <td>1.773</td>\n      <td>3.208838</td>\n      <td>6</td>\n    </tr>\n    <tr>\n      <th>28</th>\n      <td>0.323688</td>\n      <td>0.076832</td>\n      <td>0.902518</td>\n      <td>4</td>\n      <td>0.017782</td>\n      <td>0.603053</td>\n      <td>0.146</td>\n      <td>1.841</td>\n      <td>3.382674</td>\n      <td>5</td>\n    </tr>\n    <tr>\n      <th>29</th>\n      <td>0.339993</td>\n      <td>0.083490</td>\n      <td>0.875495</td>\n      <td>3</td>\n      <td>0.023471</td>\n      <td>0.671569</td>\n      <td>0.106</td>\n      <td>1.862</td>\n      <td>3.261132</td>\n      <td>6</td>\n    </tr>\n    <tr>\n      <th>30</th>\n      <td>0.324279</td>\n      <td>0.069809</td>\n      <td>0.905195</td>\n      <td>4</td>\n      <td>0.018898</td>\n      <td>0.658333</td>\n      <td>0.114</td>\n      <td>1.817</td>\n      <td>3.398291</td>\n      <td>5</td>\n    </tr>\n    <tr>\n      <th>31</th>\n      <td>0.341811</td>\n      <td>0.092350</td>\n      <td>0.895874</td>\n      <td>4</td>\n      <td>0.027820</td>\n      <td>0.650602</td>\n      <td>0.149</td>\n      <td>1.837</td>\n      <td>3.274991</td>\n      <td>5</td>\n    </tr>\n    <tr>\n      <th>32</th>\n      <td>0.345583</td>\n      <td>0.075048</td>\n      <td>0.867910</td>\n      <td>4</td>\n      <td>0.024008</td>\n      <td>0.707317</td>\n      <td>0.115</td>\n      <td>1.769</td>\n      <td>3.177284</td>\n      <td>5</td>\n    </tr>\n    <tr>\n      <th>33</th>\n      <td>0.332286</td>\n      <td>0.085017</td>\n      <td>0.893692</td>\n      <td>4</td>\n      <td>0.024649</td>\n      <td>0.664835</td>\n      <td>0.115</td>\n      <td>1.831</td>\n      <td>3.353591</td>\n      <td>6</td>\n    </tr>\n    <tr>\n      <th>34</th>\n      <td>0.330101</td>\n      <td>0.070734</td>\n      <td>0.909195</td>\n      <td>3</td>\n      <td>0.019888</td>\n      <td>0.693227</td>\n      <td>0.114</td>\n      <td>1.802</td>\n      <td>3.338709</td>\n      <td>5</td>\n    </tr>\n    <tr>\n      <th>35</th>\n      <td>0.345113</td>\n      <td>0.104327</td>\n      <td>0.886502</td>\n      <td>3</td>\n      <td>0.026338</td>\n      <td>0.685714</td>\n      <td>0.121</td>\n      <td>1.795</td>\n      <td>3.208604</td>\n      <td>5</td>\n    </tr>\n    <tr>\n      <th>36</th>\n      <td>0.344018</td>\n      <td>0.119756</td>\n      <td>0.861530</td>\n      <td>3</td>\n      <td>0.023400</td>\n      <td>0.567839</td>\n      <td>0.126</td>\n      <td>1.833</td>\n      <td>3.198213</td>\n      <td>5</td>\n    </tr>\n    <tr>\n      <th>37</th>\n      <td>0.334760</td>\n      <td>0.068720</td>\n      <td>0.900411</td>\n      <td>4</td>\n      <td>0.023806</td>\n      <td>0.708543</td>\n      <td>0.131</td>\n      <td>1.832</td>\n      <td>3.321202</td>\n      <td>6</td>\n    </tr>\n    <tr>\n      <th>38</th>\n      <td>0.330324</td>\n      <td>0.080336</td>\n      <td>0.907322</td>\n      <td>3</td>\n      <td>0.021887</td>\n      <td>0.579487</td>\n      <td>0.135</td>\n      <td>1.832</td>\n      <td>3.345123</td>\n      <td>5</td>\n    </tr>\n    <tr>\n      <th>39</th>\n      <td>0.349702</td>\n      <td>0.097686</td>\n      <td>0.874797</td>\n      <td>3</td>\n      <td>0.027790</td>\n      <td>0.587879</td>\n      <td>0.203</td>\n      <td>1.884</td>\n      <td>3.184996</td>\n      <td>6</td>\n    </tr>\n    <tr>\n      <th>40</th>\n      <td>0.344254</td>\n      <td>0.082919</td>\n      <td>0.871405</td>\n      <td>4</td>\n      <td>0.025745</td>\n      <td>0.644068</td>\n      <td>0.126</td>\n      <td>1.797</td>\n      <td>3.218798</td>\n      <td>6</td>\n    </tr>\n    <tr>\n      <th>41</th>\n      <td>0.345517</td>\n      <td>0.076574</td>\n      <td>0.887186</td>\n      <td>3</td>\n      <td>0.024422</td>\n      <td>0.665000</td>\n      <td>0.117</td>\n      <td>1.801</td>\n      <td>3.203367</td>\n      <td>6</td>\n    </tr>\n    <tr>\n      <th>42</th>\n      <td>0.345058</td>\n      <td>0.082542</td>\n      <td>0.899431</td>\n      <td>3</td>\n      <td>0.025128</td>\n      <td>0.673797</td>\n      <td>0.143</td>\n      <td>1.808</td>\n      <td>3.206831</td>\n      <td>5</td>\n    </tr>\n    <tr>\n      <th>43</th>\n      <td>0.352022</td>\n      <td>0.107547</td>\n      <td>0.866695</td>\n      <td>3</td>\n      <td>0.030163</td>\n      <td>0.651613</td>\n      <td>0.110</td>\n      <td>1.796</td>\n      <td>3.163720</td>\n      <td>5</td>\n    </tr>\n    <tr>\n      <th>44</th>\n      <td>0.345766</td>\n      <td>0.085974</td>\n      <td>0.888604</td>\n      <td>4</td>\n      <td>0.027586</td>\n      <td>0.714286</td>\n      <td>0.116</td>\n      <td>1.772</td>\n      <td>3.221938</td>\n      <td>6</td>\n    </tr>\n    <tr>\n      <th>45</th>\n      <td>0.337777</td>\n      <td>0.064407</td>\n      <td>0.892373</td>\n      <td>4</td>\n      <td>0.022854</td>\n      <td>0.671362</td>\n      <td>0.126</td>\n      <td>1.826</td>\n      <td>3.276818</td>\n      <td>6</td>\n    </tr>\n    <tr>\n      <th>46</th>\n      <td>0.320791</td>\n      <td>0.073628</td>\n      <td>0.894631</td>\n      <td>4</td>\n      <td>0.018997</td>\n      <td>0.579646</td>\n      <td>0.175</td>\n      <td>1.841</td>\n      <td>3.449322</td>\n      <td>6</td>\n    </tr>\n    <tr>\n      <th>47</th>\n      <td>0.343253</td>\n      <td>0.068199</td>\n      <td>0.882178</td>\n      <td>4</td>\n      <td>0.024018</td>\n      <td>0.689119</td>\n      <td>0.135</td>\n      <td>1.821</td>\n      <td>3.216429</td>\n      <td>6</td>\n    </tr>\n    <tr>\n      <th>48</th>\n      <td>0.339217</td>\n      <td>0.090580</td>\n      <td>0.889444</td>\n      <td>3</td>\n      <td>0.023852</td>\n      <td>0.658986</td>\n      <td>0.139</td>\n      <td>1.840</td>\n      <td>3.264124</td>\n      <td>6</td>\n    </tr>\n    <tr>\n      <th>49</th>\n      <td>0.361439</td>\n      <td>0.105811</td>\n      <td>0.876443</td>\n      <td>3</td>\n      <td>0.031924</td>\n      <td>0.628931</td>\n      <td>0.166</td>\n      <td>1.814</td>\n      <td>3.076109</td>\n      <td>5</td>\n    </tr>\n    <tr>\n      <th>50</th>\n      <td>0.346500</td>\n      <td>0.071476</td>\n      <td>0.884301</td>\n      <td>3</td>\n      <td>0.025052</td>\n      <td>0.680412</td>\n      <td>0.117</td>\n      <td>1.775</td>\n      <td>3.193526</td>\n      <td>5</td>\n    </tr>\n    <tr>\n      <th>51</th>\n      <td>0.334296</td>\n      <td>0.091548</td>\n      <td>0.897107</td>\n      <td>3</td>\n      <td>0.020423</td>\n      <td>0.583691</td>\n      <td>0.109</td>\n      <td>1.814</td>\n      <td>3.288775</td>\n      <td>5</td>\n    </tr>\n    <tr>\n      <th>52</th>\n      <td>0.363405</td>\n      <td>0.094436</td>\n      <td>0.895935</td>\n      <td>3</td>\n      <td>0.030820</td>\n      <td>0.678788</td>\n      <td>0.174</td>\n      <td>1.774</td>\n      <td>3.048633</td>\n      <td>5</td>\n    </tr>\n    <tr>\n      <th>53</th>\n      <td>0.350037</td>\n      <td>0.109182</td>\n      <td>0.854428</td>\n      <td>4</td>\n      <td>0.029832</td>\n      <td>0.712644</td>\n      <td>0.174</td>\n      <td>1.842</td>\n      <td>3.184440</td>\n      <td>6</td>\n    </tr>\n    <tr>\n      <th>54</th>\n      <td>0.335630</td>\n      <td>0.070529</td>\n      <td>0.888806</td>\n      <td>3</td>\n      <td>0.021203</td>\n      <td>0.634454</td>\n      <td>0.096</td>\n      <td>1.824</td>\n      <td>3.283693</td>\n      <td>5</td>\n    </tr>\n    <tr>\n      <th>55</th>\n      <td>0.323796</td>\n      <td>0.103428</td>\n      <td>0.900475</td>\n      <td>3</td>\n      <td>0.019366</td>\n      <td>0.556522</td>\n      <td>0.112</td>\n      <td>1.822</td>\n      <td>3.402316</td>\n      <td>6</td>\n    </tr>\n    <tr>\n      <th>56</th>\n      <td>0.336930</td>\n      <td>0.081503</td>\n      <td>0.904029</td>\n      <td>3</td>\n      <td>0.022027</td>\n      <td>0.633028</td>\n      <td>0.123</td>\n      <td>1.824</td>\n      <td>3.271763</td>\n      <td>5</td>\n    </tr>\n    <tr>\n      <th>57</th>\n      <td>0.343682</td>\n      <td>0.090655</td>\n      <td>0.889819</td>\n      <td>3</td>\n      <td>0.024590</td>\n      <td>0.635870</td>\n      <td>0.158</td>\n      <td>1.808</td>\n      <td>3.201829</td>\n      <td>5</td>\n    </tr>\n    <tr>\n      <th>58</th>\n      <td>0.355871</td>\n      <td>0.078274</td>\n      <td>0.887698</td>\n      <td>3</td>\n      <td>0.025396</td>\n      <td>0.688995</td>\n      <td>0.133</td>\n      <td>1.763</td>\n      <td>3.081478</td>\n      <td>5</td>\n    </tr>\n    <tr>\n      <th>59</th>\n      <td>0.339404</td>\n      <td>0.056229</td>\n      <td>0.877752</td>\n      <td>4</td>\n      <td>0.022785</td>\n      <td>0.721973</td>\n      <td>0.117</td>\n      <td>1.805</td>\n      <td>3.257666</td>\n      <td>6</td>\n    </tr>\n  </tbody>\n</table>\n</div>"
     },
     "metadata": {},
     "execution_count": 6
    }
   ],
   "source": [
    "n=len(G)\n",
    "\n",
    "degree = n*[0]\n",
    "diameter = n*[0]\n",
    "radius = n*[0]\n",
    "avg_shortest_path_length = n*[0]\n",
    "transitivity = n*[0]\n",
    "global_efficiency = n*[0]\n",
    "modularity = n*[0]\n",
    "rich_club_coefficient = n*[0]\n",
    "core_rate= n*[0]\n",
    "central_pt = n*[0]\n",
    "spectral_radii = n*[0]\n",
    "modularidad=n*[0]\n",
    "\n",
    "for index in G.keys():\n",
    "    graph=G[index]\n",
    "    \n",
    "    #conseguimos cada parámetro para esta ciudad\n",
    "    diameter[index] =                     nx.diameter(graph)\n",
    "    radius[index] =                       nx.radius(graph)\n",
    "    avg_shortest_path_length[index] =     nx.average_shortest_path_length(graph)\n",
    "    transitivity[index] =                 nx.transitivity(graph)\n",
    "    global_efficiency[index] =            nx.global_efficiency(graph)\n",
    "    #modularidad precomputada\n",
    "    rich_club_coefficient[index] =        max_rich_club(graph)  \n",
    "    core_rate[index]=                     core_ratio(graph)\n",
    "    central_pt[index]=       central_point_dominance(graph)\n",
    "    spectral_radii[index]=               spectral_radius(graph)\n",
    "    modularidad[index]=                  nx.algorithms.community.quality.performance(graph,nx.algorithms.community.modularity_max.greedy_modularity_communities(graph))\n",
    "\n",
    "df=pd.DataFrame()\n",
    "\n",
    "\n",
    "df['Eficiencia Global'] = global_efficiency\n",
    "df['Transitividad'] = transitivity\n",
    "df['Modularidad'] = modularidad\n",
    "df['Radio'] = radius\n",
    "df['Rich Club Coefficient'] = rich_club_coefficient\n",
    "df['Core Ratio'] = core_rate\n",
    "df['Central Point Dominance'] = [round(central_pt[index],3) for index in range(n)]\n",
    "df['Spectral radius'] = [round(spectral_radii[index],3) for index in range(n)]\n",
    "df['Camino más corto promedio'] = avg_shortest_path_length\n",
    "df['Diámetro'] = diameter\n",
    "\n",
    "\n",
    "df"
   ]
  },
  {
   "cell_type": "markdown",
   "metadata": {},
   "source": [
    "## Colaboracion\n",
    "\n",
    "Empezamos analizando las metricas que ya hemos calculado y luego usaremos esta informacion para crear una medida de la colaboracion."
   ]
  },
  {
   "cell_type": "code",
   "execution_count": 7,
   "metadata": {},
   "outputs": [
    {
     "output_type": "execute_result",
     "data": {
      "text/plain": "array([[ 2.23940252e-02,  1.25912046e-02, -1.44222240e-02,\n        -6.13165225e-01,  1.40918328e-02, -3.74787795e-02,\n         5.14193240e-02, -6.13925051e-03, -1.50902318e-01,\n        -7.72077710e-01],\n       [ 3.84826663e-03, -6.97817825e-03, -5.38632460e-03,\n         7.83672548e-01,  5.32340756e-03,  1.96006854e-02,\n         2.08223699e-02, -4.34890629e-04, -6.95955145e-03,\n        -6.20378997e-01],\n       [ 1.41681268e-01,  5.96414923e-02, -1.19025142e-01,\n         8.91220203e-02,  9.30901264e-02,  2.69565836e-03,\n         3.54232647e-01,  2.76576705e-03, -8.95225513e-01,\n         1.36636071e-01],\n       [ 2.57843756e-02,  8.99446877e-02, -6.73104453e-02,\n         1.69181356e-02,  6.92155536e-02, -7.38833342e-01,\n         5.35336886e-01,  3.01932325e-01,  2.40487168e-01,\n         1.34131306e-02],\n       [ 5.22074053e-03, -1.07766307e-01,  1.42840433e-01,\n        -3.77060309e-02,  2.81505889e-02,  6.39325138e-01,\n         6.04203255e-01,  3.81864193e-01,  2.14549106e-01,\n        -9.58073371e-03]])"
     },
     "metadata": {},
     "execution_count": 7
    }
   ],
   "source": [
    "#---------------------------------------------\n",
    "#Preparar escalas y herramientas para el analisis.\n",
    "#---------------------------------------------\n",
    "\n",
    "from sklearn.preprocessing import StandardScaler\n",
    "from sklearn.decomposition import PCA\n",
    "\n",
    "X=df.to_numpy()\n",
    "\n",
    "\n",
    "\n",
    "#normalized= StandardScaler().fit_transform(X)\n",
    "pca=PCA(n_components=5)\n",
    "prin_comp=pca.fit_transform(X)\n",
    "\n",
    "pca.components_"
   ]
  },
  {
   "cell_type": "code",
   "execution_count": 8,
   "metadata": {},
   "outputs": [
    {
     "output_type": "execute_result",
     "data": {
      "text/plain": "<matplotlib.collections.PathCollection at 0x17581926988>"
     },
     "metadata": {},
     "execution_count": 8
    },
    {
     "output_type": "display_data",
     "data": {
      "text/plain": "<Figure size 432x288 with 1 Axes>",
      "image/svg+xml": "<?xml version=\"1.0\" encoding=\"utf-8\" standalone=\"no\"?>\r\n<!DOCTYPE svg PUBLIC \"-//W3C//DTD SVG 1.1//EN\"\r\n  \"http://www.w3.org/Graphics/SVG/1.1/DTD/svg11.dtd\">\r\n<!-- Created with matplotlib (https://matplotlib.org/) -->\r\n<svg height=\"253.498537pt\" version=\"1.1\" viewBox=\"0 0 384.777476 253.498537\" width=\"384.777476pt\" xmlns=\"http://www.w3.org/2000/svg\" xmlns:xlink=\"http://www.w3.org/1999/xlink\">\r\n <defs>\r\n  <style type=\"text/css\">\r\n*{stroke-linecap:butt;stroke-linejoin:round;}\r\n  </style>\r\n </defs>\r\n <g id=\"figure_1\">\r\n  <g id=\"patch_1\">\r\n   <path d=\"M 0 253.498537 \r\nL 384.777476 253.498537 \r\nL 384.777476 0 \r\nL 0 0 \r\nz\r\n\" style=\"fill:#ffffff;\"/>\r\n  </g>\r\n  <g id=\"axes_1\">\r\n   <g id=\"patch_2\">\r\n    <path d=\"M 38.414687 226.738693 \r\nL 373.214688 226.738693 \r\nL 373.214688 9.298693 \r\nL 38.414687 9.298693 \r\nz\r\n\" style=\"fill:#eaeaf2;\"/>\r\n   </g>\r\n   <g id=\"matplotlib.axis_1\">\r\n    <g id=\"xtick_1\">\r\n     <g id=\"line2d_1\">\r\n      <path clip-path=\"url(#p52c32fcb63)\" d=\"M 48.942069 226.738693 \r\nL 48.942069 9.298693 \r\n\" style=\"fill:none;stroke:#ffffff;stroke-linecap:round;\"/>\r\n     </g>\r\n     <g id=\"text_1\">\r\n      <!-- −1.0 -->\r\n      <defs>\r\n       <path d=\"M 52.828125 31.203125 \r\nL 5.5625 31.203125 \r\nL 5.5625 39.40625 \r\nL 52.828125 39.40625 \r\nz\r\n\" id=\"ArialMT-8722\"/>\r\n       <path d=\"M 37.25 0 \r\nL 28.46875 0 \r\nL 28.46875 56 \r\nQ 25.296875 52.984375 20.140625 49.953125 \r\nQ 14.984375 46.921875 10.890625 45.40625 \r\nL 10.890625 53.90625 \r\nQ 18.265625 57.375 23.78125 62.296875 \r\nQ 29.296875 67.234375 31.59375 71.875 \r\nL 37.25 71.875 \r\nz\r\n\" id=\"ArialMT-49\"/>\r\n       <path d=\"M 9.078125 0 \r\nL 9.078125 10.015625 \r\nL 19.09375 10.015625 \r\nL 19.09375 0 \r\nz\r\n\" id=\"ArialMT-46\"/>\r\n       <path d=\"M 4.15625 35.296875 \r\nQ 4.15625 48 6.765625 55.734375 \r\nQ 9.375 63.484375 14.515625 67.671875 \r\nQ 19.671875 71.875 27.484375 71.875 \r\nQ 33.25 71.875 37.59375 69.546875 \r\nQ 41.9375 67.234375 44.765625 62.859375 \r\nQ 47.609375 58.5 49.21875 52.21875 \r\nQ 50.828125 45.953125 50.828125 35.296875 \r\nQ 50.828125 22.703125 48.234375 14.96875 \r\nQ 45.65625 7.234375 40.5 3 \r\nQ 35.359375 -1.21875 27.484375 -1.21875 \r\nQ 17.140625 -1.21875 11.234375 6.203125 \r\nQ 4.15625 15.140625 4.15625 35.296875 \r\nz\r\nM 13.1875 35.296875 \r\nQ 13.1875 17.671875 17.3125 11.828125 \r\nQ 21.4375 6 27.484375 6 \r\nQ 33.546875 6 37.671875 11.859375 \r\nQ 41.796875 17.71875 41.796875 35.296875 \r\nQ 41.796875 52.984375 37.671875 58.78125 \r\nQ 33.546875 64.59375 27.390625 64.59375 \r\nQ 21.34375 64.59375 17.71875 59.46875 \r\nQ 13.1875 52.9375 13.1875 35.296875 \r\nz\r\n\" id=\"ArialMT-48\"/>\r\n      </defs>\r\n      <g style=\"fill:#262626;\" transform=\"translate(38.084725 244.112287)scale(0.11 -0.11)\">\r\n       <use xlink:href=\"#ArialMT-8722\"/>\r\n       <use x=\"58.398438\" xlink:href=\"#ArialMT-49\"/>\r\n       <use x=\"114.013672\" xlink:href=\"#ArialMT-46\"/>\r\n       <use x=\"141.796875\" xlink:href=\"#ArialMT-48\"/>\r\n      </g>\r\n     </g>\r\n    </g>\r\n    <g id=\"xtick_2\">\r\n     <g id=\"line2d_2\">\r\n      <path clip-path=\"url(#p52c32fcb63)\" d=\"M 89.06587 226.738693 \r\nL 89.06587 9.298693 \r\n\" style=\"fill:none;stroke:#ffffff;stroke-linecap:round;\"/>\r\n     </g>\r\n     <g id=\"text_2\">\r\n      <!-- −0.5 -->\r\n      <defs>\r\n       <path d=\"M 4.15625 18.75 \r\nL 13.375 19.53125 \r\nQ 14.40625 12.796875 18.140625 9.390625 \r\nQ 21.875 6 27.15625 6 \r\nQ 33.5 6 37.890625 10.78125 \r\nQ 42.28125 15.578125 42.28125 23.484375 \r\nQ 42.28125 31 38.0625 35.34375 \r\nQ 33.84375 39.703125 27 39.703125 \r\nQ 22.75 39.703125 19.328125 37.765625 \r\nQ 15.921875 35.84375 13.96875 32.765625 \r\nL 5.71875 33.84375 \r\nL 12.640625 70.609375 \r\nL 48.25 70.609375 \r\nL 48.25 62.203125 \r\nL 19.671875 62.203125 \r\nL 15.828125 42.96875 \r\nQ 22.265625 47.46875 29.34375 47.46875 \r\nQ 38.71875 47.46875 45.15625 40.96875 \r\nQ 51.609375 34.46875 51.609375 24.265625 \r\nQ 51.609375 14.546875 45.953125 7.46875 \r\nQ 39.0625 -1.21875 27.15625 -1.21875 \r\nQ 17.390625 -1.21875 11.203125 4.25 \r\nQ 5.03125 9.71875 4.15625 18.75 \r\nz\r\n\" id=\"ArialMT-53\"/>\r\n      </defs>\r\n      <g style=\"fill:#262626;\" transform=\"translate(78.208526 244.112287)scale(0.11 -0.11)\">\r\n       <use xlink:href=\"#ArialMT-8722\"/>\r\n       <use x=\"58.398438\" xlink:href=\"#ArialMT-48\"/>\r\n       <use x=\"114.013672\" xlink:href=\"#ArialMT-46\"/>\r\n       <use x=\"141.796875\" xlink:href=\"#ArialMT-53\"/>\r\n      </g>\r\n     </g>\r\n    </g>\r\n    <g id=\"xtick_3\">\r\n     <g id=\"line2d_3\">\r\n      <path clip-path=\"url(#p52c32fcb63)\" d=\"M 129.189671 226.738693 \r\nL 129.189671 9.298693 \r\n\" style=\"fill:none;stroke:#ffffff;stroke-linecap:round;\"/>\r\n     </g>\r\n     <g id=\"text_3\">\r\n      <!-- 0.0 -->\r\n      <g style=\"fill:#262626;\" transform=\"translate(121.544671 244.112287)scale(0.11 -0.11)\">\r\n       <use xlink:href=\"#ArialMT-48\"/>\r\n       <use x=\"55.615234\" xlink:href=\"#ArialMT-46\"/>\r\n       <use x=\"83.398438\" xlink:href=\"#ArialMT-48\"/>\r\n      </g>\r\n     </g>\r\n    </g>\r\n    <g id=\"xtick_4\">\r\n     <g id=\"line2d_4\">\r\n      <path clip-path=\"url(#p52c32fcb63)\" d=\"M 169.313472 226.738693 \r\nL 169.313472 9.298693 \r\n\" style=\"fill:none;stroke:#ffffff;stroke-linecap:round;\"/>\r\n     </g>\r\n     <g id=\"text_4\">\r\n      <!-- 0.5 -->\r\n      <g style=\"fill:#262626;\" transform=\"translate(161.668472 244.112287)scale(0.11 -0.11)\">\r\n       <use xlink:href=\"#ArialMT-48\"/>\r\n       <use x=\"55.615234\" xlink:href=\"#ArialMT-46\"/>\r\n       <use x=\"83.398438\" xlink:href=\"#ArialMT-53\"/>\r\n      </g>\r\n     </g>\r\n    </g>\r\n    <g id=\"xtick_5\">\r\n     <g id=\"line2d_5\">\r\n      <path clip-path=\"url(#p52c32fcb63)\" d=\"M 209.437273 226.738693 \r\nL 209.437273 9.298693 \r\n\" style=\"fill:none;stroke:#ffffff;stroke-linecap:round;\"/>\r\n     </g>\r\n     <g id=\"text_5\">\r\n      <!-- 1.0 -->\r\n      <g style=\"fill:#262626;\" transform=\"translate(201.792273 244.112287)scale(0.11 -0.11)\">\r\n       <use xlink:href=\"#ArialMT-49\"/>\r\n       <use x=\"55.615234\" xlink:href=\"#ArialMT-46\"/>\r\n       <use x=\"83.398438\" xlink:href=\"#ArialMT-48\"/>\r\n      </g>\r\n     </g>\r\n    </g>\r\n    <g id=\"xtick_6\">\r\n     <g id=\"line2d_6\">\r\n      <path clip-path=\"url(#p52c32fcb63)\" d=\"M 249.561074 226.738693 \r\nL 249.561074 9.298693 \r\n\" style=\"fill:none;stroke:#ffffff;stroke-linecap:round;\"/>\r\n     </g>\r\n     <g id=\"text_6\">\r\n      <!-- 1.5 -->\r\n      <g style=\"fill:#262626;\" transform=\"translate(241.916074 244.112287)scale(0.11 -0.11)\">\r\n       <use xlink:href=\"#ArialMT-49\"/>\r\n       <use x=\"55.615234\" xlink:href=\"#ArialMT-46\"/>\r\n       <use x=\"83.398438\" xlink:href=\"#ArialMT-53\"/>\r\n      </g>\r\n     </g>\r\n    </g>\r\n    <g id=\"xtick_7\">\r\n     <g id=\"line2d_7\">\r\n      <path clip-path=\"url(#p52c32fcb63)\" d=\"M 289.684874 226.738693 \r\nL 289.684874 9.298693 \r\n\" style=\"fill:none;stroke:#ffffff;stroke-linecap:round;\"/>\r\n     </g>\r\n     <g id=\"text_7\">\r\n      <!-- 2.0 -->\r\n      <defs>\r\n       <path d=\"M 50.34375 8.453125 \r\nL 50.34375 0 \r\nL 3.03125 0 \r\nQ 2.9375 3.171875 4.046875 6.109375 \r\nQ 5.859375 10.9375 9.828125 15.625 \r\nQ 13.8125 20.3125 21.34375 26.46875 \r\nQ 33.015625 36.03125 37.109375 41.625 \r\nQ 41.21875 47.21875 41.21875 52.203125 \r\nQ 41.21875 57.421875 37.46875 61 \r\nQ 33.734375 64.59375 27.734375 64.59375 \r\nQ 21.390625 64.59375 17.578125 60.78125 \r\nQ 13.765625 56.984375 13.71875 50.25 \r\nL 4.6875 51.171875 \r\nQ 5.609375 61.28125 11.65625 66.578125 \r\nQ 17.71875 71.875 27.9375 71.875 \r\nQ 38.234375 71.875 44.234375 66.15625 \r\nQ 50.25 60.453125 50.25 52 \r\nQ 50.25 47.703125 48.484375 43.546875 \r\nQ 46.734375 39.40625 42.65625 34.8125 \r\nQ 38.578125 30.21875 29.109375 22.21875 \r\nQ 21.1875 15.578125 18.9375 13.203125 \r\nQ 16.703125 10.84375 15.234375 8.453125 \r\nz\r\n\" id=\"ArialMT-50\"/>\r\n      </defs>\r\n      <g style=\"fill:#262626;\" transform=\"translate(282.039874 244.112287)scale(0.11 -0.11)\">\r\n       <use xlink:href=\"#ArialMT-50\"/>\r\n       <use x=\"55.615234\" xlink:href=\"#ArialMT-46\"/>\r\n       <use x=\"83.398438\" xlink:href=\"#ArialMT-48\"/>\r\n      </g>\r\n     </g>\r\n    </g>\r\n    <g id=\"xtick_8\">\r\n     <g id=\"line2d_8\">\r\n      <path clip-path=\"url(#p52c32fcb63)\" d=\"M 329.808675 226.738693 \r\nL 329.808675 9.298693 \r\n\" style=\"fill:none;stroke:#ffffff;stroke-linecap:round;\"/>\r\n     </g>\r\n     <g id=\"text_8\">\r\n      <!-- 2.5 -->\r\n      <g style=\"fill:#262626;\" transform=\"translate(322.163675 244.112287)scale(0.11 -0.11)\">\r\n       <use xlink:href=\"#ArialMT-50\"/>\r\n       <use x=\"55.615234\" xlink:href=\"#ArialMT-46\"/>\r\n       <use x=\"83.398438\" xlink:href=\"#ArialMT-53\"/>\r\n      </g>\r\n     </g>\r\n    </g>\r\n    <g id=\"xtick_9\">\r\n     <g id=\"line2d_9\">\r\n      <path clip-path=\"url(#p52c32fcb63)\" d=\"M 369.932476 226.738693 \r\nL 369.932476 9.298693 \r\n\" style=\"fill:none;stroke:#ffffff;stroke-linecap:round;\"/>\r\n     </g>\r\n     <g id=\"text_9\">\r\n      <!-- 3.0 -->\r\n      <defs>\r\n       <path d=\"M 4.203125 18.890625 \r\nL 12.984375 20.0625 \r\nQ 14.5 12.59375 18.140625 9.296875 \r\nQ 21.78125 6 27 6 \r\nQ 33.203125 6 37.46875 10.296875 \r\nQ 41.75 14.59375 41.75 20.953125 \r\nQ 41.75 27 37.796875 30.921875 \r\nQ 33.84375 34.859375 27.734375 34.859375 \r\nQ 25.25 34.859375 21.53125 33.890625 \r\nL 22.515625 41.609375 \r\nQ 23.390625 41.5 23.921875 41.5 \r\nQ 29.546875 41.5 34.03125 44.421875 \r\nQ 38.53125 47.359375 38.53125 53.46875 \r\nQ 38.53125 58.296875 35.25 61.46875 \r\nQ 31.984375 64.65625 26.8125 64.65625 \r\nQ 21.6875 64.65625 18.265625 61.421875 \r\nQ 14.84375 58.203125 13.875 51.765625 \r\nL 5.078125 53.328125 \r\nQ 6.6875 62.15625 12.390625 67.015625 \r\nQ 18.109375 71.875 26.609375 71.875 \r\nQ 32.46875 71.875 37.390625 69.359375 \r\nQ 42.328125 66.84375 44.9375 62.5 \r\nQ 47.5625 58.15625 47.5625 53.265625 \r\nQ 47.5625 48.640625 45.0625 44.828125 \r\nQ 42.578125 41.015625 37.703125 38.765625 \r\nQ 44.046875 37.3125 47.5625 32.6875 \r\nQ 51.078125 28.078125 51.078125 21.140625 \r\nQ 51.078125 11.765625 44.234375 5.25 \r\nQ 37.40625 -1.265625 26.953125 -1.265625 \r\nQ 17.53125 -1.265625 11.296875 4.34375 \r\nQ 5.078125 9.96875 4.203125 18.890625 \r\nz\r\n\" id=\"ArialMT-51\"/>\r\n      </defs>\r\n      <g style=\"fill:#262626;\" transform=\"translate(362.287476 244.112287)scale(0.11 -0.11)\">\r\n       <use xlink:href=\"#ArialMT-51\"/>\r\n       <use x=\"55.615234\" xlink:href=\"#ArialMT-46\"/>\r\n       <use x=\"83.398438\" xlink:href=\"#ArialMT-48\"/>\r\n      </g>\r\n     </g>\r\n    </g>\r\n   </g>\r\n   <g id=\"matplotlib.axis_2\">\r\n    <g id=\"ytick_1\">\r\n     <g id=\"line2d_10\">\r\n      <path clip-path=\"url(#p52c32fcb63)\" d=\"M 38.414687 203.701281 \r\nL 373.214688 203.701281 \r\n\" style=\"fill:none;stroke:#ffffff;stroke-linecap:round;\"/>\r\n     </g>\r\n     <g id=\"text_10\">\r\n      <!-- −0.6 -->\r\n      <defs>\r\n       <path d=\"M 49.75 54.046875 \r\nL 41.015625 53.375 \r\nQ 39.84375 58.546875 37.703125 60.890625 \r\nQ 34.125 64.65625 28.90625 64.65625 \r\nQ 24.703125 64.65625 21.53125 62.3125 \r\nQ 17.390625 59.28125 14.984375 53.46875 \r\nQ 12.59375 47.65625 12.5 36.921875 \r\nQ 15.671875 41.75 20.265625 44.09375 \r\nQ 24.859375 46.4375 29.890625 46.4375 \r\nQ 38.671875 46.4375 44.84375 39.96875 \r\nQ 51.03125 33.5 51.03125 23.25 \r\nQ 51.03125 16.5 48.125 10.71875 \r\nQ 45.21875 4.9375 40.140625 1.859375 \r\nQ 35.0625 -1.21875 28.609375 -1.21875 \r\nQ 17.625 -1.21875 10.6875 6.859375 \r\nQ 3.765625 14.9375 3.765625 33.5 \r\nQ 3.765625 54.25 11.421875 63.671875 \r\nQ 18.109375 71.875 29.4375 71.875 \r\nQ 37.890625 71.875 43.28125 67.140625 \r\nQ 48.6875 62.40625 49.75 54.046875 \r\nz\r\nM 13.875 23.1875 \r\nQ 13.875 18.65625 15.796875 14.5 \r\nQ 17.71875 10.359375 21.1875 8.171875 \r\nQ 24.65625 6 28.46875 6 \r\nQ 34.03125 6 38.03125 10.484375 \r\nQ 42.046875 14.984375 42.046875 22.703125 \r\nQ 42.046875 30.125 38.078125 34.390625 \r\nQ 34.125 38.671875 28.125 38.671875 \r\nQ 22.171875 38.671875 18.015625 34.390625 \r\nQ 13.875 30.125 13.875 23.1875 \r\nz\r\n\" id=\"ArialMT-54\"/>\r\n      </defs>\r\n      <g style=\"fill:#262626;\" transform=\"translate(7.2 207.638078)scale(0.11 -0.11)\">\r\n       <use xlink:href=\"#ArialMT-8722\"/>\r\n       <use x=\"58.398438\" xlink:href=\"#ArialMT-48\"/>\r\n       <use x=\"114.013672\" xlink:href=\"#ArialMT-46\"/>\r\n       <use x=\"141.796875\" xlink:href=\"#ArialMT-54\"/>\r\n      </g>\r\n     </g>\r\n    </g>\r\n    <g id=\"ytick_2\">\r\n     <g id=\"line2d_11\">\r\n      <path clip-path=\"url(#p52c32fcb63)\" d=\"M 38.414687 176.192069 \r\nL 373.214688 176.192069 \r\n\" style=\"fill:none;stroke:#ffffff;stroke-linecap:round;\"/>\r\n     </g>\r\n     <g id=\"text_11\">\r\n      <!-- −0.4 -->\r\n      <defs>\r\n       <path d=\"M 32.328125 0 \r\nL 32.328125 17.140625 \r\nL 1.265625 17.140625 \r\nL 1.265625 25.203125 \r\nL 33.9375 71.578125 \r\nL 41.109375 71.578125 \r\nL 41.109375 25.203125 \r\nL 50.78125 25.203125 \r\nL 50.78125 17.140625 \r\nL 41.109375 17.140625 \r\nL 41.109375 0 \r\nz\r\nM 32.328125 25.203125 \r\nL 32.328125 57.46875 \r\nL 9.90625 25.203125 \r\nz\r\n\" id=\"ArialMT-52\"/>\r\n      </defs>\r\n      <g style=\"fill:#262626;\" transform=\"translate(7.2 180.128866)scale(0.11 -0.11)\">\r\n       <use xlink:href=\"#ArialMT-8722\"/>\r\n       <use x=\"58.398438\" xlink:href=\"#ArialMT-48\"/>\r\n       <use x=\"114.013672\" xlink:href=\"#ArialMT-46\"/>\r\n       <use x=\"141.796875\" xlink:href=\"#ArialMT-52\"/>\r\n      </g>\r\n     </g>\r\n    </g>\r\n    <g id=\"ytick_3\">\r\n     <g id=\"line2d_12\">\r\n      <path clip-path=\"url(#p52c32fcb63)\" d=\"M 38.414687 148.682857 \r\nL 373.214688 148.682857 \r\n\" style=\"fill:none;stroke:#ffffff;stroke-linecap:round;\"/>\r\n     </g>\r\n     <g id=\"text_12\">\r\n      <!-- −0.2 -->\r\n      <g style=\"fill:#262626;\" transform=\"translate(7.2 152.619654)scale(0.11 -0.11)\">\r\n       <use xlink:href=\"#ArialMT-8722\"/>\r\n       <use x=\"58.398438\" xlink:href=\"#ArialMT-48\"/>\r\n       <use x=\"114.013672\" xlink:href=\"#ArialMT-46\"/>\r\n       <use x=\"141.796875\" xlink:href=\"#ArialMT-50\"/>\r\n      </g>\r\n     </g>\r\n    </g>\r\n    <g id=\"ytick_4\">\r\n     <g id=\"line2d_13\">\r\n      <path clip-path=\"url(#p52c32fcb63)\" d=\"M 38.414687 121.173645 \r\nL 373.214688 121.173645 \r\n\" style=\"fill:none;stroke:#ffffff;stroke-linecap:round;\"/>\r\n     </g>\r\n     <g id=\"text_13\">\r\n      <!-- 0.0 -->\r\n      <g style=\"fill:#262626;\" transform=\"translate(13.624687 125.110442)scale(0.11 -0.11)\">\r\n       <use xlink:href=\"#ArialMT-48\"/>\r\n       <use x=\"55.615234\" xlink:href=\"#ArialMT-46\"/>\r\n       <use x=\"83.398438\" xlink:href=\"#ArialMT-48\"/>\r\n      </g>\r\n     </g>\r\n    </g>\r\n    <g id=\"ytick_5\">\r\n     <g id=\"line2d_14\">\r\n      <path clip-path=\"url(#p52c32fcb63)\" d=\"M 38.414687 93.664433 \r\nL 373.214688 93.664433 \r\n\" style=\"fill:none;stroke:#ffffff;stroke-linecap:round;\"/>\r\n     </g>\r\n     <g id=\"text_14\">\r\n      <!-- 0.2 -->\r\n      <g style=\"fill:#262626;\" transform=\"translate(13.624687 97.60123)scale(0.11 -0.11)\">\r\n       <use xlink:href=\"#ArialMT-48\"/>\r\n       <use x=\"55.615234\" xlink:href=\"#ArialMT-46\"/>\r\n       <use x=\"83.398438\" xlink:href=\"#ArialMT-50\"/>\r\n      </g>\r\n     </g>\r\n    </g>\r\n    <g id=\"ytick_6\">\r\n     <g id=\"line2d_15\">\r\n      <path clip-path=\"url(#p52c32fcb63)\" d=\"M 38.414687 66.155221 \r\nL 373.214688 66.155221 \r\n\" style=\"fill:none;stroke:#ffffff;stroke-linecap:round;\"/>\r\n     </g>\r\n     <g id=\"text_15\">\r\n      <!-- 0.4 -->\r\n      <g style=\"fill:#262626;\" transform=\"translate(13.624687 70.092018)scale(0.11 -0.11)\">\r\n       <use xlink:href=\"#ArialMT-48\"/>\r\n       <use x=\"55.615234\" xlink:href=\"#ArialMT-46\"/>\r\n       <use x=\"83.398438\" xlink:href=\"#ArialMT-52\"/>\r\n      </g>\r\n     </g>\r\n    </g>\r\n    <g id=\"ytick_7\">\r\n     <g id=\"line2d_16\">\r\n      <path clip-path=\"url(#p52c32fcb63)\" d=\"M 38.414687 38.646009 \r\nL 373.214688 38.646009 \r\n\" style=\"fill:none;stroke:#ffffff;stroke-linecap:round;\"/>\r\n     </g>\r\n     <g id=\"text_16\">\r\n      <!-- 0.6 -->\r\n      <g style=\"fill:#262626;\" transform=\"translate(13.624687 42.582806)scale(0.11 -0.11)\">\r\n       <use xlink:href=\"#ArialMT-48\"/>\r\n       <use x=\"55.615234\" xlink:href=\"#ArialMT-46\"/>\r\n       <use x=\"83.398438\" xlink:href=\"#ArialMT-54\"/>\r\n      </g>\r\n     </g>\r\n    </g>\r\n    <g id=\"ytick_8\">\r\n     <g id=\"line2d_17\">\r\n      <path clip-path=\"url(#p52c32fcb63)\" d=\"M 38.414687 11.136797 \r\nL 373.214688 11.136797 \r\n\" style=\"fill:none;stroke:#ffffff;stroke-linecap:round;\"/>\r\n     </g>\r\n     <g id=\"text_17\">\r\n      <!-- 0.8 -->\r\n      <defs>\r\n       <path d=\"M 17.671875 38.8125 \r\nQ 12.203125 40.828125 9.5625 44.53125 \r\nQ 6.9375 48.25 6.9375 53.421875 \r\nQ 6.9375 61.234375 12.546875 66.546875 \r\nQ 18.171875 71.875 27.484375 71.875 \r\nQ 36.859375 71.875 42.578125 66.421875 \r\nQ 48.296875 60.984375 48.296875 53.171875 \r\nQ 48.296875 48.1875 45.671875 44.5 \r\nQ 43.0625 40.828125 37.75 38.8125 \r\nQ 44.34375 36.671875 47.78125 31.875 \r\nQ 51.21875 27.09375 51.21875 20.453125 \r\nQ 51.21875 11.28125 44.71875 5.03125 \r\nQ 38.234375 -1.21875 27.640625 -1.21875 \r\nQ 17.046875 -1.21875 10.546875 5.046875 \r\nQ 4.046875 11.328125 4.046875 20.703125 \r\nQ 4.046875 27.6875 7.59375 32.390625 \r\nQ 11.140625 37.109375 17.671875 38.8125 \r\nz\r\nM 15.921875 53.71875 \r\nQ 15.921875 48.640625 19.1875 45.40625 \r\nQ 22.46875 42.1875 27.6875 42.1875 \r\nQ 32.765625 42.1875 36.015625 45.375 \r\nQ 39.265625 48.578125 39.265625 53.21875 \r\nQ 39.265625 58.0625 35.90625 61.359375 \r\nQ 32.5625 64.65625 27.59375 64.65625 \r\nQ 22.5625 64.65625 19.234375 61.421875 \r\nQ 15.921875 58.203125 15.921875 53.71875 \r\nz\r\nM 13.09375 20.65625 \r\nQ 13.09375 16.890625 14.875 13.375 \r\nQ 16.65625 9.859375 20.171875 7.921875 \r\nQ 23.6875 6 27.734375 6 \r\nQ 34.03125 6 38.125 10.046875 \r\nQ 42.234375 14.109375 42.234375 20.359375 \r\nQ 42.234375 26.703125 38.015625 30.859375 \r\nQ 33.796875 35.015625 27.4375 35.015625 \r\nQ 21.234375 35.015625 17.15625 30.90625 \r\nQ 13.09375 26.8125 13.09375 20.65625 \r\nz\r\n\" id=\"ArialMT-56\"/>\r\n      </defs>\r\n      <g style=\"fill:#262626;\" transform=\"translate(13.624687 15.073594)scale(0.11 -0.11)\">\r\n       <use xlink:href=\"#ArialMT-48\"/>\r\n       <use x=\"55.615234\" xlink:href=\"#ArialMT-46\"/>\r\n       <use x=\"83.398438\" xlink:href=\"#ArialMT-56\"/>\r\n      </g>\r\n     </g>\r\n    </g>\r\n   </g>\r\n   <g id=\"PathCollection_1\">\r\n    <defs>\r\n     <path d=\"M 0 3 \r\nC 0.795609 3 1.55874 2.683901 2.12132 2.12132 \r\nC 2.683901 1.55874 3 0.795609 3 0 \r\nC 3 -0.795609 2.683901 -1.55874 2.12132 -2.12132 \r\nC 1.55874 -2.683901 0.795609 -3 0 -3 \r\nC -0.795609 -3 -1.55874 -2.683901 -2.12132 -2.12132 \r\nC -2.683901 -1.55874 -3 -0.795609 -3 0 \r\nC -3 0.795609 -2.683901 1.55874 -2.12132 2.12132 \r\nC -1.55874 2.683901 -0.795609 3 0 3 \r\nz\r\n\" id=\"mc0628b89f1\" style=\"stroke:#4c72b0;\"/>\r\n    </defs>\r\n    <g clip-path=\"url(#p52c32fcb63)\">\r\n     <use style=\"fill:#4c72b0;stroke:#4c72b0;\" x=\"118.331608\" xlink:href=\"#mc0628b89f1\" y=\"21.08004\"/>\r\n     <use style=\"fill:#4c72b0;stroke:#4c72b0;\" x=\"170.993948\" xlink:href=\"#mc0628b89f1\" y=\"128.660579\"/>\r\n     <use style=\"fill:#4c72b0;stroke:#4c72b0;\" x=\"168.346365\" xlink:href=\"#mc0628b89f1\" y=\"129.180847\"/>\r\n     <use style=\"fill:#4c72b0;stroke:#4c72b0;\" x=\"169.071222\" xlink:href=\"#mc0628b89f1\" y=\"128.82876\"/>\r\n     <use style=\"fill:#4c72b0;stroke:#4c72b0;\" x=\"168.118025\" xlink:href=\"#mc0628b89f1\" y=\"129.265519\"/>\r\n     <use style=\"fill:#4c72b0;stroke:#4c72b0;\" x=\"357.277441\" xlink:href=\"#mc0628b89f1\" y=\"64.083415\"/>\r\n     <use style=\"fill:#4c72b0;stroke:#4c72b0;\" x=\"104.508388\" xlink:href=\"#mc0628b89f1\" y=\"214.75459\"/>\r\n     <use style=\"fill:#4c72b0;stroke:#4c72b0;\" x=\"106.893952\" xlink:href=\"#mc0628b89f1\" y=\"214.23192\"/>\r\n     <use style=\"fill:#4c72b0;stroke:#4c72b0;\" x=\"56.750666\" xlink:href=\"#mc0628b89f1\" y=\"106.374115\"/>\r\n     <use style=\"fill:#4c72b0;stroke:#4c72b0;\" x=\"168.033614\" xlink:href=\"#mc0628b89f1\" y=\"129.040882\"/>\r\n     <use style=\"fill:#4c72b0;stroke:#4c72b0;\" x=\"118.206496\" xlink:href=\"#mc0628b89f1\" y=\"21.203244\"/>\r\n     <use style=\"fill:#4c72b0;stroke:#4c72b0;\" x=\"106.605868\" xlink:href=\"#mc0628b89f1\" y=\"214.266913\"/>\r\n     <use style=\"fill:#4c72b0;stroke:#4c72b0;\" x=\"170.005985\" xlink:href=\"#mc0628b89f1\" y=\"128.578778\"/>\r\n     <use style=\"fill:#4c72b0;stroke:#4c72b0;\" x=\"166.755172\" xlink:href=\"#mc0628b89f1\" y=\"129.356816\"/>\r\n     <use style=\"fill:#4c72b0;stroke:#4c72b0;\" x=\"106.406645\" xlink:href=\"#mc0628b89f1\" y=\"214.3892\"/>\r\n     <use style=\"fill:#4c72b0;stroke:#4c72b0;\" x=\"167.178218\" xlink:href=\"#mc0628b89f1\" y=\"129.286734\"/>\r\n     <use style=\"fill:#4c72b0;stroke:#4c72b0;\" x=\"117.130328\" xlink:href=\"#mc0628b89f1\" y=\"21.446541\"/>\r\n     <use style=\"fill:#4c72b0;stroke:#4c72b0;\" x=\"56.164342\" xlink:href=\"#mc0628b89f1\" y=\"106.616117\"/>\r\n     <use style=\"fill:#4c72b0;stroke:#4c72b0;\" x=\"56.446172\" xlink:href=\"#mc0628b89f1\" y=\"106.525762\"/>\r\n     <use style=\"fill:#4c72b0;stroke:#4c72b0;\" x=\"118.288466\" xlink:href=\"#mc0628b89f1\" y=\"21.279713\"/>\r\n     <use style=\"fill:#4c72b0;stroke:#4c72b0;\" x=\"168.853704\" xlink:href=\"#mc0628b89f1\" y=\"128.966353\"/>\r\n     <use style=\"fill:#4c72b0;stroke:#4c72b0;\" x=\"56.180919\" xlink:href=\"#mc0628b89f1\" y=\"106.355534\"/>\r\n     <use style=\"fill:#4c72b0;stroke:#4c72b0;\" x=\"167.805695\" xlink:href=\"#mc0628b89f1\" y=\"129.156089\"/>\r\n     <use style=\"fill:#4c72b0;stroke:#4c72b0;\" x=\"167.868701\" xlink:href=\"#mc0628b89f1\" y=\"129.065739\"/>\r\n     <use style=\"fill:#4c72b0;stroke:#4c72b0;\" x=\"168.115817\" xlink:href=\"#mc0628b89f1\" y=\"128.976441\"/>\r\n     <use style=\"fill:#4c72b0;stroke:#4c72b0;\" x=\"169.340915\" xlink:href=\"#mc0628b89f1\" y=\"128.838411\"/>\r\n     <use style=\"fill:#4c72b0;stroke:#4c72b0;\" x=\"168.178183\" xlink:href=\"#mc0628b89f1\" y=\"128.936562\"/>\r\n     <use style=\"fill:#4c72b0;stroke:#4c72b0;\" x=\"56.638901\" xlink:href=\"#mc0628b89f1\" y=\"106.439668\"/>\r\n     <use style=\"fill:#4c72b0;stroke:#4c72b0;\" x=\"116.924273\" xlink:href=\"#mc0628b89f1\" y=\"21.572299\"/>\r\n     <use style=\"fill:#4c72b0;stroke:#4c72b0;\" x=\"105.33602\" xlink:href=\"#mc0628b89f1\" y=\"214.482385\"/>\r\n     <use style=\"fill:#4c72b0;stroke:#4c72b0;\" x=\"116.440804\" xlink:href=\"#mc0628b89f1\" y=\"21.522541\"/>\r\n     <use style=\"fill:#4c72b0;stroke:#4c72b0;\" x=\"118.166895\" xlink:href=\"#mc0628b89f1\" y=\"21.325225\"/>\r\n     <use style=\"fill:#4c72b0;stroke:#4c72b0;\" x=\"119.09007\" xlink:href=\"#mc0628b89f1\" y=\"21.135571\"/>\r\n     <use style=\"fill:#4c72b0;stroke:#4c72b0;\" x=\"55.051967\" xlink:href=\"#mc0628b89f1\" y=\"106.788507\"/>\r\n     <use style=\"fill:#4c72b0;stroke:#4c72b0;\" x=\"166.27769\" xlink:href=\"#mc0628b89f1\" y=\"129.161651\"/>\r\n     <use style=\"fill:#4c72b0;stroke:#4c72b0;\" x=\"168.002607\" xlink:href=\"#mc0628b89f1\" y=\"129.039656\"/>\r\n     <use style=\"fill:#4c72b0;stroke:#4c72b0;\" x=\"168.524067\" xlink:href=\"#mc0628b89f1\" y=\"129.334491\"/>\r\n     <use style=\"fill:#4c72b0;stroke:#4c72b0;\" x=\"55.357507\" xlink:href=\"#mc0628b89f1\" y=\"106.582546\"/>\r\n     <use style=\"fill:#4c72b0;stroke:#4c72b0;\" x=\"166.628507\" xlink:href=\"#mc0628b89f1\" y=\"129.422329\"/>\r\n     <use style=\"fill:#4c72b0;stroke:#4c72b0;\" x=\"106.936586\" xlink:href=\"#mc0628b89f1\" y=\"214.363442\"/>\r\n     <use style=\"fill:#4c72b0;stroke:#4c72b0;\" x=\"56.855268\" xlink:href=\"#mc0628b89f1\" y=\"106.656264\"/>\r\n     <use style=\"fill:#4c72b0;stroke:#4c72b0;\" x=\"106.121209\" xlink:href=\"#mc0628b89f1\" y=\"214.408047\"/>\r\n     <use style=\"fill:#4c72b0;stroke:#4c72b0;\" x=\"168.105853\" xlink:href=\"#mc0628b89f1\" y=\"128.997441\"/>\r\n     <use style=\"fill:#4c72b0;stroke:#4c72b0;\" x=\"168.645734\" xlink:href=\"#mc0628b89f1\" y=\"129.10215\"/>\r\n     <use style=\"fill:#4c72b0;stroke:#4c72b0;\" x=\"56.565099\" xlink:href=\"#mc0628b89f1\" y=\"106.510633\"/>\r\n     <use style=\"fill:#4c72b0;stroke:#4c72b0;\" x=\"55.998418\" xlink:href=\"#mc0628b89f1\" y=\"106.643267\"/>\r\n     <use style=\"fill:#4c72b0;stroke:#4c72b0;\" x=\"54.351934\" xlink:href=\"#mc0628b89f1\" y=\"106.93856\"/>\r\n     <use style=\"fill:#4c72b0;stroke:#4c72b0;\" x=\"56.742678\" xlink:href=\"#mc0628b89f1\" y=\"106.503845\"/>\r\n     <use style=\"fill:#4c72b0;stroke:#4c72b0;\" x=\"105.474698\" xlink:href=\"#mc0628b89f1\" y=\"214.440613\"/>\r\n     <use style=\"fill:#4c72b0;stroke:#4c72b0;\" x=\"170.002969\" xlink:href=\"#mc0628b89f1\" y=\"128.919406\"/>\r\n     <use style=\"fill:#4c72b0;stroke:#4c72b0;\" x=\"168.164886\" xlink:href=\"#mc0628b89f1\" y=\"129.016821\"/>\r\n     <use style=\"fill:#4c72b0;stroke:#4c72b0;\" x=\"167.228435\" xlink:href=\"#mc0628b89f1\" y=\"129.432607\"/>\r\n     <use style=\"fill:#4c72b0;stroke:#4c72b0;\" x=\"170.206691\" xlink:href=\"#mc0628b89f1\" y=\"128.736676\"/>\r\n     <use style=\"fill:#4c72b0;stroke:#4c72b0;\" x=\"57.302177\" xlink:href=\"#mc0628b89f1\" y=\"106.310288\"/>\r\n     <use style=\"fill:#4c72b0;stroke:#4c72b0;\" x=\"167.070375\" xlink:href=\"#mc0628b89f1\" y=\"129.301115\"/>\r\n     <use style=\"fill:#4c72b0;stroke:#4c72b0;\" x=\"103.974303\" xlink:href=\"#mc0628b89f1\" y=\"214.957346\"/>\r\n     <use style=\"fill:#4c72b0;stroke:#4c72b0;\" x=\"167.327287\" xlink:href=\"#mc0628b89f1\" y=\"129.236731\"/>\r\n     <use style=\"fill:#4c72b0;stroke:#4c72b0;\" x=\"168.358626\" xlink:href=\"#mc0628b89f1\" y=\"129.053732\"/>\r\n     <use style=\"fill:#4c72b0;stroke:#4c72b0;\" x=\"169.588025\" xlink:href=\"#mc0628b89f1\" y=\"128.843711\"/>\r\n     <use style=\"fill:#4c72b0;stroke:#4c72b0;\" x=\"56.062838\" xlink:href=\"#mc0628b89f1\" y=\"106.493512\"/>\r\n    </g>\r\n   </g>\r\n   <g id=\"patch_3\">\r\n    <path d=\"M 38.414687 226.738693 \r\nL 38.414687 9.298693 \r\n\" style=\"fill:none;stroke:#ffffff;stroke-linecap:square;stroke-linejoin:miter;stroke-width:1.25;\"/>\r\n   </g>\r\n   <g id=\"patch_4\">\r\n    <path d=\"M 373.214688 226.738693 \r\nL 373.214688 9.298693 \r\n\" style=\"fill:none;stroke:#ffffff;stroke-linecap:square;stroke-linejoin:miter;stroke-width:1.25;\"/>\r\n   </g>\r\n   <g id=\"patch_5\">\r\n    <path d=\"M 38.414688 226.738693 \r\nL 373.214687 226.738693 \r\n\" style=\"fill:none;stroke:#ffffff;stroke-linecap:square;stroke-linejoin:miter;stroke-width:1.25;\"/>\r\n   </g>\r\n   <g id=\"patch_6\">\r\n    <path d=\"M 38.414688 9.298693 \r\nL 373.214687 9.298693 \r\n\" style=\"fill:none;stroke:#ffffff;stroke-linecap:square;stroke-linejoin:miter;stroke-width:1.25;\"/>\r\n   </g>\r\n  </g>\r\n </g>\r\n <defs>\r\n  <clipPath id=\"p52c32fcb63\">\r\n   <rect height=\"217.44\" width=\"334.8\" x=\"38.414687\" y=\"9.298693\"/>\r\n  </clipPath>\r\n </defs>\r\n</svg>\r\n",
      "image/png": "[encoded data removed]"
     },
     "metadata": {}
    }
   ],
   "source": [
    "from matplotlib import pyplot as plt\n",
    "plt.scatter(prin_comp[:,0], prin_comp[:,1],color='b')"
   ]
  },
  {
   "cell_type": "code",
   "execution_count": 23,
   "metadata": {
    "tags": []
   },
   "outputs": [
    {
     "output_type": "stream",
     "name": "stdout",
     "text": "1.3407589367187747 1\n1.3259973645938055 3\n1.5871858925917206 5\n1.3126466741417033 7\n1.3376499466164873 11\n1.323700050896012 12\n1.3085122494564108 20\n1.31087912452259 25\n1.3015178368198703 29\n1.3091809094883944 35\n1.2945363082447126 39\n1.3045716635970546 43\n1.2929305671828444 48\n1.3089913524919563 49\n1.3079595145624197 52\n"
    }
   ],
   "source": [
    "#---------------------------------------\n",
    "# Fórmula para colaboratividad\n",
    "#---------------------------------------\n",
    "\n",
    "eg = df['Eficiencia Global'].tolist()\n",
    "tr = df['Transitividad'].tolist()\n",
    "comunicacion = [eg[x]+tr[x] for x in range(n)]\n",
    "\n",
    "r= df['Radio'].tolist()\n",
    "sr= df['Spectral radius'].tolist()\n",
    "size=[-r[x]/14+sr[x]/2.5 for x in range(n)]\n",
    "\n",
    "rcc = df['Rich Club Coefficient'].tolist()\n",
    "cr = df['Core Ratio'].tolist()\n",
    "preparacion = [(rcc[x]+cr[x])/2 for x in range(n)]\n",
    "\n",
    "colab_1 = [comunicacion[x]+preparacion[x]+size[x] for x in range(n)]\n",
    "max_colab_1=[]\n",
    "for i in range(len(colab_1)):\n",
    "    if colab_1[i]>1.29:\n",
    "        print(colab_1[i],i)\n",
    "        max_colab_1.append(i)"
   ]
  },
  {
   "cell_type": "code",
   "execution_count": 24,
   "metadata": {
    "tags": []
   },
   "outputs": [
    {
     "output_type": "stream",
     "name": "stdout",
     "text": "-0.3145784492994625 1\n-0.2991104934849085 4\n0.10068617270376543 5\n-0.31712079639680796 7\n-0.30424160293479235 13\n-0.3151268579740011 20\n-0.3286701944511194 25\n-0.25091086281653435 36\n-0.2839501873734903 39\n-0.29958451570751177 43\n-0.2854373349419377 49\n-0.3145548418322289 51\n-0.3295203291710825 52\n-0.3243177035693492 53\n-0.30127445515717083 55\n-0.3285071560200361 57\n"
    }
   ],
   "source": [
    "eg = df['Eficiencia Global'].tolist()\n",
    "comunicacion = [eg[x] for x in range(n)]\n",
    "\n",
    "r= df['Transitividad'].tolist()\n",
    "size=[r[x] for x in range(n)]\n",
    "\n",
    "rcc = df['Core Ratio'].tolist()\n",
    "md= df['Modularidad'].tolist()\n",
    "preparacion = [-rcc[x]/2-md[x]/2 for x in range(n)]\n",
    "\n",
    "colab_2 = [comunicacion[x]+preparacion[x]+size[x] for x in range(n)]\n",
    "max_colab_2=[]\n",
    "for i in range(len(colab_1)):\n",
    "    if colab_2[i]>-.33:\n",
    "        print(colab_2[i],i)\n",
    "        max_colab_2.append(i)"
   ]
  },
  {
   "cell_type": "code",
   "execution_count": 15,
   "metadata": {
    "tags": []
   },
   "outputs": [
    {
     "output_type": "execute_result",
     "data": {
      "text/plain": "Empty DataFrame\nColumns: [Eficiencia Global, Transitividad, Modularidad, Radio, Rich Club Coefficient, Core Ratio, Central Point Dominance, Spectral radius, Camino más corto promedio, Diámetro]\nIndex: []",
      "text/html": "<div>\n<style scoped>\n    .dataframe tbody tr th:only-of-type {\n        vertical-align: middle;\n    }\n\n    .dataframe tbody tr th {\n        vertical-align: top;\n    }\n\n    .dataframe thead th {\n        text-align: right;\n    }\n</style>\n<table border=\"1\" class=\"dataframe\">\n  <thead>\n    <tr style=\"text-align: right;\">\n      <th></th>\n      <th>Eficiencia Global</th>\n      <th>Transitividad</th>\n      <th>Modularidad</th>\n      <th>Radio</th>\n      <th>Rich Club Coefficient</th>\n      <th>Core Ratio</th>\n      <th>Central Point Dominance</th>\n      <th>Spectral radius</th>\n      <th>Camino más corto promedio</th>\n      <th>Diámetro</th>\n    </tr>\n  </thead>\n  <tbody>\n  </tbody>\n</table>\n</div>"
     },
     "metadata": {},
     "execution_count": 15
    }
   ],
   "source": [
    "df.loc[max_colab]"
   ]
  },
  {
   "cell_type": "code",
   "execution_count": null,
   "metadata": {},
   "outputs": [],
   "source": []
  }
 ],
 "metadata": {
  "@webio": {
   "lastCommId": null,
   "lastKernelId": null
  },
  "kernelspec": {
   "display_name": "Python 3",
   "language": "python",
   "name": "python3"
  },
  "language_info": {
   "codemirror_mode": {
    "name": "ipython",
    "version": 3
   },
   "file_extension": ".py",
   "mimetype": "text/x-python",
   "name": "python",
   "nbconvert_exporter": "python",
   "pygments_lexer": "ipython3",
   "version": "3.7.6-final"
  }
 },
 "nbformat": 4,
 "nbformat_minor": 4
}