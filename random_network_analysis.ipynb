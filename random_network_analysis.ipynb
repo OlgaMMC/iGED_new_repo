{
 "cells": [
  {
   "cell_type": "markdown",
   "metadata": {},
   "source": [
    "# iGED : Global Systems Dynamics Initiative\n",
    "\n",
    "El objetivo principal de este documento es analizar las métricas globales en las siguientes redes capitales\n",
    "\n",
    "  *  Ciudad Autónoma de Buenos Aires (CABA)\n",
    "  *  Ciudad de México (CDMX)\n",
    "  *  Santiago de Chile (SCL)\n",
    "  *  Montevideo (MTV)\n",
    "  *  Madrid (MAD)\n",
    "  *  Sao Paulo (SAO)\n",
    "\n",
    "y obtener un tidy DataFrame, para continuar analizando los datos obtenidos, por ejemplo obteniendo correlaciones entre parejas de métricas.\n",
    "\n",
    "Respecto al notebook anterior, utilizamos la documentación de NetworkX: https://www.nas.ewi.tudelft.nl/people/Piet/papers/TUDreport20111111_MetricList.pdf\n",
    "\n",
    "así como el siguiente recurso: https://www.nas.ewi.tudelft.nl/people/Piet/papers/TUDreport20111111_MetricList.pdf\n",
    "\n",
    "para saber con cuáles métricas globales seguir estudiando nuestros ecosistemas."
   ]
  },
  {
   "cell_type": "code",
   "execution_count": 1,
   "metadata": {},
   "outputs": [],
   "source": [
    "#-------------------------------------------------------\n",
    "# Importar paquetes a utilizar\n",
    "#-------------------------------------------------------\n",
    "import pandas as pd\n",
    "import numpy as np \n",
    "import networkx as nx\n",
    "import scipy.stats as stats\n",
    "\n",
    "import matplotlib.pyplot as plt\n",
    "import seaborn as sns; sns.set()\n",
    "\n",
    "G={}\n",
    "\n",
    "for i in range(200):\n",
    "    G[i]=nx.read_graphml('Random_Graphs/Random_Graph_'+str(i+11)+'.graphml')\n"
   ]
  },
  {
   "cell_type": "code",
   "execution_count": 2,
   "metadata": {},
   "outputs": [],
   "source": [
    "#--------------------------------\n",
    "# Central point of Dominance\n",
    "#--------------------------------\n",
    "\n",
    "\n",
    "def central_point_dominance(G):\n",
    "    betwennesses = nx.betweenness_centrality(G)\n",
    "    b_max = max(betwennesses.values())\n",
    "    N = len(betwennesses.keys())\n",
    "    count = 0\n",
    "    for i, b_i in betwennesses.items():\n",
    "        count += ( b_max - b_i )/(N-1)\n",
    "    return count"
   ]
  },
  {
   "cell_type": "code",
   "execution_count": 3,
   "metadata": {},
   "outputs": [],
   "source": [
    "#--------------------------------\n",
    "# Spectral Radius\n",
    "#--------------------------------\n",
    "#     the smaller the spectral radius rho, the higher the probability of 'virus infection' tau, \n",
    "#     the more difficult it is for an idea to spread in the innovative network, \n",
    "#     namely, the less efficient\n",
    "\n",
    "import numpy.linalg\n",
    "\n",
    "def spectral_radius(G):\n",
    "    L = nx.normalized_laplacian_matrix(G)\n",
    "    e = numpy.linalg.eigvals(L.A)\n",
    "    e_abs = [abs(x) for x in e]\n",
    "    return max(e_abs)"
   ]
  },
  {
   "cell_type": "code",
   "execution_count": 4,
   "metadata": {},
   "outputs": [],
   "source": [
    "def core_ratio(G):\n",
    "    return len(nx.k_core(G,k=2).nodes())/len(G.nodes())"
   ]
  },
  {
   "cell_type": "code",
   "execution_count": 5,
   "metadata": {},
   "outputs": [],
   "source": [
    "def rich_club_coeffs(G):\n",
    "    t_ok = True\n",
    "    t = 0\n",
    "    d = dict()\n",
    "    while t_ok:\n",
    "        nodes_large_degree=[]\n",
    "        for x in G.nodes():\n",
    "            if G.degree(x)>t:\n",
    "                nodes_large_degree.append(x)\n",
    "        core = G.subgraph(nodes_large_degree)\n",
    "        edges_core = len(core.edges())\n",
    "        nodes_core = len(core.nodes())\n",
    "        if nodes_core<=1:\n",
    "            t_ok = False\n",
    "            break\n",
    "        d[t] = (2*edges_core)/(nodes_core*(nodes_core-1))\n",
    "        t += 1 \n",
    "    return d        \n",
    "\n",
    "def max_rich_club(G):\n",
    "    #rich_club_1=nx.algorithms.rich_club_coefficient(G, normalized=False)\n",
    "    rich_club=rich_club_coeffs(G)\n",
    "    max_i=0\n",
    "    for i in range(len(rich_club)):\n",
    "        if rich_club[i]>rich_club[max_i]:\n",
    "            max_i=i\n",
    "        else:\n",
    "            return rich_club[max_i]"
   ]
  },
  {
   "cell_type": "code",
   "execution_count": 6,
   "metadata": {},
   "outputs": [],
   "source": [
    "def eccentricity(G):\n",
    "    excentricidades=nx.algorithms.distance_measures.eccentricity(G)\n",
    "    excentricidad=0\n",
    "    for i in excentricidades.keys():\n",
    "        excentricidad+=excentricidades[i]\n",
    "    return excentricidad/len(excentricidades.keys())"
   ]
  },
  {
   "cell_type": "markdown",
   "metadata": {},
   "source": [
    "## Creacion del Dataframe\n",
    "\n",
    "El siguiente bloque crea todas las metricas de la grafica que usaremos para estudiarlas."
   ]
  },
  {
   "cell_type": "code",
   "execution_count": 7,
   "metadata": {},
   "outputs": [],
   "source": [
    "n=len(G)\n",
    "\n",
    "degree = n*[0]\n",
    "diameter = n*[0]\n",
    "radius = n*[0]\n",
    "avg_shortest_path_length = n*[0]\n",
    "transitivity = n*[0]\n",
    "global_efficiency = n*[0]\n",
    "modularity = n*[0]\n",
    "rich_club_coefficient = n*[0]\n",
    "core_rate= n*[0]\n",
    "central_pt = n*[0]\n",
    "spectral_radii = n*[0]\n",
    "excentricidad = n*[0]\n",
    "modularidad=n*[0]\n",
    "\n",
    "for index in G.keys():\n",
    "    graph=G[index]\n",
    "    \n",
    "    #conseguimos cada parámetro para esta ciudad\n",
    "    degree[index]=                        2*len(graph.edges())/len(graph.nodes())\n",
    "    diameter[index] =                     nx.diameter(graph)\n",
    "    radius[index] =                       nx.radius(graph)\n",
    "    avg_shortest_path_length[index] =     nx.average_shortest_path_length(graph)\n",
    "    transitivity[index] =                 nx.transitivity(graph)\n",
    "    global_efficiency[index] =            nx.global_efficiency(graph)\n",
    "    #modularidad precomputada\n",
    "    rich_club_coefficient[index] =        max_rich_club(graph)  \n",
    "    core_rate[index]=                     core_ratio(graph)\n",
    "    central_pt[index]=                    central_point_dominance(graph)\n",
    "    spectral_radii[index]=                spectral_radius(graph)\n",
    "    excentricidad[index]=                 eccentricity(graph)\n",
    "    modularidad[index]=                   nx.algorithms.community.quality.performance(graph,nx.algorithms.community.modularity_max.greedy_modularity_communities(graph))\n",
    "\n",
    "df=pd.DataFrame()\n",
    "\n",
    "\n",
    "df['Eficiencia Global'] = global_efficiency\n",
    "df['Degree']= degree\n",
    "df['Transitividad'] = transitivity\n",
    "df['Modularidad'] = modularidad\n",
    "df['Excentricidad']= excentricidad\n",
    "df['Radio'] = radius\n",
    "df['Rich Club Coefficient'] = rich_club_coefficient\n",
    "df['Core Ratio'] = core_rate\n",
    "df['Central Point Dominance'] = [round(central_pt[index],3) for index in range(n)]\n",
    "df['Spectral radius'] = [round(spectral_radii[index],3) for index in range(n)]\n",
    "df['Camino más corto promedio'] = avg_shortest_path_length\n",
    "df['Diámetro'] = diameter\n"
   ]
  },
  {
   "cell_type": "markdown",
   "metadata": {},
   "source": [
    "## Colaboracion\n",
    "\n",
    "Empezamos analizando las metricas que ya hemos calculado y luego usaremos esta informacion para crear una medida de la colaboracion."
   ]
  },
  {
   "cell_type": "code",
   "execution_count": 15,
   "metadata": {},
   "outputs": [
    {
     "output_type": "execute_result",
     "data": {
      "text/plain": "array([[-0.33762088, -0.32514881, -0.29913228,  0.28455505,  0.31872538,\n         0.20798608, -0.33018749, -0.26677212,  0.15517596,  0.30475987,\n         0.3368958 ,  0.23312344],\n       [ 0.03807743, -0.21098535,  0.06884616,  0.10413216, -0.23018094,\n        -0.50722015,  0.00410757, -0.31999108,  0.61965165,  0.12473771,\n        -0.06762043, -0.34883391],\n       [ 0.13450848,  0.07916039,  0.17302838, -0.2974906 ,  0.1102266 ,\n         0.31019638,  0.21366412,  0.08827237,  0.65338053,  0.04902091,\n        -0.09632769,  0.50675179],\n       [-0.00610276, -0.02931355, -0.33930447, -0.09713453, -0.10683198,\n         0.56802916, -0.06949737,  0.27819355,  0.26425033, -0.01809569,\n        -0.02570028, -0.62244108],\n       [-0.05254446,  0.02221121, -0.44645357,  0.10000942,  0.08663571,\n        -0.46205709, -0.11045935,  0.6823147 ,  0.18660982, -0.13095668,\n         0.02425131,  0.19001302]])"
     },
     "metadata": {},
     "execution_count": 15
    }
   ],
   "source": [
    "#---------------------------------------------\n",
    "#Preparar escalas y herramientas para el analisis.\n",
    "#---------------------------------------------\n",
    "\n",
    "from sklearn.preprocessing import StandardScaler\n",
    "from sklearn.decomposition import PCA\n",
    "\n",
    "X=df.to_numpy()\n",
    "\n",
    "\n",
    "\n",
    "normalized= StandardScaler().fit_transform(X)\n",
    "pca=PCA(n_components=5)\n",
    "prin_comp=pca.fit_transform(normalized)\n",
    "\n",
    "pca.components_"
   ]
  },
  {
   "cell_type": "code",
   "execution_count": 16,
   "metadata": {},
   "outputs": [
    {
     "output_type": "execute_result",
     "data": {
      "text/plain": "<matplotlib.collections.PathCollection at 0x2d019389c48>"
     },
     "metadata": {},
     "execution_count": 16
    },
    {
     "output_type": "display_data",
     "data": {
      "text/plain": "<Figure size 432x288 with 1 Axes>",
      "image/svg+xml": "<?xml version=\"1.0\" encoding=\"utf-8\" standalone=\"no\"?>\r\n<!DOCTYPE svg PUBLIC \"-//W3C//DTD SVG 1.1//EN\"\r\n  \"http://www.w3.org/Graphics/SVG/1.1/DTD/svg11.dtd\">\r\n<!-- Created with matplotlib (https://matplotlib.org/) -->\r\n<svg height=\"251.399844pt\" version=\"1.1\" viewBox=\"0 0 371.241719 251.399844\" width=\"371.241719pt\" xmlns=\"http://www.w3.org/2000/svg\" xmlns:xlink=\"http://www.w3.org/1999/xlink\">\r\n <defs>\r\n  <style type=\"text/css\">\r\n*{stroke-linecap:butt;stroke-linejoin:round;}\r\n  </style>\r\n </defs>\r\n <g id=\"figure_1\">\r\n  <g id=\"patch_1\">\r\n   <path d=\"M 0 251.399844 \r\nL 371.241719 251.399844 \r\nL 371.241719 0 \r\nL 0 0 \r\nz\r\n\" style=\"fill:#ffffff;\"/>\r\n  </g>\r\n  <g id=\"axes_1\">\r\n   <g id=\"patch_2\">\r\n    <path d=\"M 29.241719 224.64 \r\nL 364.041719 224.64 \r\nL 364.041719 7.2 \r\nL 29.241719 7.2 \r\nz\r\n\" style=\"fill:#eaeaf2;\"/>\r\n   </g>\r\n   <g id=\"matplotlib.axis_1\">\r\n    <g id=\"xtick_1\">\r\n     <g id=\"line2d_1\">\r\n      <path clip-path=\"url(#pd3f684bc75)\" d=\"M 58.346588 224.64 \r\nL 58.346588 7.2 \r\n\" style=\"fill:none;stroke:#ffffff;stroke-linecap:round;\"/>\r\n     </g>\r\n     <g id=\"text_1\">\r\n      <!-- −6 -->\r\n      <defs>\r\n       <path d=\"M 52.828125 31.203125 \r\nL 5.5625 31.203125 \r\nL 5.5625 39.40625 \r\nL 52.828125 39.40625 \r\nz\r\n\" id=\"ArialMT-8722\"/>\r\n       <path d=\"M 49.75 54.046875 \r\nL 41.015625 53.375 \r\nQ 39.84375 58.546875 37.703125 60.890625 \r\nQ 34.125 64.65625 28.90625 64.65625 \r\nQ 24.703125 64.65625 21.53125 62.3125 \r\nQ 17.390625 59.28125 14.984375 53.46875 \r\nQ 12.59375 47.65625 12.5 36.921875 \r\nQ 15.671875 41.75 20.265625 44.09375 \r\nQ 24.859375 46.4375 29.890625 46.4375 \r\nQ 38.671875 46.4375 44.84375 39.96875 \r\nQ 51.03125 33.5 51.03125 23.25 \r\nQ 51.03125 16.5 48.125 10.71875 \r\nQ 45.21875 4.9375 40.140625 1.859375 \r\nQ 35.0625 -1.21875 28.609375 -1.21875 \r\nQ 17.625 -1.21875 10.6875 6.859375 \r\nQ 3.765625 14.9375 3.765625 33.5 \r\nQ 3.765625 54.25 11.421875 63.671875 \r\nQ 18.109375 71.875 29.4375 71.875 \r\nQ 37.890625 71.875 43.28125 67.140625 \r\nQ 48.6875 62.40625 49.75 54.046875 \r\nz\r\nM 13.875 23.1875 \r\nQ 13.875 18.65625 15.796875 14.5 \r\nQ 17.71875 10.359375 21.1875 8.171875 \r\nQ 24.65625 6 28.46875 6 \r\nQ 34.03125 6 38.03125 10.484375 \r\nQ 42.046875 14.984375 42.046875 22.703125 \r\nQ 42.046875 30.125 38.078125 34.390625 \r\nQ 34.125 38.671875 28.125 38.671875 \r\nQ 22.171875 38.671875 18.015625 34.390625 \r\nQ 13.875 30.125 13.875 23.1875 \r\nz\r\n\" id=\"ArialMT-54\"/>\r\n      </defs>\r\n      <g style=\"fill:#262626;\" transform=\"translate(52.075729 242.013594)scale(0.11 -0.11)\">\r\n       <use xlink:href=\"#ArialMT-8722\"/>\r\n       <use x=\"58.398438\" xlink:href=\"#ArialMT-54\"/>\r\n      </g>\r\n     </g>\r\n    </g>\r\n    <g id=\"xtick_2\">\r\n     <g id=\"line2d_2\">\r\n      <path clip-path=\"url(#pd3f684bc75)\" d=\"M 103.847473 224.64 \r\nL 103.847473 7.2 \r\n\" style=\"fill:none;stroke:#ffffff;stroke-linecap:round;\"/>\r\n     </g>\r\n     <g id=\"text_2\">\r\n      <!-- −4 -->\r\n      <defs>\r\n       <path d=\"M 32.328125 0 \r\nL 32.328125 17.140625 \r\nL 1.265625 17.140625 \r\nL 1.265625 25.203125 \r\nL 33.9375 71.578125 \r\nL 41.109375 71.578125 \r\nL 41.109375 25.203125 \r\nL 50.78125 25.203125 \r\nL 50.78125 17.140625 \r\nL 41.109375 17.140625 \r\nL 41.109375 0 \r\nz\r\nM 32.328125 25.203125 \r\nL 32.328125 57.46875 \r\nL 9.90625 25.203125 \r\nz\r\n\" id=\"ArialMT-52\"/>\r\n      </defs>\r\n      <g style=\"fill:#262626;\" transform=\"translate(97.576614 242.013594)scale(0.11 -0.11)\">\r\n       <use xlink:href=\"#ArialMT-8722\"/>\r\n       <use x=\"58.398438\" xlink:href=\"#ArialMT-52\"/>\r\n      </g>\r\n     </g>\r\n    </g>\r\n    <g id=\"xtick_3\">\r\n     <g id=\"line2d_3\">\r\n      <path clip-path=\"url(#pd3f684bc75)\" d=\"M 149.348358 224.64 \r\nL 149.348358 7.2 \r\n\" style=\"fill:none;stroke:#ffffff;stroke-linecap:round;\"/>\r\n     </g>\r\n     <g id=\"text_3\">\r\n      <!-- −2 -->\r\n      <defs>\r\n       <path d=\"M 50.34375 8.453125 \r\nL 50.34375 0 \r\nL 3.03125 0 \r\nQ 2.9375 3.171875 4.046875 6.109375 \r\nQ 5.859375 10.9375 9.828125 15.625 \r\nQ 13.8125 20.3125 21.34375 26.46875 \r\nQ 33.015625 36.03125 37.109375 41.625 \r\nQ 41.21875 47.21875 41.21875 52.203125 \r\nQ 41.21875 57.421875 37.46875 61 \r\nQ 33.734375 64.59375 27.734375 64.59375 \r\nQ 21.390625 64.59375 17.578125 60.78125 \r\nQ 13.765625 56.984375 13.71875 50.25 \r\nL 4.6875 51.171875 \r\nQ 5.609375 61.28125 11.65625 66.578125 \r\nQ 17.71875 71.875 27.9375 71.875 \r\nQ 38.234375 71.875 44.234375 66.15625 \r\nQ 50.25 60.453125 50.25 52 \r\nQ 50.25 47.703125 48.484375 43.546875 \r\nQ 46.734375 39.40625 42.65625 34.8125 \r\nQ 38.578125 30.21875 29.109375 22.21875 \r\nQ 21.1875 15.578125 18.9375 13.203125 \r\nQ 16.703125 10.84375 15.234375 8.453125 \r\nz\r\n\" id=\"ArialMT-50\"/>\r\n      </defs>\r\n      <g style=\"fill:#262626;\" transform=\"translate(143.077498 242.013594)scale(0.11 -0.11)\">\r\n       <use xlink:href=\"#ArialMT-8722\"/>\r\n       <use x=\"58.398438\" xlink:href=\"#ArialMT-50\"/>\r\n      </g>\r\n     </g>\r\n    </g>\r\n    <g id=\"xtick_4\">\r\n     <g id=\"line2d_4\">\r\n      <path clip-path=\"url(#pd3f684bc75)\" d=\"M 194.849242 224.64 \r\nL 194.849242 7.2 \r\n\" style=\"fill:none;stroke:#ffffff;stroke-linecap:round;\"/>\r\n     </g>\r\n     <g id=\"text_4\">\r\n      <!-- 0 -->\r\n      <defs>\r\n       <path d=\"M 4.15625 35.296875 \r\nQ 4.15625 48 6.765625 55.734375 \r\nQ 9.375 63.484375 14.515625 67.671875 \r\nQ 19.671875 71.875 27.484375 71.875 \r\nQ 33.25 71.875 37.59375 69.546875 \r\nQ 41.9375 67.234375 44.765625 62.859375 \r\nQ 47.609375 58.5 49.21875 52.21875 \r\nQ 50.828125 45.953125 50.828125 35.296875 \r\nQ 50.828125 22.703125 48.234375 14.96875 \r\nQ 45.65625 7.234375 40.5 3 \r\nQ 35.359375 -1.21875 27.484375 -1.21875 \r\nQ 17.140625 -1.21875 11.234375 6.203125 \r\nQ 4.15625 15.140625 4.15625 35.296875 \r\nz\r\nM 13.1875 35.296875 \r\nQ 13.1875 17.671875 17.3125 11.828125 \r\nQ 21.4375 6 27.484375 6 \r\nQ 33.546875 6 37.671875 11.859375 \r\nQ 41.796875 17.71875 41.796875 35.296875 \r\nQ 41.796875 52.984375 37.671875 58.78125 \r\nQ 33.546875 64.59375 27.390625 64.59375 \r\nQ 21.34375 64.59375 17.71875 59.46875 \r\nQ 13.1875 52.9375 13.1875 35.296875 \r\nz\r\n\" id=\"ArialMT-48\"/>\r\n      </defs>\r\n      <g style=\"fill:#262626;\" transform=\"translate(191.790727 242.013594)scale(0.11 -0.11)\">\r\n       <use xlink:href=\"#ArialMT-48\"/>\r\n      </g>\r\n     </g>\r\n    </g>\r\n    <g id=\"xtick_5\">\r\n     <g id=\"line2d_5\">\r\n      <path clip-path=\"url(#pd3f684bc75)\" d=\"M 240.350127 224.64 \r\nL 240.350127 7.2 \r\n\" style=\"fill:none;stroke:#ffffff;stroke-linecap:round;\"/>\r\n     </g>\r\n     <g id=\"text_5\">\r\n      <!-- 2 -->\r\n      <g style=\"fill:#262626;\" transform=\"translate(237.291611 242.013594)scale(0.11 -0.11)\">\r\n       <use xlink:href=\"#ArialMT-50\"/>\r\n      </g>\r\n     </g>\r\n    </g>\r\n    <g id=\"xtick_6\">\r\n     <g id=\"line2d_6\">\r\n      <path clip-path=\"url(#pd3f684bc75)\" d=\"M 285.851012 224.64 \r\nL 285.851012 7.2 \r\n\" style=\"fill:none;stroke:#ffffff;stroke-linecap:round;\"/>\r\n     </g>\r\n     <g id=\"text_6\">\r\n      <!-- 4 -->\r\n      <g style=\"fill:#262626;\" transform=\"translate(282.792496 242.013594)scale(0.11 -0.11)\">\r\n       <use xlink:href=\"#ArialMT-52\"/>\r\n      </g>\r\n     </g>\r\n    </g>\r\n    <g id=\"xtick_7\">\r\n     <g id=\"line2d_7\">\r\n      <path clip-path=\"url(#pd3f684bc75)\" d=\"M 331.351896 224.64 \r\nL 331.351896 7.2 \r\n\" style=\"fill:none;stroke:#ffffff;stroke-linecap:round;\"/>\r\n     </g>\r\n     <g id=\"text_7\">\r\n      <!-- 6 -->\r\n      <g style=\"fill:#262626;\" transform=\"translate(328.293381 242.013594)scale(0.11 -0.11)\">\r\n       <use xlink:href=\"#ArialMT-54\"/>\r\n      </g>\r\n     </g>\r\n    </g>\r\n   </g>\r\n   <g id=\"matplotlib.axis_2\">\r\n    <g id=\"ytick_1\">\r\n     <g id=\"line2d_8\">\r\n      <path clip-path=\"url(#pd3f684bc75)\" d=\"M 29.241719 218.772247 \r\nL 364.041719 218.772247 \r\n\" style=\"fill:none;stroke:#ffffff;stroke-linecap:round;\"/>\r\n     </g>\r\n     <g id=\"text_8\">\r\n      <!-- −3 -->\r\n      <defs>\r\n       <path d=\"M 4.203125 18.890625 \r\nL 12.984375 20.0625 \r\nQ 14.5 12.59375 18.140625 9.296875 \r\nQ 21.78125 6 27 6 \r\nQ 33.203125 6 37.46875 10.296875 \r\nQ 41.75 14.59375 41.75 20.953125 \r\nQ 41.75 27 37.796875 30.921875 \r\nQ 33.84375 34.859375 27.734375 34.859375 \r\nQ 25.25 34.859375 21.53125 33.890625 \r\nL 22.515625 41.609375 \r\nQ 23.390625 41.5 23.921875 41.5 \r\nQ 29.546875 41.5 34.03125 44.421875 \r\nQ 38.53125 47.359375 38.53125 53.46875 \r\nQ 38.53125 58.296875 35.25 61.46875 \r\nQ 31.984375 64.65625 26.8125 64.65625 \r\nQ 21.6875 64.65625 18.265625 61.421875 \r\nQ 14.84375 58.203125 13.875 51.765625 \r\nL 5.078125 53.328125 \r\nQ 6.6875 62.15625 12.390625 67.015625 \r\nQ 18.109375 71.875 26.609375 71.875 \r\nQ 32.46875 71.875 37.390625 69.359375 \r\nQ 42.328125 66.84375 44.9375 62.5 \r\nQ 47.5625 58.15625 47.5625 53.265625 \r\nQ 47.5625 48.640625 45.0625 44.828125 \r\nQ 42.578125 41.015625 37.703125 38.765625 \r\nQ 44.046875 37.3125 47.5625 32.6875 \r\nQ 51.078125 28.078125 51.078125 21.140625 \r\nQ 51.078125 11.765625 44.234375 5.25 \r\nQ 37.40625 -1.265625 26.953125 -1.265625 \r\nQ 17.53125 -1.265625 11.296875 4.34375 \r\nQ 5.078125 9.96875 4.203125 18.890625 \r\nz\r\n\" id=\"ArialMT-51\"/>\r\n      </defs>\r\n      <g style=\"fill:#262626;\" transform=\"translate(7.2 222.709044)scale(0.11 -0.11)\">\r\n       <use xlink:href=\"#ArialMT-8722\"/>\r\n       <use x=\"58.398438\" xlink:href=\"#ArialMT-51\"/>\r\n      </g>\r\n     </g>\r\n    </g>\r\n    <g id=\"ytick_2\">\r\n     <g id=\"line2d_9\">\r\n      <path clip-path=\"url(#pd3f684bc75)\" d=\"M 29.241719 186.010843 \r\nL 364.041719 186.010843 \r\n\" style=\"fill:none;stroke:#ffffff;stroke-linecap:round;\"/>\r\n     </g>\r\n     <g id=\"text_9\">\r\n      <!-- −2 -->\r\n      <g style=\"fill:#262626;\" transform=\"translate(7.2 189.94764)scale(0.11 -0.11)\">\r\n       <use xlink:href=\"#ArialMT-8722\"/>\r\n       <use x=\"58.398438\" xlink:href=\"#ArialMT-50\"/>\r\n      </g>\r\n     </g>\r\n    </g>\r\n    <g id=\"ytick_3\">\r\n     <g id=\"line2d_10\">\r\n      <path clip-path=\"url(#pd3f684bc75)\" d=\"M 29.241719 153.24944 \r\nL 364.041719 153.24944 \r\n\" style=\"fill:none;stroke:#ffffff;stroke-linecap:round;\"/>\r\n     </g>\r\n     <g id=\"text_10\">\r\n      <!-- −1 -->\r\n      <defs>\r\n       <path d=\"M 37.25 0 \r\nL 28.46875 0 \r\nL 28.46875 56 \r\nQ 25.296875 52.984375 20.140625 49.953125 \r\nQ 14.984375 46.921875 10.890625 45.40625 \r\nL 10.890625 53.90625 \r\nQ 18.265625 57.375 23.78125 62.296875 \r\nQ 29.296875 67.234375 31.59375 71.875 \r\nL 37.25 71.875 \r\nz\r\n\" id=\"ArialMT-49\"/>\r\n      </defs>\r\n      <g style=\"fill:#262626;\" transform=\"translate(7.2 157.186237)scale(0.11 -0.11)\">\r\n       <use xlink:href=\"#ArialMT-8722\"/>\r\n       <use x=\"58.398438\" xlink:href=\"#ArialMT-49\"/>\r\n      </g>\r\n     </g>\r\n    </g>\r\n    <g id=\"ytick_4\">\r\n     <g id=\"line2d_11\">\r\n      <path clip-path=\"url(#pd3f684bc75)\" d=\"M 29.241719 120.488036 \r\nL 364.041719 120.488036 \r\n\" style=\"fill:none;stroke:#ffffff;stroke-linecap:round;\"/>\r\n     </g>\r\n     <g id=\"text_11\">\r\n      <!-- 0 -->\r\n      <g style=\"fill:#262626;\" transform=\"translate(13.624688 124.424833)scale(0.11 -0.11)\">\r\n       <use xlink:href=\"#ArialMT-48\"/>\r\n      </g>\r\n     </g>\r\n    </g>\r\n    <g id=\"ytick_5\">\r\n     <g id=\"line2d_12\">\r\n      <path clip-path=\"url(#pd3f684bc75)\" d=\"M 29.241719 87.726632 \r\nL 364.041719 87.726632 \r\n\" style=\"fill:none;stroke:#ffffff;stroke-linecap:round;\"/>\r\n     </g>\r\n     <g id=\"text_12\">\r\n      <!-- 1 -->\r\n      <g style=\"fill:#262626;\" transform=\"translate(13.624688 91.663429)scale(0.11 -0.11)\">\r\n       <use xlink:href=\"#ArialMT-49\"/>\r\n      </g>\r\n     </g>\r\n    </g>\r\n    <g id=\"ytick_6\">\r\n     <g id=\"line2d_13\">\r\n      <path clip-path=\"url(#pd3f684bc75)\" d=\"M 29.241719 54.965229 \r\nL 364.041719 54.965229 \r\n\" style=\"fill:none;stroke:#ffffff;stroke-linecap:round;\"/>\r\n     </g>\r\n     <g id=\"text_13\">\r\n      <!-- 2 -->\r\n      <g style=\"fill:#262626;\" transform=\"translate(13.624688 58.902025)scale(0.11 -0.11)\">\r\n       <use xlink:href=\"#ArialMT-50\"/>\r\n      </g>\r\n     </g>\r\n    </g>\r\n    <g id=\"ytick_7\">\r\n     <g id=\"line2d_14\">\r\n      <path clip-path=\"url(#pd3f684bc75)\" d=\"M 29.241719 22.203825 \r\nL 364.041719 22.203825 \r\n\" style=\"fill:none;stroke:#ffffff;stroke-linecap:round;\"/>\r\n     </g>\r\n     <g id=\"text_14\">\r\n      <!-- 3 -->\r\n      <g style=\"fill:#262626;\" transform=\"translate(13.624688 26.140622)scale(0.11 -0.11)\">\r\n       <use xlink:href=\"#ArialMT-51\"/>\r\n      </g>\r\n     </g>\r\n    </g>\r\n   </g>\r\n   <g id=\"PathCollection_1\">\r\n    <defs>\r\n     <path d=\"M 0 3 \r\nC 0.795609 3 1.55874 2.683901 2.12132 2.12132 \r\nC 2.683901 1.55874 3 0.795609 3 0 \r\nC 3 -0.795609 2.683901 -1.55874 2.12132 -2.12132 \r\nC 1.55874 -2.683901 0.795609 -3 0 -3 \r\nC -0.795609 -3 -1.55874 -2.683901 -2.12132 -2.12132 \r\nC -2.683901 -1.55874 -3 -0.795609 -3 0 \r\nC -3 0.795609 -2.683901 1.55874 -2.12132 2.12132 \r\nC -1.55874 2.683901 -0.795609 3 0 3 \r\nz\r\n\" id=\"m28903a327e\" style=\"stroke:#4c72b0;\"/>\r\n    </defs>\r\n    <g clip-path=\"url(#pd3f684bc75)\">\r\n     <use style=\"fill:#4c72b0;stroke:#4c72b0;\" x=\"211.955098\" xlink:href=\"#m28903a327e\" y=\"101.225806\"/>\r\n     <use style=\"fill:#4c72b0;stroke:#4c72b0;\" x=\"216.104067\" xlink:href=\"#m28903a327e\" y=\"139.513974\"/>\r\n     <use style=\"fill:#4c72b0;stroke:#4c72b0;\" x=\"207.20679\" xlink:href=\"#m28903a327e\" y=\"143.614011\"/>\r\n     <use style=\"fill:#4c72b0;stroke:#4c72b0;\" x=\"202.418558\" xlink:href=\"#m28903a327e\" y=\"132.873887\"/>\r\n     <use style=\"fill:#4c72b0;stroke:#4c72b0;\" x=\"214.56624\" xlink:href=\"#m28903a327e\" y=\"59.331922\"/>\r\n     <use style=\"fill:#4c72b0;stroke:#4c72b0;\" x=\"232.985597\" xlink:href=\"#m28903a327e\" y=\"185.748801\"/>\r\n     <use style=\"fill:#4c72b0;stroke:#4c72b0;\" x=\"191.980432\" xlink:href=\"#m28903a327e\" y=\"117.58604\"/>\r\n     <use style=\"fill:#4c72b0;stroke:#4c72b0;\" x=\"196.062672\" xlink:href=\"#m28903a327e\" y=\"80.242545\"/>\r\n     <use style=\"fill:#4c72b0;stroke:#4c72b0;\" x=\"217.812873\" xlink:href=\"#m28903a327e\" y=\"193.39102\"/>\r\n     <use style=\"fill:#4c72b0;stroke:#4c72b0;\" x=\"241.836825\" xlink:href=\"#m28903a327e\" y=\"134.130163\"/>\r\n     <use style=\"fill:#4c72b0;stroke:#4c72b0;\" x=\"254.420671\" xlink:href=\"#m28903a327e\" y=\"155.795319\"/>\r\n     <use style=\"fill:#4c72b0;stroke:#4c72b0;\" x=\"186.496386\" xlink:href=\"#m28903a327e\" y=\"54.30934\"/>\r\n     <use style=\"fill:#4c72b0;stroke:#4c72b0;\" x=\"242.493578\" xlink:href=\"#m28903a327e\" y=\"87.004858\"/>\r\n     <use style=\"fill:#4c72b0;stroke:#4c72b0;\" x=\"240.573156\" xlink:href=\"#m28903a327e\" y=\"103.822515\"/>\r\n     <use style=\"fill:#4c72b0;stroke:#4c72b0;\" x=\"199.259646\" xlink:href=\"#m28903a327e\" y=\"93.141684\"/>\r\n     <use style=\"fill:#4c72b0;stroke:#4c72b0;\" x=\"178.742807\" xlink:href=\"#m28903a327e\" y=\"101.584514\"/>\r\n     <use style=\"fill:#4c72b0;stroke:#4c72b0;\" x=\"191.23654\" xlink:href=\"#m28903a327e\" y=\"55.622015\"/>\r\n     <use style=\"fill:#4c72b0;stroke:#4c72b0;\" x=\"183.839152\" xlink:href=\"#m28903a327e\" y=\"97.971882\"/>\r\n     <use style=\"fill:#4c72b0;stroke:#4c72b0;\" x=\"221.608482\" xlink:href=\"#m28903a327e\" y=\"178.788863\"/>\r\n     <use style=\"fill:#4c72b0;stroke:#4c72b0;\" x=\"199.200932\" xlink:href=\"#m28903a327e\" y=\"81.932864\"/>\r\n     <use style=\"fill:#4c72b0;stroke:#4c72b0;\" x=\"188.776806\" xlink:href=\"#m28903a327e\" y=\"125.278732\"/>\r\n     <use style=\"fill:#4c72b0;stroke:#4c72b0;\" x=\"204.510255\" xlink:href=\"#m28903a327e\" y=\"76.46888\"/>\r\n     <use style=\"fill:#4c72b0;stroke:#4c72b0;\" x=\"234.317457\" xlink:href=\"#m28903a327e\" y=\"122.975132\"/>\r\n     <use style=\"fill:#4c72b0;stroke:#4c72b0;\" x=\"257.546798\" xlink:href=\"#m28903a327e\" y=\"144.125056\"/>\r\n     <use style=\"fill:#4c72b0;stroke:#4c72b0;\" x=\"230.026908\" xlink:href=\"#m28903a327e\" y=\"71.418016\"/>\r\n     <use style=\"fill:#4c72b0;stroke:#4c72b0;\" x=\"237.417057\" xlink:href=\"#m28903a327e\" y=\"161.865627\"/>\r\n     <use style=\"fill:#4c72b0;stroke:#4c72b0;\" x=\"215.992926\" xlink:href=\"#m28903a327e\" y=\"184.4009\"/>\r\n     <use style=\"fill:#4c72b0;stroke:#4c72b0;\" x=\"176.158235\" xlink:href=\"#m28903a327e\" y=\"84.65011\"/>\r\n     <use style=\"fill:#4c72b0;stroke:#4c72b0;\" x=\"210.150644\" xlink:href=\"#m28903a327e\" y=\"38.162437\"/>\r\n     <use style=\"fill:#4c72b0;stroke:#4c72b0;\" x=\"272.090779\" xlink:href=\"#m28903a327e\" y=\"173.908349\"/>\r\n     <use style=\"fill:#4c72b0;stroke:#4c72b0;\" x=\"219.4842\" xlink:href=\"#m28903a327e\" y=\"100.050936\"/>\r\n     <use style=\"fill:#4c72b0;stroke:#4c72b0;\" x=\"194.506161\" xlink:href=\"#m28903a327e\" y=\"65.102976\"/>\r\n     <use style=\"fill:#4c72b0;stroke:#4c72b0;\" x=\"232.661732\" xlink:href=\"#m28903a327e\" y=\"106.391537\"/>\r\n     <use style=\"fill:#4c72b0;stroke:#4c72b0;\" x=\"201.259328\" xlink:href=\"#m28903a327e\" y=\"70.159753\"/>\r\n     <use style=\"fill:#4c72b0;stroke:#4c72b0;\" x=\"183.915572\" xlink:href=\"#m28903a327e\" y=\"88.159211\"/>\r\n     <use style=\"fill:#4c72b0;stroke:#4c72b0;\" x=\"200.070155\" xlink:href=\"#m28903a327e\" y=\"105.062406\"/>\r\n     <use style=\"fill:#4c72b0;stroke:#4c72b0;\" x=\"209.816069\" xlink:href=\"#m28903a327e\" y=\"66.083847\"/>\r\n     <use style=\"fill:#4c72b0;stroke:#4c72b0;\" x=\"194.401985\" xlink:href=\"#m28903a327e\" y=\"88.676288\"/>\r\n     <use style=\"fill:#4c72b0;stroke:#4c72b0;\" x=\"184.105726\" xlink:href=\"#m28903a327e\" y=\"85.457099\"/>\r\n     <use style=\"fill:#4c72b0;stroke:#4c72b0;\" x=\"242.883562\" xlink:href=\"#m28903a327e\" y=\"70.006298\"/>\r\n     <use style=\"fill:#4c72b0;stroke:#4c72b0;\" x=\"250.941216\" xlink:href=\"#m28903a327e\" y=\"84.521742\"/>\r\n     <use style=\"fill:#4c72b0;stroke:#4c72b0;\" x=\"232.145497\" xlink:href=\"#m28903a327e\" y=\"116.688774\"/>\r\n     <use style=\"fill:#4c72b0;stroke:#4c72b0;\" x=\"237.33789\" xlink:href=\"#m28903a327e\" y=\"155.254432\"/>\r\n     <use style=\"fill:#4c72b0;stroke:#4c72b0;\" x=\"238.508013\" xlink:href=\"#m28903a327e\" y=\"28.627296\"/>\r\n     <use style=\"fill:#4c72b0;stroke:#4c72b0;\" x=\"228.66512\" xlink:href=\"#m28903a327e\" y=\"98.70103\"/>\r\n     <use style=\"fill:#4c72b0;stroke:#4c72b0;\" x=\"192.016391\" xlink:href=\"#m28903a327e\" y=\"94.298881\"/>\r\n     <use style=\"fill:#4c72b0;stroke:#4c72b0;\" x=\"233.801488\" xlink:href=\"#m28903a327e\" y=\"94.078644\"/>\r\n     <use style=\"fill:#4c72b0;stroke:#4c72b0;\" x=\"246.576124\" xlink:href=\"#m28903a327e\" y=\"125.160522\"/>\r\n     <use style=\"fill:#4c72b0;stroke:#4c72b0;\" x=\"211.534108\" xlink:href=\"#m28903a327e\" y=\"127.992083\"/>\r\n     <use style=\"fill:#4c72b0;stroke:#4c72b0;\" x=\"296.165882\" xlink:href=\"#m28903a327e\" y=\"167.319191\"/>\r\n     <use style=\"fill:#4c72b0;stroke:#4c72b0;\" x=\"190.630001\" xlink:href=\"#m28903a327e\" y=\"103.306734\"/>\r\n     <use style=\"fill:#4c72b0;stroke:#4c72b0;\" x=\"244.899112\" xlink:href=\"#m28903a327e\" y=\"178.76555\"/>\r\n     <use style=\"fill:#4c72b0;stroke:#4c72b0;\" x=\"204.859527\" xlink:href=\"#m28903a327e\" y=\"118.489627\"/>\r\n     <use style=\"fill:#4c72b0;stroke:#4c72b0;\" x=\"250.835219\" xlink:href=\"#m28903a327e\" y=\"50.514156\"/>\r\n     <use style=\"fill:#4c72b0;stroke:#4c72b0;\" x=\"278.798157\" xlink:href=\"#m28903a327e\" y=\"161.748687\"/>\r\n     <use style=\"fill:#4c72b0;stroke:#4c72b0;\" x=\"288.658225\" xlink:href=\"#m28903a327e\" y=\"177.52556\"/>\r\n     <use style=\"fill:#4c72b0;stroke:#4c72b0;\" x=\"298.734885\" xlink:href=\"#m28903a327e\" y=\"81.578084\"/>\r\n     <use style=\"fill:#4c72b0;stroke:#4c72b0;\" x=\"266.26183\" xlink:href=\"#m28903a327e\" y=\"152.879475\"/>\r\n     <use style=\"fill:#4c72b0;stroke:#4c72b0;\" x=\"215.816827\" xlink:href=\"#m28903a327e\" y=\"69.56123\"/>\r\n     <use style=\"fill:#4c72b0;stroke:#4c72b0;\" x=\"295.266782\" xlink:href=\"#m28903a327e\" y=\"141.970725\"/>\r\n     <use style=\"fill:#4c72b0;stroke:#4c72b0;\" x=\"257.143906\" xlink:href=\"#m28903a327e\" y=\"116.120041\"/>\r\n     <use style=\"fill:#4c72b0;stroke:#4c72b0;\" x=\"248.12955\" xlink:href=\"#m28903a327e\" y=\"117.523703\"/>\r\n     <use style=\"fill:#4c72b0;stroke:#4c72b0;\" x=\"291.128354\" xlink:href=\"#m28903a327e\" y=\"96.776269\"/>\r\n     <use style=\"fill:#4c72b0;stroke:#4c72b0;\" x=\"269.143847\" xlink:href=\"#m28903a327e\" y=\"27.435211\"/>\r\n     <use style=\"fill:#4c72b0;stroke:#4c72b0;\" x=\"243.519754\" xlink:href=\"#m28903a327e\" y=\"81.788588\"/>\r\n     <use style=\"fill:#4c72b0;stroke:#4c72b0;\" x=\"292.764418\" xlink:href=\"#m28903a327e\" y=\"140.429294\"/>\r\n     <use style=\"fill:#4c72b0;stroke:#4c72b0;\" x=\"279.660137\" xlink:href=\"#m28903a327e\" y=\"154.79072\"/>\r\n     <use style=\"fill:#4c72b0;stroke:#4c72b0;\" x=\"276.615719\" xlink:href=\"#m28903a327e\" y=\"99.215324\"/>\r\n     <use style=\"fill:#4c72b0;stroke:#4c72b0;\" x=\"269.130739\" xlink:href=\"#m28903a327e\" y=\"96.24175\"/>\r\n     <use style=\"fill:#4c72b0;stroke:#4c72b0;\" x=\"302.450986\" xlink:href=\"#m28903a327e\" y=\"176.295552\"/>\r\n     <use style=\"fill:#4c72b0;stroke:#4c72b0;\" x=\"282.299871\" xlink:href=\"#m28903a327e\" y=\"157.195346\"/>\r\n     <use style=\"fill:#4c72b0;stroke:#4c72b0;\" x=\"304.081999\" xlink:href=\"#m28903a327e\" y=\"150.788443\"/>\r\n     <use style=\"fill:#4c72b0;stroke:#4c72b0;\" x=\"250.002533\" xlink:href=\"#m28903a327e\" y=\"165.650796\"/>\r\n     <use style=\"fill:#4c72b0;stroke:#4c72b0;\" x=\"260.168916\" xlink:href=\"#m28903a327e\" y=\"166.611751\"/>\r\n     <use style=\"fill:#4c72b0;stroke:#4c72b0;\" x=\"283.316315\" xlink:href=\"#m28903a327e\" y=\"99.046314\"/>\r\n     <use style=\"fill:#4c72b0;stroke:#4c72b0;\" x=\"276.385789\" xlink:href=\"#m28903a327e\" y=\"127.087172\"/>\r\n     <use style=\"fill:#4c72b0;stroke:#4c72b0;\" x=\"269.69008\" xlink:href=\"#m28903a327e\" y=\"86.268421\"/>\r\n     <use style=\"fill:#4c72b0;stroke:#4c72b0;\" x=\"287.591148\" xlink:href=\"#m28903a327e\" y=\"162.004733\"/>\r\n     <use style=\"fill:#4c72b0;stroke:#4c72b0;\" x=\"191.285321\" xlink:href=\"#m28903a327e\" y=\"96.108883\"/>\r\n     <use style=\"fill:#4c72b0;stroke:#4c72b0;\" x=\"293.344003\" xlink:href=\"#m28903a327e\" y=\"160.758352\"/>\r\n     <use style=\"fill:#4c72b0;stroke:#4c72b0;\" x=\"271.346151\" xlink:href=\"#m28903a327e\" y=\"168.494001\"/>\r\n     <use style=\"fill:#4c72b0;stroke:#4c72b0;\" x=\"274.907969\" xlink:href=\"#m28903a327e\" y=\"168.997256\"/>\r\n     <use style=\"fill:#4c72b0;stroke:#4c72b0;\" x=\"216.898356\" xlink:href=\"#m28903a327e\" y=\"101.355147\"/>\r\n     <use style=\"fill:#4c72b0;stroke:#4c72b0;\" x=\"321.112737\" xlink:href=\"#m28903a327e\" y=\"214.304358\"/>\r\n     <use style=\"fill:#4c72b0;stroke:#4c72b0;\" x=\"262.222179\" xlink:href=\"#m28903a327e\" y=\"175.607966\"/>\r\n     <use style=\"fill:#4c72b0;stroke:#4c72b0;\" x=\"288.371112\" xlink:href=\"#m28903a327e\" y=\"144.49786\"/>\r\n     <use style=\"fill:#4c72b0;stroke:#4c72b0;\" x=\"303.611655\" xlink:href=\"#m28903a327e\" y=\"154.408425\"/>\r\n     <use style=\"fill:#4c72b0;stroke:#4c72b0;\" x=\"296.709391\" xlink:href=\"#m28903a327e\" y=\"120.994642\"/>\r\n     <use style=\"fill:#4c72b0;stroke:#4c72b0;\" x=\"294.600848\" xlink:href=\"#m28903a327e\" y=\"177.583625\"/>\r\n     <use style=\"fill:#4c72b0;stroke:#4c72b0;\" x=\"268.779641\" xlink:href=\"#m28903a327e\" y=\"112.18438\"/>\r\n     <use style=\"fill:#4c72b0;stroke:#4c72b0;\" x=\"292.820174\" xlink:href=\"#m28903a327e\" y=\"128.198293\"/>\r\n     <use style=\"fill:#4c72b0;stroke:#4c72b0;\" x=\"300.394636\" xlink:href=\"#m28903a327e\" y=\"145.622989\"/>\r\n     <use style=\"fill:#4c72b0;stroke:#4c72b0;\" x=\"282.382514\" xlink:href=\"#m28903a327e\" y=\"141.44846\"/>\r\n     <use style=\"fill:#4c72b0;stroke:#4c72b0;\" x=\"282.26799\" xlink:href=\"#m28903a327e\" y=\"177.279348\"/>\r\n     <use style=\"fill:#4c72b0;stroke:#4c72b0;\" x=\"285.914572\" xlink:href=\"#m28903a327e\" y=\"113.051839\"/>\r\n     <use style=\"fill:#4c72b0;stroke:#4c72b0;\" x=\"271.321537\" xlink:href=\"#m28903a327e\" y=\"89.704057\"/>\r\n     <use style=\"fill:#4c72b0;stroke:#4c72b0;\" x=\"324.893105\" xlink:href=\"#m28903a327e\" y=\"39.937402\"/>\r\n     <use style=\"fill:#4c72b0;stroke:#4c72b0;\" x=\"310.2746\" xlink:href=\"#m28903a327e\" y=\"75.799255\"/>\r\n     <use style=\"fill:#4c72b0;stroke:#4c72b0;\" x=\"302.988638\" xlink:href=\"#m28903a327e\" y=\"162.532603\"/>\r\n     <use style=\"fill:#4c72b0;stroke:#4c72b0;\" x=\"348.61968\" xlink:href=\"#m28903a327e\" y=\"113.108886\"/>\r\n     <use style=\"fill:#4c72b0;stroke:#4c72b0;\" x=\"189.238023\" xlink:href=\"#m28903a327e\" y=\"93.143229\"/>\r\n     <use style=\"fill:#4c72b0;stroke:#4c72b0;\" x=\"179.509485\" xlink:href=\"#m28903a327e\" y=\"118.285513\"/>\r\n     <use style=\"fill:#4c72b0;stroke:#4c72b0;\" x=\"208.701407\" xlink:href=\"#m28903a327e\" y=\"103.970237\"/>\r\n     <use style=\"fill:#4c72b0;stroke:#4c72b0;\" x=\"164.487479\" xlink:href=\"#m28903a327e\" y=\"88.558835\"/>\r\n     <use style=\"fill:#4c72b0;stroke:#4c72b0;\" x=\"229.609899\" xlink:href=\"#m28903a327e\" y=\"127.699466\"/>\r\n     <use style=\"fill:#4c72b0;stroke:#4c72b0;\" x=\"204.567125\" xlink:href=\"#m28903a327e\" y=\"162.138433\"/>\r\n     <use style=\"fill:#4c72b0;stroke:#4c72b0;\" x=\"225.663357\" xlink:href=\"#m28903a327e\" y=\"135.443185\"/>\r\n     <use style=\"fill:#4c72b0;stroke:#4c72b0;\" x=\"170.625499\" xlink:href=\"#m28903a327e\" y=\"105.807012\"/>\r\n     <use style=\"fill:#4c72b0;stroke:#4c72b0;\" x=\"218.301493\" xlink:href=\"#m28903a327e\" y=\"141.604012\"/>\r\n     <use style=\"fill:#4c72b0;stroke:#4c72b0;\" x=\"179.162429\" xlink:href=\"#m28903a327e\" y=\"85.174255\"/>\r\n     <use style=\"fill:#4c72b0;stroke:#4c72b0;\" x=\"149.92816\" xlink:href=\"#m28903a327e\" y=\"125.719899\"/>\r\n     <use style=\"fill:#4c72b0;stroke:#4c72b0;\" x=\"158.003269\" xlink:href=\"#m28903a327e\" y=\"72.172854\"/>\r\n     <use style=\"fill:#4c72b0;stroke:#4c72b0;\" x=\"183.082106\" xlink:href=\"#m28903a327e\" y=\"17.535642\"/>\r\n     <use style=\"fill:#4c72b0;stroke:#4c72b0;\" x=\"183.098785\" xlink:href=\"#m28903a327e\" y=\"115.822138\"/>\r\n     <use style=\"fill:#4c72b0;stroke:#4c72b0;\" x=\"204.198719\" xlink:href=\"#m28903a327e\" y=\"111.956234\"/>\r\n     <use style=\"fill:#4c72b0;stroke:#4c72b0;\" x=\"176.216081\" xlink:href=\"#m28903a327e\" y=\"75.090209\"/>\r\n     <use style=\"fill:#4c72b0;stroke:#4c72b0;\" x=\"182.690058\" xlink:href=\"#m28903a327e\" y=\"75.264146\"/>\r\n     <use style=\"fill:#4c72b0;stroke:#4c72b0;\" x=\"113.336712\" xlink:href=\"#m28903a327e\" y=\"126.743296\"/>\r\n     <use style=\"fill:#4c72b0;stroke:#4c72b0;\" x=\"204.40955\" xlink:href=\"#m28903a327e\" y=\"94.871565\"/>\r\n     <use style=\"fill:#4c72b0;stroke:#4c72b0;\" x=\"187.088095\" xlink:href=\"#m28903a327e\" y=\"105.510692\"/>\r\n     <use style=\"fill:#4c72b0;stroke:#4c72b0;\" x=\"192.729435\" xlink:href=\"#m28903a327e\" y=\"123.389556\"/>\r\n     <use style=\"fill:#4c72b0;stroke:#4c72b0;\" x=\"171.380356\" xlink:href=\"#m28903a327e\" y=\"112.662293\"/>\r\n     <use style=\"fill:#4c72b0;stroke:#4c72b0;\" x=\"188.298443\" xlink:href=\"#m28903a327e\" y=\"96.045141\"/>\r\n     <use style=\"fill:#4c72b0;stroke:#4c72b0;\" x=\"122.587936\" xlink:href=\"#m28903a327e\" y=\"123.225895\"/>\r\n     <use style=\"fill:#4c72b0;stroke:#4c72b0;\" x=\"175.710068\" xlink:href=\"#m28903a327e\" y=\"90.413319\"/>\r\n     <use style=\"fill:#4c72b0;stroke:#4c72b0;\" x=\"209.159174\" xlink:href=\"#m28903a327e\" y=\"67.368824\"/>\r\n     <use style=\"fill:#4c72b0;stroke:#4c72b0;\" x=\"143.984699\" xlink:href=\"#m28903a327e\" y=\"106.520277\"/>\r\n     <use style=\"fill:#4c72b0;stroke:#4c72b0;\" x=\"224.18748\" xlink:href=\"#m28903a327e\" y=\"124.309828\"/>\r\n     <use style=\"fill:#4c72b0;stroke:#4c72b0;\" x=\"190.943965\" xlink:href=\"#m28903a327e\" y=\"170.027691\"/>\r\n     <use style=\"fill:#4c72b0;stroke:#4c72b0;\" x=\"145.036121\" xlink:href=\"#m28903a327e\" y=\"72.766538\"/>\r\n     <use style=\"fill:#4c72b0;stroke:#4c72b0;\" x=\"145.92785\" xlink:href=\"#m28903a327e\" y=\"104.071426\"/>\r\n     <use style=\"fill:#4c72b0;stroke:#4c72b0;\" x=\"185.755744\" xlink:href=\"#m28903a327e\" y=\"142.796722\"/>\r\n     <use style=\"fill:#4c72b0;stroke:#4c72b0;\" x=\"194.129777\" xlink:href=\"#m28903a327e\" y=\"79.922029\"/>\r\n     <use style=\"fill:#4c72b0;stroke:#4c72b0;\" x=\"149.48994\" xlink:href=\"#m28903a327e\" y=\"108.827337\"/>\r\n     <use style=\"fill:#4c72b0;stroke:#4c72b0;\" x=\"161.718041\" xlink:href=\"#m28903a327e\" y=\"142.982143\"/>\r\n     <use style=\"fill:#4c72b0;stroke:#4c72b0;\" x=\"142.910955\" xlink:href=\"#m28903a327e\" y=\"120.97237\"/>\r\n     <use style=\"fill:#4c72b0;stroke:#4c72b0;\" x=\"156.933351\" xlink:href=\"#m28903a327e\" y=\"104.778402\"/>\r\n     <use style=\"fill:#4c72b0;stroke:#4c72b0;\" x=\"179.922389\" xlink:href=\"#m28903a327e\" y=\"150.614311\"/>\r\n     <use style=\"fill:#4c72b0;stroke:#4c72b0;\" x=\"144.355115\" xlink:href=\"#m28903a327e\" y=\"142.47604\"/>\r\n     <use style=\"fill:#4c72b0;stroke:#4c72b0;\" x=\"131.404837\" xlink:href=\"#m28903a327e\" y=\"111.695738\"/>\r\n     <use style=\"fill:#4c72b0;stroke:#4c72b0;\" x=\"174.187216\" xlink:href=\"#m28903a327e\" y=\"172.546533\"/>\r\n     <use style=\"fill:#4c72b0;stroke:#4c72b0;\" x=\"177.224434\" xlink:href=\"#m28903a327e\" y=\"104.700393\"/>\r\n     <use style=\"fill:#4c72b0;stroke:#4c72b0;\" x=\"114.475958\" xlink:href=\"#m28903a327e\" y=\"114.611681\"/>\r\n     <use style=\"fill:#4c72b0;stroke:#4c72b0;\" x=\"150.133549\" xlink:href=\"#m28903a327e\" y=\"145.855244\"/>\r\n     <use style=\"fill:#4c72b0;stroke:#4c72b0;\" x=\"126.053623\" xlink:href=\"#m28903a327e\" y=\"140.723022\"/>\r\n     <use style=\"fill:#4c72b0;stroke:#4c72b0;\" x=\"178.796041\" xlink:href=\"#m28903a327e\" y=\"60.861526\"/>\r\n     <use style=\"fill:#4c72b0;stroke:#4c72b0;\" x=\"146.471849\" xlink:href=\"#m28903a327e\" y=\"144.509835\"/>\r\n     <use style=\"fill:#4c72b0;stroke:#4c72b0;\" x=\"108.718027\" xlink:href=\"#m28903a327e\" y=\"141.337757\"/>\r\n     <use style=\"fill:#4c72b0;stroke:#4c72b0;\" x=\"152.966493\" xlink:href=\"#m28903a327e\" y=\"62.023623\"/>\r\n     <use style=\"fill:#4c72b0;stroke:#4c72b0;\" x=\"169.466018\" xlink:href=\"#m28903a327e\" y=\"123.629994\"/>\r\n     <use style=\"fill:#4c72b0;stroke:#4c72b0;\" x=\"165.858032\" xlink:href=\"#m28903a327e\" y=\"130.649559\"/>\r\n     <use style=\"fill:#4c72b0;stroke:#4c72b0;\" x=\"194.895984\" xlink:href=\"#m28903a327e\" y=\"77.030394\"/>\r\n     <use style=\"fill:#4c72b0;stroke:#4c72b0;\" x=\"154.70736\" xlink:href=\"#m28903a327e\" y=\"181.192868\"/>\r\n     <use style=\"fill:#4c72b0;stroke:#4c72b0;\" x=\"113.618071\" xlink:href=\"#m28903a327e\" y=\"136.402523\"/>\r\n     <use style=\"fill:#4c72b0;stroke:#4c72b0;\" x=\"124.990013\" xlink:href=\"#m28903a327e\" y=\"134.494969\"/>\r\n     <use style=\"fill:#4c72b0;stroke:#4c72b0;\" x=\"138.171031\" xlink:href=\"#m28903a327e\" y=\"119.677511\"/>\r\n     <use style=\"fill:#4c72b0;stroke:#4c72b0;\" x=\"184.877422\" xlink:href=\"#m28903a327e\" y=\"130.554881\"/>\r\n     <use style=\"fill:#4c72b0;stroke:#4c72b0;\" x=\"110.78012\" xlink:href=\"#m28903a327e\" y=\"124.475358\"/>\r\n     <use style=\"fill:#4c72b0;stroke:#4c72b0;\" x=\"111.779786\" xlink:href=\"#m28903a327e\" y=\"103.124563\"/>\r\n     <use style=\"fill:#4c72b0;stroke:#4c72b0;\" x=\"106.107773\" xlink:href=\"#m28903a327e\" y=\"143.278407\"/>\r\n     <use style=\"fill:#4c72b0;stroke:#4c72b0;\" x=\"136.574968\" xlink:href=\"#m28903a327e\" y=\"132.494463\"/>\r\n     <use style=\"fill:#4c72b0;stroke:#4c72b0;\" x=\"85.369376\" xlink:href=\"#m28903a327e\" y=\"152.033675\"/>\r\n     <use style=\"fill:#4c72b0;stroke:#4c72b0;\" x=\"161.705215\" xlink:href=\"#m28903a327e\" y=\"133.059637\"/>\r\n     <use style=\"fill:#4c72b0;stroke:#4c72b0;\" x=\"134.348779\" xlink:href=\"#m28903a327e\" y=\"85.406244\"/>\r\n     <use style=\"fill:#4c72b0;stroke:#4c72b0;\" x=\"119.540706\" xlink:href=\"#m28903a327e\" y=\"123.411796\"/>\r\n     <use style=\"fill:#4c72b0;stroke:#4c72b0;\" x=\"101.363981\" xlink:href=\"#m28903a327e\" y=\"146.796535\"/>\r\n     <use style=\"fill:#4c72b0;stroke:#4c72b0;\" x=\"148.480394\" xlink:href=\"#m28903a327e\" y=\"87.255297\"/>\r\n     <use style=\"fill:#4c72b0;stroke:#4c72b0;\" x=\"124.871231\" xlink:href=\"#m28903a327e\" y=\"124.047246\"/>\r\n     <use style=\"fill:#4c72b0;stroke:#4c72b0;\" x=\"130.595147\" xlink:href=\"#m28903a327e\" y=\"130.714841\"/>\r\n     <use style=\"fill:#4c72b0;stroke:#4c72b0;\" x=\"104.387556\" xlink:href=\"#m28903a327e\" y=\"140.793773\"/>\r\n     <use style=\"fill:#4c72b0;stroke:#4c72b0;\" x=\"174.300673\" xlink:href=\"#m28903a327e\" y=\"163.065769\"/>\r\n     <use style=\"fill:#4c72b0;stroke:#4c72b0;\" x=\"104.923999\" xlink:href=\"#m28903a327e\" y=\"133.186198\"/>\r\n     <use style=\"fill:#4c72b0;stroke:#4c72b0;\" x=\"120.814293\" xlink:href=\"#m28903a327e\" y=\"106.336846\"/>\r\n     <use style=\"fill:#4c72b0;stroke:#4c72b0;\" x=\"141.396462\" xlink:href=\"#m28903a327e\" y=\"98.68569\"/>\r\n     <use style=\"fill:#4c72b0;stroke:#4c72b0;\" x=\"127.905798\" xlink:href=\"#m28903a327e\" y=\"109.523689\"/>\r\n     <use style=\"fill:#4c72b0;stroke:#4c72b0;\" x=\"77.719504\" xlink:href=\"#m28903a327e\" y=\"147.914765\"/>\r\n     <use style=\"fill:#4c72b0;stroke:#4c72b0;\" x=\"86.455288\" xlink:href=\"#m28903a327e\" y=\"133.089365\"/>\r\n     <use style=\"fill:#4c72b0;stroke:#4c72b0;\" x=\"81.619748\" xlink:href=\"#m28903a327e\" y=\"147.67084\"/>\r\n     <use style=\"fill:#4c72b0;stroke:#4c72b0;\" x=\"72.971624\" xlink:href=\"#m28903a327e\" y=\"152.468915\"/>\r\n     <use style=\"fill:#4c72b0;stroke:#4c72b0;\" x=\"180.033058\" xlink:href=\"#m28903a327e\" y=\"155.044008\"/>\r\n     <use style=\"fill:#4c72b0;stroke:#4c72b0;\" x=\"48.844859\" xlink:href=\"#m28903a327e\" y=\"174.824618\"/>\r\n     <use style=\"fill:#4c72b0;stroke:#4c72b0;\" x=\"44.663758\" xlink:href=\"#m28903a327e\" y=\"156.703665\"/>\r\n     <use style=\"fill:#4c72b0;stroke:#4c72b0;\" x=\"113.870812\" xlink:href=\"#m28903a327e\" y=\"138.353333\"/>\r\n     <use style=\"fill:#4c72b0;stroke:#4c72b0;\" x=\"104.49522\" xlink:href=\"#m28903a327e\" y=\"137.508182\"/>\r\n     <use style=\"fill:#4c72b0;stroke:#4c72b0;\" x=\"124.739729\" xlink:href=\"#m28903a327e\" y=\"144.909064\"/>\r\n     <use style=\"fill:#4c72b0;stroke:#4c72b0;\" x=\"105.977381\" xlink:href=\"#m28903a327e\" y=\"139.120944\"/>\r\n     <use style=\"fill:#4c72b0;stroke:#4c72b0;\" x=\"91.87311\" xlink:href=\"#m28903a327e\" y=\"155.615063\"/>\r\n     <use style=\"fill:#4c72b0;stroke:#4c72b0;\" x=\"108.876272\" xlink:href=\"#m28903a327e\" y=\"135.532647\"/>\r\n     <use style=\"fill:#4c72b0;stroke:#4c72b0;\" x=\"96.761051\" xlink:href=\"#m28903a327e\" y=\"82.421586\"/>\r\n     <use style=\"fill:#4c72b0;stroke:#4c72b0;\" x=\"117.641228\" xlink:href=\"#m28903a327e\" y=\"115.1387\"/>\r\n     <use style=\"fill:#4c72b0;stroke:#4c72b0;\" x=\"123.392228\" xlink:href=\"#m28903a327e\" y=\"107.216136\"/>\r\n     <use style=\"fill:#4c72b0;stroke:#4c72b0;\" x=\"102.644757\" xlink:href=\"#m28903a327e\" y=\"158.108458\"/>\r\n     <use style=\"fill:#4c72b0;stroke:#4c72b0;\" x=\"86.842049\" xlink:href=\"#m28903a327e\" y=\"134.522245\"/>\r\n     <use style=\"fill:#4c72b0;stroke:#4c72b0;\" x=\"97.428384\" xlink:href=\"#m28903a327e\" y=\"131.966146\"/>\r\n     <use style=\"fill:#4c72b0;stroke:#4c72b0;\" x=\"94.219081\" xlink:href=\"#m28903a327e\" y=\"131.447595\"/>\r\n     <use style=\"fill:#4c72b0;stroke:#4c72b0;\" x=\"74.802861\" xlink:href=\"#m28903a327e\" y=\"167.621365\"/>\r\n     <use style=\"fill:#4c72b0;stroke:#4c72b0;\" x=\"82.660821\" xlink:href=\"#m28903a327e\" y=\"138.392376\"/>\r\n     <use style=\"fill:#4c72b0;stroke:#4c72b0;\" x=\"92.783542\" xlink:href=\"#m28903a327e\" y=\"135.93492\"/>\r\n     <use style=\"fill:#4c72b0;stroke:#4c72b0;\" x=\"117.059724\" xlink:href=\"#m28903a327e\" y=\"169.167938\"/>\r\n     <use style=\"fill:#4c72b0;stroke:#4c72b0;\" x=\"100.495582\" xlink:href=\"#m28903a327e\" y=\"111.779754\"/>\r\n    </g>\r\n   </g>\r\n   <g id=\"patch_3\">\r\n    <path d=\"M 29.241719 224.64 \r\nL 29.241719 7.2 \r\n\" style=\"fill:none;stroke:#ffffff;stroke-linecap:square;stroke-linejoin:miter;stroke-width:1.25;\"/>\r\n   </g>\r\n   <g id=\"patch_4\">\r\n    <path d=\"M 364.041719 224.64 \r\nL 364.041719 7.2 \r\n\" style=\"fill:none;stroke:#ffffff;stroke-linecap:square;stroke-linejoin:miter;stroke-width:1.25;\"/>\r\n   </g>\r\n   <g id=\"patch_5\">\r\n    <path d=\"M 29.241719 224.64 \r\nL 364.041719 224.64 \r\n\" style=\"fill:none;stroke:#ffffff;stroke-linecap:square;stroke-linejoin:miter;stroke-width:1.25;\"/>\r\n   </g>\r\n   <g id=\"patch_6\">\r\n    <path d=\"M 29.241719 7.2 \r\nL 364.041719 7.2 \r\n\" style=\"fill:none;stroke:#ffffff;stroke-linecap:square;stroke-linejoin:miter;stroke-width:1.25;\"/>\r\n   </g>\r\n  </g>\r\n </g>\r\n <defs>\r\n  <clipPath id=\"pd3f684bc75\">\r\n   <rect height=\"217.44\" width=\"334.8\" x=\"29.241719\" y=\"7.2\"/>\r\n  </clipPath>\r\n </defs>\r\n</svg>\r\n",
      "image/png": "[encoded data removed]"
     },
     "metadata": {}
    }
   ],
   "source": [
    "from matplotlib import pyplot as plt\n",
    "plt.scatter(prin_comp[:,0], prin_comp[:,1],color='b')"
   ]
  },
  {
   "cell_type": "code",
   "execution_count": 64,
   "metadata": {
    "tags": []
   },
   "outputs": [
    {
     "output_type": "execute_result",
     "data": {
      "text/plain": "1.0"
     },
     "metadata": {},
     "execution_count": 64
    }
   ],
   "source": [
    "#---------------------------------------\n",
    "# Fórmula para colaboratividad\n",
    "#---------------------------------------\n",
    "\n",
    "eg = df['Eficiencia Global'].tolist()\n",
    "tr = df['Transitividad'].tolist()\n",
    "comunicacion = [eg[x]+tr[x] for x in range(n)]\n",
    "\n",
    "r= df['Radio'].tolist()\n",
    "sr= df['Spectral radius'].tolist()\n",
    "size=[-r[x]/28-sr[x]/5 for x in range(n)]\n",
    "\n",
    "rcc = df['Rich Club Coefficient'].tolist()\n",
    "cr = df['Core Ratio'].tolist()\n",
    "preparacion = [(rcc[x]+cr[x])/2 for x in range(n)]\n",
    "\n",
    "colab={}\n",
    "\n",
    "colab = {comunicacion[x]+preparacion[x]+size[x]: x for x in range(n)}\n",
    "order_colab=list(colab.keys())\n",
    "order_colab.sort()\n",
    "ratio=0\n",
    "for i in range(40):\n",
    "    if colab[order_colab[i]]<101:\n",
    "        ratio+=1\n",
    "ratio/40"
   ]
  },
  {
   "cell_type": "code",
   "execution_count": 60,
   "metadata": {
    "tags": []
   },
   "outputs": [
    {
     "output_type": "execute_result",
     "data": {
      "text/plain": "0.9"
     },
     "metadata": {},
     "execution_count": 60
    }
   ],
   "source": [
    "#Bad number between 11 and 35 is higher than 36 to 60\n",
    "\n",
    "eg = df['Eficiencia Global'].tolist()\n",
    "tr = df['Transitividad'].tolist()\n",
    "comunicacion = [eg[x]+tr[x] for x in range(n)]\n",
    "\n",
    "r= df['Radio'].tolist()\n",
    "sr= df['Spectral radius'].tolist()\n",
    "size=[-r[x]/28-sr[x]/5 for x in range(n)]\n",
    "\n",
    "rcc = df['Rich Club Coefficient'].tolist()\n",
    "cr = df['Core Ratio'].tolist()\n",
    "preparacion = [(rcc[x]+cr[x])/2 for x in range(n)]\n",
    "\n",
    "colab = {((comunicacion[x]**2+preparacion[x]**2+size[x]**2)/3)**(1/2): x for x in range(n)}\n",
    "order_colab=list(colab.keys())\n",
    "order_colab.sort()\n",
    "ratio=0\n",
    "for i in range(40):\n",
    "    if colab[order_colab[i]]<101:\n",
    "        ratio+=1\n",
    "ratio/40"
   ]
  },
  {
   "cell_type": "code",
   "execution_count": 61,
   "metadata": {
    "tags": []
   },
   "outputs": [
    {
     "output_type": "execute_result",
     "data": {
      "text/plain": "1.0"
     },
     "metadata": {},
     "execution_count": 61
    }
   ],
   "source": [
    "eg = df['Eficiencia Global'].tolist()\n",
    "comunicacion = [eg[x] for x in range(n)]\n",
    "\n",
    "rcc= df['Rich Club Coefficient'].tolist()\n",
    "mod= df['Modularidad'].tolist()\n",
    "futuro=[(rcc[x]+1-mod[x])/2 for x in range(n)]\n",
    "\n",
    "tr = df['Transitividad'].tolist()\n",
    "resistencia = [tr[x] for x in range(n)]\n",
    "\n",
    "colab = {((comunicacion[x]**2+futuro[x]**2+resistencia[x]**2)/3)**(1/2): x for x in range(n)}\n",
    "order_colab=list(colab.keys())\n",
    "order_colab.sort()\n",
    "ratio=0\n",
    "for i in range(40):\n",
    "    if colab[order_colab[i]]<101:\n",
    "        ratio+=1\n",
    "ratio/40"
   ]
  },
  {
   "cell_type": "code",
   "execution_count": 66,
   "metadata": {
    "tags": []
   },
   "outputs": [
    {
     "output_type": "execute_result",
     "data": {
      "text/plain": "0.975"
     },
     "metadata": {},
     "execution_count": 66
    }
   ],
   "source": [
    "eg = df['Eficiencia Global'].tolist()\n",
    "comunicacion = [eg[x] for x in range(n)]\n",
    "\n",
    "r= df['Transitividad'].tolist()\n",
    "size=[r[x] for x in range(n)]\n",
    "\n",
    "rcc = df['Core Ratio'].tolist()\n",
    "md= df['Modularidad'].tolist()\n",
    "preparacion = [1-(rcc[x]/2+md[x]/2) for x in range(n)]\n",
    "\n",
    "colab = {comunicacion[x]+preparacion[x]+size[x]: x for x in range(n)}\n",
    "order_colab=list(colab.keys())\n",
    "order_colab.sort()\n",
    "ratio=0\n",
    "for i in range(40):\n",
    "    if colab[order_colab[i]]<101:\n",
    "        ratio+=1\n",
    "ratio/40"
   ]
  },
  {
   "cell_type": "code",
   "execution_count": 67,
   "metadata": {
    "tags": []
   },
   "outputs": [
    {
     "output_type": "stream",
     "name": "stdout",
     "text": "85\n98\n80\n69\n84\n78\n88\n75\n92\n91\n49\n83\n29\n72\n22\n81\n28\n86\n55\n18\n77\n66\n71\n79\n89\n93\n95\n54\n57\n99\n90\n70\n5\n96\n97\n73\n67\n82\n68\n106\n20\n36\n76\n35\n50\n64\n42\n25\n44\n32\n62\n56\n144\n6\n23\n122\n8\n48\n59\n34\n108\n105\n1\n26\n94\n101\n87\n27\n51\n61\n45\n140\n63\n39\n60\n7\n53\n65\n15\n38\n135\n47\n113\n2\n31\n21\n156\n52\n161\n46\n74\n10\n102\n17\n159\n121\n13\n40\n143\n41\n3\n9\n107\n126\n37\n24\n195\n120\n110\n141\n109\n100\n165\n137\n58\n131\n16\n128\n43\n104\n160\n19\n114\n178\n14\n138\n116\n115\n132\n182\n0\n119\n111\n133\n30\n168\n155\n180\n174\n136\n149\n103\n147\n118\n177\n33\n125\n179\n154\n186\n191\n146\n172\n175\n152\n11\n171\n193\n170\n181\n196\n190\n185\n167\n150\n123\n12\n151\n117\n153\n142\n198\n127\n184\n134\n158\n187\n176\n139\n4\n124\n197\n173\n157\n162\n129\n183\n189\n166\n169\n130\n148\n164\n192\n112\n163\n145\n199\n194\n188\n"
    }
   ],
   "source": [
    "for i in range(200):\n",
    "    print(colab[order_colab[i]])"
   ]
  },
  {
   "cell_type": "code",
   "execution_count": 70,
   "metadata": {
    "tags": []
   },
   "outputs": [
    {
     "output_type": "execute_result",
     "data": {
      "text/plain": "1.0"
     },
     "metadata": {},
     "execution_count": 70
    }
   ],
   "source": [
    "eg = df['Eficiencia Global'].tolist()\n",
    "comunicacion = [eg[x] for x in range(n)]\n",
    "\n",
    "r= df['Transitividad'].tolist()\n",
    "size=[r[x] for x in range(n)]\n",
    "\n",
    "rcc = df['Core Ratio'].tolist()\n",
    "md= df['Modularidad'].tolist()\n",
    "preparacion = [1-(rcc[x]/2+md[x]/2) for x in range(n)]\n",
    "\n",
    "colab = {((comunicacion[x]**2+preparacion[x]**2+size[x]**2)/3)**(1/2): x for x in range(n)}\n",
    "order_colab=list(colab.keys())\n",
    "order_colab.sort()\n",
    "ratio=0\n",
    "for i in range(40):\n",
    "    if colab[order_colab[i]]<101:\n",
    "        ratio+=1\n",
    "ratio/40"
   ]
  },
  {
   "cell_type": "code",
   "execution_count": 69,
   "metadata": {},
   "outputs": [
    {
     "output_type": "execute_result",
     "data": {
      "text/plain": "1.0"
     },
     "metadata": {},
     "execution_count": 69
    }
   ],
   "source": [
    "eg = df['Eficiencia Global'].tolist()\n",
    "comunicacion = [eg[x] for x in range(n)]\n",
    "\n",
    "r= df['Transitividad'].tolist()\n",
    "size=[r[x] for x in range(n)]\n",
    "\n",
    "rcc = df['Excentricidad'].tolist()\n",
    "md= df['Modularidad'].tolist()\n",
    "preparacion = [1/rcc[x]-md[x]/2 for x in range(n)]\n",
    "\n",
    "colab = {comunicacion[x]+preparacion[x]+size[x]: x for x in range(n)}\n",
    "order_colab=list(colab.keys())\n",
    "order_colab.sort()\n",
    "ratio=0\n",
    "for i in range(40):\n",
    "    if colab[order_colab[i]]<101:\n",
    "        ratio+=1\n",
    "ratio/40"
   ]
  },
  {
   "cell_type": "code",
   "execution_count": null,
   "metadata": {},
   "outputs": [],
   "source": []
  }
 ],
 "metadata": {
  "@webio": {
   "lastCommId": null,
   "lastKernelId": null
  },
  "kernelspec": {
   "display_name": "Python 3",
   "language": "python",
   "name": "python3"
  },
  "language_info": {
   "codemirror_mode": {
    "name": "ipython",
    "version": 3
   },
   "file_extension": ".py",
   "mimetype": "text/x-python",
   "name": "python",
   "nbconvert_exporter": "python",
   "pygments_lexer": "ipython3",
   "version": "3.7.6-final"
  }
 },
 "nbformat": 4,
 "nbformat_minor": 4
}