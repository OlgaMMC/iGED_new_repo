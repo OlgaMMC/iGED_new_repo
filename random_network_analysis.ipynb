{
 "cells": [
  {
   "cell_type": "markdown",
   "metadata": {},
   "source": [
    "# iGED : Global Systems Dynamics Initiative\n",
    "\n",
    "El objetivo principal de este documento es analizar las métricas globales en las siguientes redes capitales\n",
    "\n",
    "  *  Ciudad Autónoma de Buenos Aires (CABA)\n",
    "  *  Ciudad de México (CDMX)\n",
    "  *  Santiago de Chile (SCL)\n",
    "  *  Montevideo (MTV)\n",
    "  *  Madrid (MAD)\n",
    "  *  Sao Paulo (SAO)\n",
    "\n",
    "y obtener un tidy DataFrame, para continuar analizando los datos obtenidos, por ejemplo obteniendo correlaciones entre parejas de métricas.\n",
    "\n",
    "Respecto al notebook anterior, utilizamos la documentación de NetworkX: https://www.nas.ewi.tudelft.nl/people/Piet/papers/TUDreport20111111_MetricList.pdf\n",
    "\n",
    "así como el siguiente recurso: https://www.nas.ewi.tudelft.nl/people/Piet/papers/TUDreport20111111_MetricList.pdf\n",
    "\n",
    "para saber con cuáles métricas globales seguir estudiando nuestros ecosistemas."
   ]
  },
  {
   "cell_type": "code",
   "execution_count": 1,
   "metadata": {},
   "outputs": [],
   "source": [
    "#-------------------------------------------------------\n",
    "# Importar paquetes a utilizar\n",
    "#-------------------------------------------------------\n",
    "import pandas as pd\n",
    "import numpy as np \n",
    "import networkx as nx\n",
    "import scipy.stats as stats\n",
    "\n",
    "import matplotlib.pyplot as plt\n",
    "import seaborn as sns; sns.set()\n",
    "\n",
    "G={}\n",
    "\n",
    "for i in range(10):\n",
    "    G[i]=nx.read_graphml('Random_Graphs/Random_Graph_'+str(i+1)+'.graphml')\n"
   ]
  },
  {
   "cell_type": "code",
   "execution_count": 2,
   "metadata": {},
   "outputs": [],
   "source": [
    "#--------------------------------\n",
    "# Central point of Dominance\n",
    "#--------------------------------\n",
    "\n",
    "\n",
    "def central_point_dominance(G):\n",
    "    betwennesses = nx.betweenness_centrality(G)\n",
    "    b_max = max(betwennesses.values())\n",
    "    N = len(betwennesses.keys())\n",
    "    count = 0\n",
    "    for i, b_i in betwennesses.items():\n",
    "        count += ( b_max - b_i )/(N-1)\n",
    "    return count"
   ]
  },
  {
   "cell_type": "code",
   "execution_count": 3,
   "metadata": {},
   "outputs": [],
   "source": [
    "#--------------------------------\n",
    "# Spectral Radius\n",
    "#--------------------------------\n",
    "#     the smaller the spectral radius rho, the higher the probability of 'virus infection' tau, \n",
    "#     the more difficult it is for an idea to spread in the innovative network, \n",
    "#     namely, the less efficient\n",
    "\n",
    "import numpy.linalg\n",
    "\n",
    "def spectral_radius(G):\n",
    "    L = nx.normalized_laplacian_matrix(G)\n",
    "    e = numpy.linalg.eigvals(L.A)\n",
    "    e_abs = [abs(x) for x in e]\n",
    "    return max(e_abs)"
   ]
  },
  {
   "cell_type": "code",
   "execution_count": 4,
   "metadata": {},
   "outputs": [],
   "source": [
    "def core_ratio(G):\n",
    "    return len(nx.k_core(G,k=2).nodes())/len(G.nodes())"
   ]
  },
  {
   "cell_type": "code",
   "execution_count": 5,
   "metadata": {},
   "outputs": [],
   "source": [
    "def rich_club_coeffs(G):\n",
    "    t_ok = True\n",
    "    t = 0\n",
    "    d = dict()\n",
    "    while t_ok:\n",
    "        nodes_large_degree=[]\n",
    "        for x in G.nodes():\n",
    "            if G.degree(x)>t:\n",
    "                nodes_large_degree.append(x)\n",
    "        core = G.subgraph(nodes_large_degree)\n",
    "        edges_core = len(core.edges())\n",
    "        nodes_core = len(core.nodes())\n",
    "        if nodes_core<=1:\n",
    "            t_ok = False\n",
    "            break\n",
    "        d[t] = (2*edges_core)/(nodes_core*(nodes_core-1))\n",
    "        t += 1 \n",
    "    return d        \n",
    "\n",
    "def max_rich_club(G):\n",
    "    #rich_club_1=nx.algorithms.rich_club_coefficient(G, normalized=False)\n",
    "    rich_club=rich_club_coeffs(G)\n",
    "    max_i=0\n",
    "    \n",
    "    for i in range(len(rich_club)):\n",
    "        if rich_club[i]>rich_club[max_i]:\n",
    "            max_i=i\n",
    "    return rich_club[max_i]"
   ]
  },
  {
   "cell_type": "markdown",
   "metadata": {},
   "source": [
    "## Creacion del Dataframe\n",
    "\n",
    "El siguiente bloque crea todas las metricas de la grafica que usaremos para estudiarlas."
   ]
  },
  {
   "cell_type": "code",
   "execution_count": 6,
   "metadata": {},
   "outputs": [
    {
     "output_type": "execute_result",
     "data": {
      "text/plain": "   Diámetro  Radio  Camino más corto promedio  Transitividad  \\\n0         5      4                   3.227126       0.057235   \n1         5      3                   2.972036       0.097466   \n2         5      3                   3.183248       0.074597   \n3         5      3                   3.110753       0.087683   \n4         5      3                   3.223024       0.100840   \n5         3      2                   2.169935       0.168224   \n6         6      3                   3.350386       0.071940   \n7         6      3                   3.150365       0.099850   \n8         6      4                   3.214849       0.086497   \n9         5      3                   3.198695       0.076463   \n\n   Eficiencia Global  Rich Club Coefficient  Core Ratio  \\\n0           0.342953               0.333333    0.741758   \n1           0.374024               0.400000    0.702128   \n2           0.349931               0.219780    0.634731   \n3           0.358951               1.000000    0.723684   \n4           0.343725               0.333333    0.597765   \n5           0.523965               1.000000    0.444444   \n6           0.329053               0.333333    0.593074   \n7           0.353618               0.333333    0.682353   \n8           0.347859               0.476190    0.721893   \n9           0.345227               0.236364    0.685279   \n\n   Central Point Dominance  Spectral radius  \n0                    0.117            1.818  \n1                    0.144            1.785  \n2                    0.103            1.818  \n3                    0.119            1.789  \n4                    0.130            1.796  \n5                    0.647            1.843  \n6                    0.119            1.806  \n7                    0.142            1.794  \n8                    0.158            1.864  \n9                    0.113            1.816  ",
      "text/html": "<div>\n<style scoped>\n    .dataframe tbody tr th:only-of-type {\n        vertical-align: middle;\n    }\n\n    .dataframe tbody tr th {\n        vertical-align: top;\n    }\n\n    .dataframe thead th {\n        text-align: right;\n    }\n</style>\n<table border=\"1\" class=\"dataframe\">\n  <thead>\n    <tr style=\"text-align: right;\">\n      <th></th>\n      <th>Diámetro</th>\n      <th>Radio</th>\n      <th>Camino más corto promedio</th>\n      <th>Transitividad</th>\n      <th>Eficiencia Global</th>\n      <th>Rich Club Coefficient</th>\n      <th>Core Ratio</th>\n      <th>Central Point Dominance</th>\n      <th>Spectral radius</th>\n    </tr>\n  </thead>\n  <tbody>\n    <tr>\n      <th>0</th>\n      <td>5</td>\n      <td>4</td>\n      <td>3.227126</td>\n      <td>0.057235</td>\n      <td>0.342953</td>\n      <td>0.333333</td>\n      <td>0.741758</td>\n      <td>0.117</td>\n      <td>1.818</td>\n    </tr>\n    <tr>\n      <th>1</th>\n      <td>5</td>\n      <td>3</td>\n      <td>2.972036</td>\n      <td>0.097466</td>\n      <td>0.374024</td>\n      <td>0.400000</td>\n      <td>0.702128</td>\n      <td>0.144</td>\n      <td>1.785</td>\n    </tr>\n    <tr>\n      <th>2</th>\n      <td>5</td>\n      <td>3</td>\n      <td>3.183248</td>\n      <td>0.074597</td>\n      <td>0.349931</td>\n      <td>0.219780</td>\n      <td>0.634731</td>\n      <td>0.103</td>\n      <td>1.818</td>\n    </tr>\n    <tr>\n      <th>3</th>\n      <td>5</td>\n      <td>3</td>\n      <td>3.110753</td>\n      <td>0.087683</td>\n      <td>0.358951</td>\n      <td>1.000000</td>\n      <td>0.723684</td>\n      <td>0.119</td>\n      <td>1.789</td>\n    </tr>\n    <tr>\n      <th>4</th>\n      <td>5</td>\n      <td>3</td>\n      <td>3.223024</td>\n      <td>0.100840</td>\n      <td>0.343725</td>\n      <td>0.333333</td>\n      <td>0.597765</td>\n      <td>0.130</td>\n      <td>1.796</td>\n    </tr>\n    <tr>\n      <th>5</th>\n      <td>3</td>\n      <td>2</td>\n      <td>2.169935</td>\n      <td>0.168224</td>\n      <td>0.523965</td>\n      <td>1.000000</td>\n      <td>0.444444</td>\n      <td>0.647</td>\n      <td>1.843</td>\n    </tr>\n    <tr>\n      <th>6</th>\n      <td>6</td>\n      <td>3</td>\n      <td>3.350386</td>\n      <td>0.071940</td>\n      <td>0.329053</td>\n      <td>0.333333</td>\n      <td>0.593074</td>\n      <td>0.119</td>\n      <td>1.806</td>\n    </tr>\n    <tr>\n      <th>7</th>\n      <td>6</td>\n      <td>3</td>\n      <td>3.150365</td>\n      <td>0.099850</td>\n      <td>0.353618</td>\n      <td>0.333333</td>\n      <td>0.682353</td>\n      <td>0.142</td>\n      <td>1.794</td>\n    </tr>\n    <tr>\n      <th>8</th>\n      <td>6</td>\n      <td>4</td>\n      <td>3.214849</td>\n      <td>0.086497</td>\n      <td>0.347859</td>\n      <td>0.476190</td>\n      <td>0.721893</td>\n      <td>0.158</td>\n      <td>1.864</td>\n    </tr>\n    <tr>\n      <th>9</th>\n      <td>5</td>\n      <td>3</td>\n      <td>3.198695</td>\n      <td>0.076463</td>\n      <td>0.345227</td>\n      <td>0.236364</td>\n      <td>0.685279</td>\n      <td>0.113</td>\n      <td>1.816</td>\n    </tr>\n  </tbody>\n</table>\n</div>"
     },
     "metadata": {},
     "execution_count": 6
    }
   ],
   "source": [
    "n=len(G)\n",
    "\n",
    "degree = n*[0]\n",
    "diameter = n*[0]\n",
    "radius = n*[0]\n",
    "avg_shortest_path_length = n*[0]\n",
    "transitivity = n*[0]\n",
    "global_efficiency = n*[0]\n",
    "modularity = n*[0]\n",
    "rich_club_coefficient = n*[0]\n",
    "core_rate= n*[0]\n",
    "central_pt = n*[0]\n",
    "spectral_radii = n*[0]\n",
    "\n",
    "for index in G.keys():\n",
    "    graph=G[index]\n",
    "    \n",
    "    #conseguimos cada parámetro para esta ciudad\n",
    "    diameter[index] =                     nx.diameter(graph)\n",
    "    radius[index] =                       nx.radius(graph)\n",
    "    avg_shortest_path_length[index] =     nx.average_shortest_path_length(graph)\n",
    "    transitivity[index] =                 nx.transitivity(graph)\n",
    "    global_efficiency[index] =            nx.global_efficiency(graph)\n",
    "    #modularidad precomputada\n",
    "    rich_club_coefficient[index] =        max_rich_club(graph)  \n",
    "    core_rate[index]=                     core_ratio(graph)\n",
    "    central_pt[index]=       central_point_dominance(graph)\n",
    "    spectral_radii[index]=               spectral_radius(graph)\n",
    "\n",
    "df=pd.DataFrame()\n",
    "\n",
    "for index in G.keys():\n",
    "    df['Diámetro'] = diameter\n",
    "    df['Radio'] = radius\n",
    "    df['Camino más corto promedio'] = avg_shortest_path_length\n",
    "    df['Transitividad'] = transitivity\n",
    "    df['Eficiencia Global'] = global_efficiency\n",
    "    df['Rich Club Coefficient'] = rich_club_coefficient\n",
    "    df['Core Ratio'] = core_rate\n",
    "    df['Central Point Dominance'] = [round(central_pt[index],3) for index in range(n)]\n",
    "    df['Spectral radius'] = [round(spectral_radii[index],3) for index in range(n)]\n",
    "\n",
    "\n",
    "df"
   ]
  },
  {
   "cell_type": "markdown",
   "metadata": {},
   "source": [
    "## Colaboracion\n",
    "\n",
    "Empezamos analizando las metricas que ya hemos calculado y luego usaremos esta informacion para crear una medida de la colaboracion."
   ]
  },
  {
   "cell_type": "code",
   "execution_count": 16,
   "metadata": {},
   "outputs": [
    {
     "output_type": "execute_result",
     "data": {
      "text/plain": "array([[-0.34456209, -0.3096399 , -0.38656376,  0.37324149,  0.39011543,\n         0.27763128, -0.32511172,  0.38564569,  0.1138856 ],\n       [ 0.03903127,  0.49329412, -0.0510798 , -0.04548513,  0.08624874,\n         0.02515771,  0.11337932,  0.16660001,  0.83772146],\n       [-0.09253905,  0.22352902, -0.10352821, -0.01472904,  0.05977722,\n         0.74670271,  0.56077815, -0.05041279, -0.22887644],\n       [-0.76601248,  0.16855561, -0.18642236, -0.29404793,  0.12236901,\n        -0.41335861,  0.25035117, -0.0314424 , -0.11871206],\n       [ 0.34708503,  0.14408779, -0.32131418,  0.52335957,  0.21776432,\n        -0.43415186,  0.44419102,  0.11864268, -0.18528832]])"
     },
     "metadata": {},
     "execution_count": 16
    }
   ],
   "source": [
    "#---------------------------------------------\n",
    "#Preparar escalas y herramientas para el analisis.\n",
    "#---------------------------------------------\n",
    "\n",
    "from sklearn.preprocessing import StandardScaler\n",
    "from sklearn.decomposition import PCA\n",
    "\n",
    "X=df.to_numpy()\n",
    "\n",
    "\n",
    "\n",
    "#normalized= StandardScaler().fit_transform(X)\n",
    "pca=PCA(n_components=5)\n",
    "prin_comp=pca.fit_transform(normalized)\n",
    "\n",
    "pca.components_"
   ]
  },
  {
   "cell_type": "code",
   "execution_count": 12,
   "metadata": {},
   "outputs": [
    {
     "output_type": "execute_result",
     "data": {
      "text/plain": "<matplotlib.collections.PathCollection at 0x2340b172888>"
     },
     "metadata": {},
     "execution_count": 12
    },
    {
     "output_type": "display_data",
     "data": {
      "text/plain": "<Figure size 432x288 with 1 Axes>",
      "image/svg+xml": "<?xml version=\"1.0\" encoding=\"utf-8\" standalone=\"no\"?>\r\n<!DOCTYPE svg PUBLIC \"-//W3C//DTD SVG 1.1//EN\"\r\n  \"http://www.w3.org/Graphics/SVG/1.1/DTD/svg11.dtd\">\r\n<!-- Created with matplotlib (https://matplotlib.org/) -->\r\n<svg height=\"251.399844pt\" version=\"1.1\" viewBox=\"0 0 380.414687 251.399844\" width=\"380.414687pt\" xmlns=\"http://www.w3.org/2000/svg\" xmlns:xlink=\"http://www.w3.org/1999/xlink\">\r\n <defs>\r\n  <style type=\"text/css\">\r\n*{stroke-linecap:butt;stroke-linejoin:round;}\r\n  </style>\r\n </defs>\r\n <g id=\"figure_1\">\r\n  <g id=\"patch_1\">\r\n   <path d=\"M 0 251.399844 \r\nL 380.414687 251.399844 \r\nL 380.414687 0 \r\nL 0 0 \r\nz\r\n\" style=\"fill:#ffffff;\"/>\r\n  </g>\r\n  <g id=\"axes_1\">\r\n   <g id=\"patch_2\">\r\n    <path d=\"M 38.414687 224.64 \r\nL 373.214688 224.64 \r\nL 373.214688 7.2 \r\nL 38.414687 7.2 \r\nz\r\n\" style=\"fill:#eaeaf2;\"/>\r\n   </g>\r\n   <g id=\"matplotlib.axis_1\">\r\n    <g id=\"xtick_1\">\r\n     <g id=\"line2d_1\">\r\n      <path clip-path=\"url(#pc93faf38be)\" d=\"M 50.255543 224.64 \r\nL 50.255543 7.2 \r\n\" style=\"fill:none;stroke:#ffffff;stroke-linecap:round;\"/>\r\n     </g>\r\n     <g id=\"text_1\">\r\n      <!-- −2 -->\r\n      <defs>\r\n       <path d=\"M 52.828125 31.203125 \r\nL 5.5625 31.203125 \r\nL 5.5625 39.40625 \r\nL 52.828125 39.40625 \r\nz\r\n\" id=\"ArialMT-8722\"/>\r\n       <path d=\"M 50.34375 8.453125 \r\nL 50.34375 0 \r\nL 3.03125 0 \r\nQ 2.9375 3.171875 4.046875 6.109375 \r\nQ 5.859375 10.9375 9.828125 15.625 \r\nQ 13.8125 20.3125 21.34375 26.46875 \r\nQ 33.015625 36.03125 37.109375 41.625 \r\nQ 41.21875 47.21875 41.21875 52.203125 \r\nQ 41.21875 57.421875 37.46875 61 \r\nQ 33.734375 64.59375 27.734375 64.59375 \r\nQ 21.390625 64.59375 17.578125 60.78125 \r\nQ 13.765625 56.984375 13.71875 50.25 \r\nL 4.6875 51.171875 \r\nQ 5.609375 61.28125 11.65625 66.578125 \r\nQ 17.71875 71.875 27.9375 71.875 \r\nQ 38.234375 71.875 44.234375 66.15625 \r\nQ 50.25 60.453125 50.25 52 \r\nQ 50.25 47.703125 48.484375 43.546875 \r\nQ 46.734375 39.40625 42.65625 34.8125 \r\nQ 38.578125 30.21875 29.109375 22.21875 \r\nQ 21.1875 15.578125 18.9375 13.203125 \r\nQ 16.703125 10.84375 15.234375 8.453125 \r\nz\r\n\" id=\"ArialMT-50\"/>\r\n      </defs>\r\n      <g style=\"fill:#262626;\" transform=\"translate(43.984684 242.013594)scale(0.11 -0.11)\">\r\n       <use xlink:href=\"#ArialMT-8722\"/>\r\n       <use x=\"58.398438\" xlink:href=\"#ArialMT-50\"/>\r\n      </g>\r\n     </g>\r\n    </g>\r\n    <g id=\"xtick_2\">\r\n     <g id=\"line2d_2\">\r\n      <path clip-path=\"url(#pc93faf38be)\" d=\"M 115.798204 224.64 \r\nL 115.798204 7.2 \r\n\" style=\"fill:none;stroke:#ffffff;stroke-linecap:round;\"/>\r\n     </g>\r\n     <g id=\"text_2\">\r\n      <!-- 0 -->\r\n      <defs>\r\n       <path d=\"M 4.15625 35.296875 \r\nQ 4.15625 48 6.765625 55.734375 \r\nQ 9.375 63.484375 14.515625 67.671875 \r\nQ 19.671875 71.875 27.484375 71.875 \r\nQ 33.25 71.875 37.59375 69.546875 \r\nQ 41.9375 67.234375 44.765625 62.859375 \r\nQ 47.609375 58.5 49.21875 52.21875 \r\nQ 50.828125 45.953125 50.828125 35.296875 \r\nQ 50.828125 22.703125 48.234375 14.96875 \r\nQ 45.65625 7.234375 40.5 3 \r\nQ 35.359375 -1.21875 27.484375 -1.21875 \r\nQ 17.140625 -1.21875 11.234375 6.203125 \r\nQ 4.15625 15.140625 4.15625 35.296875 \r\nz\r\nM 13.1875 35.296875 \r\nQ 13.1875 17.671875 17.3125 11.828125 \r\nQ 21.4375 6 27.484375 6 \r\nQ 33.546875 6 37.671875 11.859375 \r\nQ 41.796875 17.71875 41.796875 35.296875 \r\nQ 41.796875 52.984375 37.671875 58.78125 \r\nQ 33.546875 64.59375 27.390625 64.59375 \r\nQ 21.34375 64.59375 17.71875 59.46875 \r\nQ 13.1875 52.9375 13.1875 35.296875 \r\nz\r\n\" id=\"ArialMT-48\"/>\r\n      </defs>\r\n      <g style=\"fill:#262626;\" transform=\"translate(112.739688 242.013594)scale(0.11 -0.11)\">\r\n       <use xlink:href=\"#ArialMT-48\"/>\r\n      </g>\r\n     </g>\r\n    </g>\r\n    <g id=\"xtick_3\">\r\n     <g id=\"line2d_3\">\r\n      <path clip-path=\"url(#pc93faf38be)\" d=\"M 181.340864 224.64 \r\nL 181.340864 7.2 \r\n\" style=\"fill:none;stroke:#ffffff;stroke-linecap:round;\"/>\r\n     </g>\r\n     <g id=\"text_3\">\r\n      <!-- 2 -->\r\n      <g style=\"fill:#262626;\" transform=\"translate(178.282349 242.013594)scale(0.11 -0.11)\">\r\n       <use xlink:href=\"#ArialMT-50\"/>\r\n      </g>\r\n     </g>\r\n    </g>\r\n    <g id=\"xtick_4\">\r\n     <g id=\"line2d_4\">\r\n      <path clip-path=\"url(#pc93faf38be)\" d=\"M 246.883525 224.64 \r\nL 246.883525 7.2 \r\n\" style=\"fill:none;stroke:#ffffff;stroke-linecap:round;\"/>\r\n     </g>\r\n     <g id=\"text_4\">\r\n      <!-- 4 -->\r\n      <defs>\r\n       <path d=\"M 32.328125 0 \r\nL 32.328125 17.140625 \r\nL 1.265625 17.140625 \r\nL 1.265625 25.203125 \r\nL 33.9375 71.578125 \r\nL 41.109375 71.578125 \r\nL 41.109375 25.203125 \r\nL 50.78125 25.203125 \r\nL 50.78125 17.140625 \r\nL 41.109375 17.140625 \r\nL 41.109375 0 \r\nz\r\nM 32.328125 25.203125 \r\nL 32.328125 57.46875 \r\nL 9.90625 25.203125 \r\nz\r\n\" id=\"ArialMT-52\"/>\r\n      </defs>\r\n      <g style=\"fill:#262626;\" transform=\"translate(243.825009 242.013594)scale(0.11 -0.11)\">\r\n       <use xlink:href=\"#ArialMT-52\"/>\r\n      </g>\r\n     </g>\r\n    </g>\r\n    <g id=\"xtick_5\">\r\n     <g id=\"line2d_5\">\r\n      <path clip-path=\"url(#pc93faf38be)\" d=\"M 312.426185 224.64 \r\nL 312.426185 7.2 \r\n\" style=\"fill:none;stroke:#ffffff;stroke-linecap:round;\"/>\r\n     </g>\r\n     <g id=\"text_5\">\r\n      <!-- 6 -->\r\n      <defs>\r\n       <path d=\"M 49.75 54.046875 \r\nL 41.015625 53.375 \r\nQ 39.84375 58.546875 37.703125 60.890625 \r\nQ 34.125 64.65625 28.90625 64.65625 \r\nQ 24.703125 64.65625 21.53125 62.3125 \r\nQ 17.390625 59.28125 14.984375 53.46875 \r\nQ 12.59375 47.65625 12.5 36.921875 \r\nQ 15.671875 41.75 20.265625 44.09375 \r\nQ 24.859375 46.4375 29.890625 46.4375 \r\nQ 38.671875 46.4375 44.84375 39.96875 \r\nQ 51.03125 33.5 51.03125 23.25 \r\nQ 51.03125 16.5 48.125 10.71875 \r\nQ 45.21875 4.9375 40.140625 1.859375 \r\nQ 35.0625 -1.21875 28.609375 -1.21875 \r\nQ 17.625 -1.21875 10.6875 6.859375 \r\nQ 3.765625 14.9375 3.765625 33.5 \r\nQ 3.765625 54.25 11.421875 63.671875 \r\nQ 18.109375 71.875 29.4375 71.875 \r\nQ 37.890625 71.875 43.28125 67.140625 \r\nQ 48.6875 62.40625 49.75 54.046875 \r\nz\r\nM 13.875 23.1875 \r\nQ 13.875 18.65625 15.796875 14.5 \r\nQ 17.71875 10.359375 21.1875 8.171875 \r\nQ 24.65625 6 28.46875 6 \r\nQ 34.03125 6 38.03125 10.484375 \r\nQ 42.046875 14.984375 42.046875 22.703125 \r\nQ 42.046875 30.125 38.078125 34.390625 \r\nQ 34.125 38.671875 28.125 38.671875 \r\nQ 22.171875 38.671875 18.015625 34.390625 \r\nQ 13.875 30.125 13.875 23.1875 \r\nz\r\n\" id=\"ArialMT-54\"/>\r\n      </defs>\r\n      <g style=\"fill:#262626;\" transform=\"translate(309.36767 242.013594)scale(0.11 -0.11)\">\r\n       <use xlink:href=\"#ArialMT-54\"/>\r\n      </g>\r\n     </g>\r\n    </g>\r\n   </g>\r\n   <g id=\"matplotlib.axis_2\">\r\n    <g id=\"ytick_1\">\r\n     <g id=\"line2d_6\">\r\n      <path clip-path=\"url(#pc93faf38be)\" d=\"M 38.414687 211.950237 \r\nL 373.214688 211.950237 \r\n\" style=\"fill:none;stroke:#ffffff;stroke-linecap:round;\"/>\r\n     </g>\r\n     <g id=\"text_6\">\r\n      <!-- −1.0 -->\r\n      <defs>\r\n       <path d=\"M 37.25 0 \r\nL 28.46875 0 \r\nL 28.46875 56 \r\nQ 25.296875 52.984375 20.140625 49.953125 \r\nQ 14.984375 46.921875 10.890625 45.40625 \r\nL 10.890625 53.90625 \r\nQ 18.265625 57.375 23.78125 62.296875 \r\nQ 29.296875 67.234375 31.59375 71.875 \r\nL 37.25 71.875 \r\nz\r\n\" id=\"ArialMT-49\"/>\r\n       <path d=\"M 9.078125 0 \r\nL 9.078125 10.015625 \r\nL 19.09375 10.015625 \r\nL 19.09375 0 \r\nz\r\n\" id=\"ArialMT-46\"/>\r\n      </defs>\r\n      <g style=\"fill:#262626;\" transform=\"translate(7.2 215.887034)scale(0.11 -0.11)\">\r\n       <use xlink:href=\"#ArialMT-8722\"/>\r\n       <use x=\"58.398438\" xlink:href=\"#ArialMT-49\"/>\r\n       <use x=\"114.013672\" xlink:href=\"#ArialMT-46\"/>\r\n       <use x=\"141.796875\" xlink:href=\"#ArialMT-48\"/>\r\n      </g>\r\n     </g>\r\n    </g>\r\n    <g id=\"ytick_2\">\r\n     <g id=\"line2d_7\">\r\n      <path clip-path=\"url(#pc93faf38be)\" d=\"M 38.414687 185.711467 \r\nL 373.214688 185.711467 \r\n\" style=\"fill:none;stroke:#ffffff;stroke-linecap:round;\"/>\r\n     </g>\r\n     <g id=\"text_7\">\r\n      <!-- −0.5 -->\r\n      <defs>\r\n       <path d=\"M 4.15625 18.75 \r\nL 13.375 19.53125 \r\nQ 14.40625 12.796875 18.140625 9.390625 \r\nQ 21.875 6 27.15625 6 \r\nQ 33.5 6 37.890625 10.78125 \r\nQ 42.28125 15.578125 42.28125 23.484375 \r\nQ 42.28125 31 38.0625 35.34375 \r\nQ 33.84375 39.703125 27 39.703125 \r\nQ 22.75 39.703125 19.328125 37.765625 \r\nQ 15.921875 35.84375 13.96875 32.765625 \r\nL 5.71875 33.84375 \r\nL 12.640625 70.609375 \r\nL 48.25 70.609375 \r\nL 48.25 62.203125 \r\nL 19.671875 62.203125 \r\nL 15.828125 42.96875 \r\nQ 22.265625 47.46875 29.34375 47.46875 \r\nQ 38.71875 47.46875 45.15625 40.96875 \r\nQ 51.609375 34.46875 51.609375 24.265625 \r\nQ 51.609375 14.546875 45.953125 7.46875 \r\nQ 39.0625 -1.21875 27.15625 -1.21875 \r\nQ 17.390625 -1.21875 11.203125 4.25 \r\nQ 5.03125 9.71875 4.15625 18.75 \r\nz\r\n\" id=\"ArialMT-53\"/>\r\n      </defs>\r\n      <g style=\"fill:#262626;\" transform=\"translate(7.2 189.648264)scale(0.11 -0.11)\">\r\n       <use xlink:href=\"#ArialMT-8722\"/>\r\n       <use x=\"58.398438\" xlink:href=\"#ArialMT-48\"/>\r\n       <use x=\"114.013672\" xlink:href=\"#ArialMT-46\"/>\r\n       <use x=\"141.796875\" xlink:href=\"#ArialMT-53\"/>\r\n      </g>\r\n     </g>\r\n    </g>\r\n    <g id=\"ytick_3\">\r\n     <g id=\"line2d_8\">\r\n      <path clip-path=\"url(#pc93faf38be)\" d=\"M 38.414687 159.472696 \r\nL 373.214688 159.472696 \r\n\" style=\"fill:none;stroke:#ffffff;stroke-linecap:round;\"/>\r\n     </g>\r\n     <g id=\"text_8\">\r\n      <!-- 0.0 -->\r\n      <g style=\"fill:#262626;\" transform=\"translate(13.624687 163.409493)scale(0.11 -0.11)\">\r\n       <use xlink:href=\"#ArialMT-48\"/>\r\n       <use x=\"55.615234\" xlink:href=\"#ArialMT-46\"/>\r\n       <use x=\"83.398438\" xlink:href=\"#ArialMT-48\"/>\r\n      </g>\r\n     </g>\r\n    </g>\r\n    <g id=\"ytick_4\">\r\n     <g id=\"line2d_9\">\r\n      <path clip-path=\"url(#pc93faf38be)\" d=\"M 38.414687 133.233926 \r\nL 373.214688 133.233926 \r\n\" style=\"fill:none;stroke:#ffffff;stroke-linecap:round;\"/>\r\n     </g>\r\n     <g id=\"text_9\">\r\n      <!-- 0.5 -->\r\n      <g style=\"fill:#262626;\" transform=\"translate(13.624687 137.170723)scale(0.11 -0.11)\">\r\n       <use xlink:href=\"#ArialMT-48\"/>\r\n       <use x=\"55.615234\" xlink:href=\"#ArialMT-46\"/>\r\n       <use x=\"83.398438\" xlink:href=\"#ArialMT-53\"/>\r\n      </g>\r\n     </g>\r\n    </g>\r\n    <g id=\"ytick_5\">\r\n     <g id=\"line2d_10\">\r\n      <path clip-path=\"url(#pc93faf38be)\" d=\"M 38.414687 106.995155 \r\nL 373.214688 106.995155 \r\n\" style=\"fill:none;stroke:#ffffff;stroke-linecap:round;\"/>\r\n     </g>\r\n     <g id=\"text_10\">\r\n      <!-- 1.0 -->\r\n      <g style=\"fill:#262626;\" transform=\"translate(13.624687 110.931952)scale(0.11 -0.11)\">\r\n       <use xlink:href=\"#ArialMT-49\"/>\r\n       <use x=\"55.615234\" xlink:href=\"#ArialMT-46\"/>\r\n       <use x=\"83.398438\" xlink:href=\"#ArialMT-48\"/>\r\n      </g>\r\n     </g>\r\n    </g>\r\n    <g id=\"ytick_6\">\r\n     <g id=\"line2d_11\">\r\n      <path clip-path=\"url(#pc93faf38be)\" d=\"M 38.414687 80.756385 \r\nL 373.214688 80.756385 \r\n\" style=\"fill:none;stroke:#ffffff;stroke-linecap:round;\"/>\r\n     </g>\r\n     <g id=\"text_11\">\r\n      <!-- 1.5 -->\r\n      <g style=\"fill:#262626;\" transform=\"translate(13.624687 84.693181)scale(0.11 -0.11)\">\r\n       <use xlink:href=\"#ArialMT-49\"/>\r\n       <use x=\"55.615234\" xlink:href=\"#ArialMT-46\"/>\r\n       <use x=\"83.398438\" xlink:href=\"#ArialMT-53\"/>\r\n      </g>\r\n     </g>\r\n    </g>\r\n    <g id=\"ytick_7\">\r\n     <g id=\"line2d_12\">\r\n      <path clip-path=\"url(#pc93faf38be)\" d=\"M 38.414687 54.517614 \r\nL 373.214688 54.517614 \r\n\" style=\"fill:none;stroke:#ffffff;stroke-linecap:round;\"/>\r\n     </g>\r\n     <g id=\"text_12\">\r\n      <!-- 2.0 -->\r\n      <g style=\"fill:#262626;\" transform=\"translate(13.624687 58.454411)scale(0.11 -0.11)\">\r\n       <use xlink:href=\"#ArialMT-50\"/>\r\n       <use x=\"55.615234\" xlink:href=\"#ArialMT-46\"/>\r\n       <use x=\"83.398438\" xlink:href=\"#ArialMT-48\"/>\r\n      </g>\r\n     </g>\r\n    </g>\r\n    <g id=\"ytick_8\">\r\n     <g id=\"line2d_13\">\r\n      <path clip-path=\"url(#pc93faf38be)\" d=\"M 38.414687 28.278843 \r\nL 373.214688 28.278843 \r\n\" style=\"fill:none;stroke:#ffffff;stroke-linecap:round;\"/>\r\n     </g>\r\n     <g id=\"text_13\">\r\n      <!-- 2.5 -->\r\n      <g style=\"fill:#262626;\" transform=\"translate(13.624687 32.21564)scale(0.11 -0.11)\">\r\n       <use xlink:href=\"#ArialMT-50\"/>\r\n       <use x=\"55.615234\" xlink:href=\"#ArialMT-46\"/>\r\n       <use x=\"83.398438\" xlink:href=\"#ArialMT-53\"/>\r\n      </g>\r\n     </g>\r\n    </g>\r\n   </g>\r\n   <g id=\"PathCollection_1\">\r\n    <defs>\r\n     <path d=\"M 0 3 \r\nC 0.795609 3 1.55874 2.683901 2.12132 2.12132 \r\nC 2.683901 1.55874 3 0.795609 3 0 \r\nC 3 -0.795609 2.683901 -1.55874 2.12132 -2.12132 \r\nC 1.55874 -2.683901 0.795609 -3 0 -3 \r\nC -0.795609 -3 -1.55874 -2.683901 -2.12132 -2.12132 \r\nC -2.683901 -1.55874 -3 -0.795609 -3 0 \r\nC -3 0.795609 -2.683901 1.55874 -2.12132 2.12132 \r\nC -1.55874 2.683901 -0.795609 3 0 3 \r\nz\r\n\" id=\"m5e7babd0e5\" style=\"stroke:#4c72b0;\"/>\r\n    </defs>\r\n    <g clip-path=\"url(#pc93faf38be)\">\r\n     <use style=\"fill:#4c72b0;stroke:#4c72b0;\" x=\"53.926519\" xlink:href=\"#m5e7babd0e5\" y=\"105.244741\"/>\r\n     <use style=\"fill:#4c72b0;stroke:#4c72b0;\" x=\"111.740812\" xlink:href=\"#m5e7babd0e5\" y=\"214.032336\"/>\r\n     <use style=\"fill:#4c72b0;stroke:#4c72b0;\" x=\"92.135579\" xlink:href=\"#m5e7babd0e5\" y=\"162.611414\"/>\r\n     <use style=\"fill:#4c72b0;stroke:#4c72b0;\" x=\"114.145335\" xlink:href=\"#m5e7babd0e5\" y=\"205.257564\"/>\r\n     <use style=\"fill:#4c72b0;stroke:#4c72b0;\" x=\"107.375689\" xlink:href=\"#m5e7babd0e5\" y=\"206.99779\"/>\r\n     <use style=\"fill:#4c72b0;stroke:#4c72b0;\" x=\"357.702856\" xlink:href=\"#m5e7babd0e5\" y=\"132.984283\"/>\r\n     <use style=\"fill:#4c72b0;stroke:#4c72b0;\" x=\"74.101787\" xlink:href=\"#m5e7babd0e5\" y=\"186.83507\"/>\r\n     <use style=\"fill:#4c72b0;stroke:#4c72b0;\" x=\"88.689208\" xlink:href=\"#m5e7babd0e5\" y=\"200.122963\"/>\r\n     <use style=\"fill:#4c72b0;stroke:#4c72b0;\" x=\"72.262694\" xlink:href=\"#m5e7babd0e5\" y=\"17.807664\"/>\r\n     <use style=\"fill:#4c72b0;stroke:#4c72b0;\" x=\"85.901557\" xlink:href=\"#m5e7babd0e5\" y=\"162.833136\"/>\r\n    </g>\r\n   </g>\r\n   <g id=\"patch_3\">\r\n    <path d=\"M 38.414687 224.64 \r\nL 38.414687 7.2 \r\n\" style=\"fill:none;stroke:#ffffff;stroke-linecap:square;stroke-linejoin:miter;stroke-width:1.25;\"/>\r\n   </g>\r\n   <g id=\"patch_4\">\r\n    <path d=\"M 373.214688 224.64 \r\nL 373.214688 7.2 \r\n\" style=\"fill:none;stroke:#ffffff;stroke-linecap:square;stroke-linejoin:miter;stroke-width:1.25;\"/>\r\n   </g>\r\n   <g id=\"patch_5\">\r\n    <path d=\"M 38.414687 224.64 \r\nL 373.214687 224.64 \r\n\" style=\"fill:none;stroke:#ffffff;stroke-linecap:square;stroke-linejoin:miter;stroke-width:1.25;\"/>\r\n   </g>\r\n   <g id=\"patch_6\">\r\n    <path d=\"M 38.414687 7.2 \r\nL 373.214687 7.2 \r\n\" style=\"fill:none;stroke:#ffffff;stroke-linecap:square;stroke-linejoin:miter;stroke-width:1.25;\"/>\r\n   </g>\r\n  </g>\r\n </g>\r\n <defs>\r\n  <clipPath id=\"pc93faf38be\">\r\n   <rect height=\"217.44\" width=\"334.8\" x=\"38.414687\" y=\"7.2\"/>\r\n  </clipPath>\r\n </defs>\r\n</svg>\r\n",
      "image/png": "[encoded data removed]"
     },
     "metadata": {}
    }
   ],
   "source": [
    "from matplotlib import pyplot as plt\n",
    "plt.scatter(prin_comp[:,0], prin_comp[:,1],color='b')"
   ]
  },
  {
   "cell_type": "code",
   "execution_count": 25,
   "metadata": {
    "tags": []
   },
   "outputs": [
    {
     "output_type": "execute_result",
     "data": {
      "text/plain": "[1.3792198774350988,\n 1.5222685618454208,\n 1.3646984713243768,\n 1.8097896267060398,\n 1.4142289925725238,\n 2.008754520042701,\n 1.3723106780008814,\n 1.4646248618664974,\n 1.49328353768662,\n 1.3946253362371377]"
     },
     "metadata": {},
     "execution_count": 25
    }
   ],
   "source": [
    "#---------------------------------------\n",
    "# Fórmula para colaboratividad\n",
    "#---------------------------------------\n",
    "\n",
    "eg = df['Eficiencia Global'].tolist()\n",
    "tr = df['Transitividad'].tolist()\n",
    "comunicacion = [eg[x]+tr[x] for x in range(n)]\n",
    "\n",
    "r= df['Radio'].tolist()\n",
    "sr= df['Spectral radius'].tolist()\n",
    "size=[-r[x]/14+sr[x]/2.5 for x in range(n)]\n",
    "\n",
    "rcc = df['Rich Club Coefficient'].tolist()\n",
    "cr = df['Core Ratio'].tolist()\n",
    "preparacion = [(rcc[x]+cr[x])/2 for x in range(n)]\n",
    "\n",
    "colab_1 = [comunicacion[x]+preparacion[x]+size[x] for x in range(n)]\n",
    "colab_1"
   ]
  },
  {
   "cell_type": "code",
   "execution_count": 33,
   "metadata": {},
   "outputs": [
    {
     "output_type": "execute_result",
     "data": {
      "text/plain": "[-0.3415698661546451,\n -0.2306372132305669,\n -0.2102017326632524,\n -0.2770509747977198,\n -0.15320000450116614,\n 0.24774499623317722,\n -0.19208066399046078,\n -0.228885502279161,\n -0.28753765138072285,\n -0.26358954938485446]"
     },
     "metadata": {},
     "execution_count": 33
    }
   ],
   "source": [
    "eg = df['Eficiencia Global'].tolist()\n",
    "comunicacion = [eg[x] for x in range(n)]\n",
    "\n",
    "r= df['Transitividad'].tolist()\n",
    "size=[r[x] for x in range(n)]\n",
    "\n",
    "rcc = df['Core Ratio'].tolist()\n",
    "preparacion = [-rcc[x] for x in range(n)]\n",
    "\n",
    "colab_1 = [comunicacion[x]+preparacion[x]+size[x] for x in range(n)]\n",
    "colab_1"
   ]
  },
  {
   "cell_type": "code",
   "execution_count": 29,
   "metadata": {},
   "outputs": [
    {
     "output_type": "execute_result",
     "data": {
      "text/plain": "0    0.741758\n1    0.702128\n2    0.634731\n3    0.723684\n4    0.597765\n5    0.444444\n6    0.593074\n7    0.682353\n8    0.721893\n9    0.685279\nName: Core Ratio, dtype: float64"
     },
     "metadata": {},
     "execution_count": 29
    }
   ],
   "source": []
  },
  {
   "cell_type": "code",
   "execution_count": null,
   "metadata": {},
   "outputs": [],
   "source": []
  }
 ],
 "metadata": {
  "@webio": {
   "lastCommId": null,
   "lastKernelId": null
  },
  "kernelspec": {
   "display_name": "Python 3",
   "language": "python",
   "name": "python3"
  },
  "language_info": {
   "codemirror_mode": {
    "name": "ipython",
    "version": 3
   },
   "file_extension": ".py",
   "mimetype": "text/x-python",
   "name": "python",
   "nbconvert_exporter": "python",
   "pygments_lexer": "ipython3",
   "version": "3.7.6-final"
  }
 },
 "nbformat": 4,
 "nbformat_minor": 4
}