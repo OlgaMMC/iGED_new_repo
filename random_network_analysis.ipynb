{
 "cells": [
  {
   "cell_type": "markdown",
   "metadata": {},
   "source": [
    "# iGED : Global Systems Dynamics Initiative\n",
    "\n",
    "El objetivo principal de este documento es analizar las métricas globales en las siguientes redes capitales\n",
    "\n",
    "  *  Ciudad Autónoma de Buenos Aires (CABA)\n",
    "  *  Ciudad de México (CDMX)\n",
    "  *  Santiago de Chile (SCL)\n",
    "  *  Montevideo (MTV)\n",
    "  *  Madrid (MAD)\n",
    "  *  Sao Paulo (SAO)\n",
    "\n",
    "y obtener un tidy DataFrame, para continuar analizando los datos obtenidos, por ejemplo obteniendo correlaciones entre parejas de métricas.\n",
    "\n",
    "Respecto al notebook anterior, utilizamos la documentación de NetworkX: https://www.nas.ewi.tudelft.nl/people/Piet/papers/TUDreport20111111_MetricList.pdf\n",
    "\n",
    "así como el siguiente recurso: https://www.nas.ewi.tudelft.nl/people/Piet/papers/TUDreport20111111_MetricList.pdf\n",
    "\n",
    "para saber con cuáles métricas globales seguir estudiando nuestros ecosistemas."
   ]
  },
  {
   "cell_type": "code",
   "execution_count": 1,
   "metadata": {},
   "outputs": [],
   "source": [
    "#-------------------------------------------------------\n",
    "# Importar paquetes a utilizar\n",
    "#-------------------------------------------------------\n",
    "import pandas as pd\n",
    "import numpy as np \n",
    "import networkx as nx\n",
    "import scipy.stats as stats\n",
    "\n",
    "import matplotlib.pyplot as plt\n",
    "import seaborn as sns; sns.set()\n",
    "\n",
    "G={}\n",
    "\n",
    "for i in range(60):\n",
    "    G[i]=nx.read_graphml('Random_Graphs/Random_Graph_'+str(i+1)+'.graphml')\n"
   ]
  },
  {
   "cell_type": "code",
   "execution_count": 2,
   "metadata": {},
   "outputs": [],
   "source": [
    "#--------------------------------\n",
    "# Central point of Dominance\n",
    "#--------------------------------\n",
    "\n",
    "\n",
    "def central_point_dominance(G):\n",
    "    betwennesses = nx.betweenness_centrality(G)\n",
    "    b_max = max(betwennesses.values())\n",
    "    N = len(betwennesses.keys())\n",
    "    count = 0\n",
    "    for i, b_i in betwennesses.items():\n",
    "        count += ( b_max - b_i )/(N-1)\n",
    "    return count"
   ]
  },
  {
   "cell_type": "code",
   "execution_count": 3,
   "metadata": {},
   "outputs": [],
   "source": [
    "#--------------------------------\n",
    "# Spectral Radius\n",
    "#--------------------------------\n",
    "#     the smaller the spectral radius rho, the higher the probability of 'virus infection' tau, \n",
    "#     the more difficult it is for an idea to spread in the innovative network, \n",
    "#     namely, the less efficient\n",
    "\n",
    "import numpy.linalg\n",
    "\n",
    "def spectral_radius(G):\n",
    "    L = nx.normalized_laplacian_matrix(G)\n",
    "    e = numpy.linalg.eigvals(L.A)\n",
    "    e_abs = [abs(x) for x in e]\n",
    "    return max(e_abs)"
   ]
  },
  {
   "cell_type": "code",
   "execution_count": 4,
   "metadata": {},
   "outputs": [],
   "source": [
    "def core_ratio(G):\n",
    "    return len(nx.k_core(G,k=2).nodes())/len(G.nodes())"
   ]
  },
  {
   "cell_type": "code",
   "execution_count": 5,
   "metadata": {},
   "outputs": [],
   "source": [
    "def rich_club_coeffs(G):\n",
    "    t_ok = True\n",
    "    t = 0\n",
    "    d = dict()\n",
    "    while t_ok:\n",
    "        nodes_large_degree=[]\n",
    "        for x in G.nodes():\n",
    "            if G.degree(x)>t:\n",
    "                nodes_large_degree.append(x)\n",
    "        core = G.subgraph(nodes_large_degree)\n",
    "        edges_core = len(core.edges())\n",
    "        nodes_core = len(core.nodes())\n",
    "        if nodes_core<=1:\n",
    "            t_ok = False\n",
    "            break\n",
    "        d[t] = (2*edges_core)/(nodes_core*(nodes_core-1))\n",
    "        t += 1 \n",
    "    return d        \n",
    "\n",
    "def max_rich_club(G):\n",
    "    #rich_club_1=nx.algorithms.rich_club_coefficient(G, normalized=False)\n",
    "    rich_club=rich_club_coeffs(G)\n",
    "    max_i=0\n",
    "    for i in range(len(rich_club)):\n",
    "        if rich_club[i]>rich_club[max_i]:\n",
    "            max_i=i\n",
    "        else:\n",
    "            return rich_club[max_i]"
   ]
  },
  {
   "cell_type": "code",
   "execution_count": 20,
   "metadata": {},
   "outputs": [],
   "source": [
    "def eccentricity(G):\n",
    "    excentricidades=nx.algorithms.distance_measures.eccentricity(G)\n",
    "    excentricidad=0\n",
    "    for i in excentricidades.keys():\n",
    "        excentricidad+=excentricidades[i]\n",
    "    return excentricidad/len(excentricidades.keys())"
   ]
  },
  {
   "cell_type": "markdown",
   "metadata": {},
   "source": [
    "## Creacion del Dataframe\n",
    "\n",
    "El siguiente bloque crea todas las metricas de la grafica que usaremos para estudiarlas."
   ]
  },
  {
   "cell_type": "code",
   "execution_count": 51,
   "metadata": {},
   "outputs": [],
   "source": [
    "n=len(G)\n",
    "\n",
    "degree = n*[0]\n",
    "diameter = n*[0]\n",
    "radius = n*[0]\n",
    "avg_shortest_path_length = n*[0]\n",
    "transitivity = n*[0]\n",
    "global_efficiency = n*[0]\n",
    "modularity = n*[0]\n",
    "rich_club_coefficient = n*[0]\n",
    "core_rate= n*[0]\n",
    "central_pt = n*[0]\n",
    "spectral_radii = n*[0]\n",
    "excentricidad = n*[0]\n",
    "modularidad=n*[0]\n",
    "\n",
    "for index in G.keys():\n",
    "    graph=G[index]\n",
    "    \n",
    "    #conseguimos cada parámetro para esta ciudad\n",
    "    degree[index]=                        2*len(graph.edges())/len(graph.nodes())\n",
    "    diameter[index] =                     nx.diameter(graph)\n",
    "    radius[index] =                       nx.radius(graph)\n",
    "    avg_shortest_path_length[index] =     nx.average_shortest_path_length(graph)\n",
    "    transitivity[index] =                 nx.transitivity(graph)\n",
    "    global_efficiency[index] =            nx.global_efficiency(graph)\n",
    "    #modularidad precomputada\n",
    "    rich_club_coefficient[index] =        max_rich_club(graph)  \n",
    "    core_rate[index]=                     core_ratio(graph)\n",
    "    central_pt[index]=                    central_point_dominance(graph)\n",
    "    spectral_radii[index]=                spectral_radius(graph)\n",
    "    excentricidad[index]=                 eccentricity(graph)\n",
    "    modularidad[index]=                   nx.algorithms.community.quality.performance(graph,nx.algorithms.community.modularity_max.greedy_modularity_communities(graph))\n",
    "\n",
    "df=pd.DataFrame()\n",
    "\n",
    "\n",
    "df['Eficiencia Global'] = global_efficiency\n",
    "df['Degree']= degree\n",
    "df['Transitividad'] = transitivity\n",
    "df['Modularidad'] = modularidad\n",
    "df['Excentricidad']= excentricidad\n",
    "df['Radio'] = radius\n",
    "df['Rich Club Coefficient'] = rich_club_coefficient\n",
    "df['Core Ratio'] = core_rate\n",
    "df['Central Point Dominance'] = [round(central_pt[index],3) for index in range(n)]\n",
    "df['Spectral radius'] = [round(spectral_radii[index],3) for index in range(n)]\n",
    "df['Camino más corto promedio'] = avg_shortest_path_length\n",
    "df['Diámetro'] = diameter\n"
   ]
  },
  {
   "cell_type": "markdown",
   "metadata": {},
   "source": [
    "## Colaboracion\n",
    "\n",
    "Empezamos analizando las metricas que ya hemos calculado y luego usaremos esta informacion para crear una medida de la colaboracion."
   ]
  },
  {
   "cell_type": "code",
   "execution_count": 52,
   "metadata": {},
   "outputs": [
    {
     "output_type": "execute_result",
     "data": {
      "text/plain": "array([[ 0.02368363, -0.25305316,  0.01299442, -0.0161432 , -0.31343466,\n        -0.54036425,  0.01556938, -0.03967146,  0.05866092, -0.00350904,\n        -0.15399244, -0.71816127],\n       [ 0.00895109, -0.48973113, -0.00225761, -0.01129218, -0.04605719,\n         0.77887261,  0.01144692, -0.01143393,  0.05489789,  0.01357485,\n        -0.01672611, -0.38398867],\n       [ 0.0187043 , -0.79156839,  0.01641002, -0.01865542, -0.07255627,\n        -0.25223328,  0.01885338, -0.09034348,  0.09892042,  0.03475733,\n        -0.06510966,  0.52897666],\n       [ 0.08751013,  0.2209762 ,  0.03373636, -0.07278166, -0.68016435,\n         0.18359678,  0.05202346,  0.06791932,  0.16770859, -0.02210354,\n        -0.59521476,  0.22478889],\n       [-0.05780381,  0.09403497,  0.0817445 , -0.016493  , -0.49383307,\n         0.05773732, -0.01203858, -0.6254354 , -0.02718477,  0.19733082,\n         0.54763184,  0.05257184]])"
     },
     "metadata": {},
     "execution_count": 52
    }
   ],
   "source": [
    "#---------------------------------------------\n",
    "#Preparar escalas y herramientas para el analisis.\n",
    "#---------------------------------------------\n",
    "\n",
    "from sklearn.preprocessing import StandardScaler\n",
    "from sklearn.decomposition import PCA\n",
    "\n",
    "X=df.to_numpy()\n",
    "\n",
    "\n",
    "\n",
    "#normalized= StandardScaler().fit_transform(X)\n",
    "pca=PCA(n_components=5)\n",
    "prin_comp=pca.fit_transform(X)\n",
    "\n",
    "pca.components_"
   ]
  },
  {
   "cell_type": "code",
   "execution_count": 53,
   "metadata": {},
   "outputs": [
    {
     "output_type": "execute_result",
     "data": {
      "text/plain": "<matplotlib.collections.PathCollection at 0x22d59131908>"
     },
     "metadata": {},
     "execution_count": 53
    },
    {
     "output_type": "display_data",
     "data": {
      "text/plain": "<Figure size 432x288 with 1 Axes>",
      "image/svg+xml": "<?xml version=\"1.0\" encoding=\"utf-8\" standalone=\"no\"?>\r\n<!DOCTYPE svg PUBLIC \"-//W3C//DTD SVG 1.1//EN\"\r\n  \"http://www.w3.org/Graphics/SVG/1.1/DTD/svg11.dtd\">\r\n<!-- Created with matplotlib (https://matplotlib.org/) -->\r\n<svg height=\"251.399844pt\" version=\"1.1\" viewBox=\"0 0 386.531719 251.399844\" width=\"386.531719pt\" xmlns=\"http://www.w3.org/2000/svg\" xmlns:xlink=\"http://www.w3.org/1999/xlink\">\r\n <defs>\r\n  <style type=\"text/css\">\r\n*{stroke-linecap:butt;stroke-linejoin:round;}\r\n  </style>\r\n </defs>\r\n <g id=\"figure_1\">\r\n  <g id=\"patch_1\">\r\n   <path d=\"M 0 251.399844 \r\nL 386.531719 251.399844 \r\nL 386.531719 0 \r\nL 0 0 \r\nz\r\n\" style=\"fill:#ffffff;\"/>\r\n  </g>\r\n  <g id=\"axes_1\">\r\n   <g id=\"patch_2\">\r\n    <path d=\"M 44.531719 224.64 \r\nL 379.331719 224.64 \r\nL 379.331719 7.2 \r\nL 44.531719 7.2 \r\nz\r\n\" style=\"fill:#eaeaf2;\"/>\r\n   </g>\r\n   <g id=\"matplotlib.axis_1\">\r\n    <g id=\"xtick_1\">\r\n     <g id=\"line2d_1\">\r\n      <path clip-path=\"url(#pf1994ce835)\" d=\"M 59.565251 224.64 \r\nL 59.565251 7.2 \r\n\" style=\"fill:none;stroke:#ffffff;stroke-linecap:round;\"/>\r\n     </g>\r\n     <g id=\"text_1\">\r\n      <!-- −1 -->\r\n      <defs>\r\n       <path d=\"M 52.828125 31.203125 \r\nL 5.5625 31.203125 \r\nL 5.5625 39.40625 \r\nL 52.828125 39.40625 \r\nz\r\n\" id=\"ArialMT-8722\"/>\r\n       <path d=\"M 37.25 0 \r\nL 28.46875 0 \r\nL 28.46875 56 \r\nQ 25.296875 52.984375 20.140625 49.953125 \r\nQ 14.984375 46.921875 10.890625 45.40625 \r\nL 10.890625 53.90625 \r\nQ 18.265625 57.375 23.78125 62.296875 \r\nQ 29.296875 67.234375 31.59375 71.875 \r\nL 37.25 71.875 \r\nz\r\n\" id=\"ArialMT-49\"/>\r\n      </defs>\r\n      <g style=\"fill:#262626;\" transform=\"translate(53.294392 242.013594)scale(0.11 -0.11)\">\r\n       <use xlink:href=\"#ArialMT-8722\"/>\r\n       <use x=\"58.398438\" xlink:href=\"#ArialMT-49\"/>\r\n      </g>\r\n     </g>\r\n    </g>\r\n    <g id=\"xtick_2\">\r\n     <g id=\"line2d_2\">\r\n      <path clip-path=\"url(#pf1994ce835)\" d=\"M 124.389154 224.64 \r\nL 124.389154 7.2 \r\n\" style=\"fill:none;stroke:#ffffff;stroke-linecap:round;\"/>\r\n     </g>\r\n     <g id=\"text_2\">\r\n      <!-- 0 -->\r\n      <defs>\r\n       <path d=\"M 4.15625 35.296875 \r\nQ 4.15625 48 6.765625 55.734375 \r\nQ 9.375 63.484375 14.515625 67.671875 \r\nQ 19.671875 71.875 27.484375 71.875 \r\nQ 33.25 71.875 37.59375 69.546875 \r\nQ 41.9375 67.234375 44.765625 62.859375 \r\nQ 47.609375 58.5 49.21875 52.21875 \r\nQ 50.828125 45.953125 50.828125 35.296875 \r\nQ 50.828125 22.703125 48.234375 14.96875 \r\nQ 45.65625 7.234375 40.5 3 \r\nQ 35.359375 -1.21875 27.484375 -1.21875 \r\nQ 17.140625 -1.21875 11.234375 6.203125 \r\nQ 4.15625 15.140625 4.15625 35.296875 \r\nz\r\nM 13.1875 35.296875 \r\nQ 13.1875 17.671875 17.3125 11.828125 \r\nQ 21.4375 6 27.484375 6 \r\nQ 33.546875 6 37.671875 11.859375 \r\nQ 41.796875 17.71875 41.796875 35.296875 \r\nQ 41.796875 52.984375 37.671875 58.78125 \r\nQ 33.546875 64.59375 27.390625 64.59375 \r\nQ 21.34375 64.59375 17.71875 59.46875 \r\nQ 13.1875 52.9375 13.1875 35.296875 \r\nz\r\n\" id=\"ArialMT-48\"/>\r\n      </defs>\r\n      <g style=\"fill:#262626;\" transform=\"translate(121.330638 242.013594)scale(0.11 -0.11)\">\r\n       <use xlink:href=\"#ArialMT-48\"/>\r\n      </g>\r\n     </g>\r\n    </g>\r\n    <g id=\"xtick_3\">\r\n     <g id=\"line2d_3\">\r\n      <path clip-path=\"url(#pf1994ce835)\" d=\"M 189.213057 224.64 \r\nL 189.213057 7.2 \r\n\" style=\"fill:none;stroke:#ffffff;stroke-linecap:round;\"/>\r\n     </g>\r\n     <g id=\"text_3\">\r\n      <!-- 1 -->\r\n      <g style=\"fill:#262626;\" transform=\"translate(186.154541 242.013594)scale(0.11 -0.11)\">\r\n       <use xlink:href=\"#ArialMT-49\"/>\r\n      </g>\r\n     </g>\r\n    </g>\r\n    <g id=\"xtick_4\">\r\n     <g id=\"line2d_4\">\r\n      <path clip-path=\"url(#pf1994ce835)\" d=\"M 254.03696 224.64 \r\nL 254.03696 7.2 \r\n\" style=\"fill:none;stroke:#ffffff;stroke-linecap:round;\"/>\r\n     </g>\r\n     <g id=\"text_4\">\r\n      <!-- 2 -->\r\n      <defs>\r\n       <path d=\"M 50.34375 8.453125 \r\nL 50.34375 0 \r\nL 3.03125 0 \r\nQ 2.9375 3.171875 4.046875 6.109375 \r\nQ 5.859375 10.9375 9.828125 15.625 \r\nQ 13.8125 20.3125 21.34375 26.46875 \r\nQ 33.015625 36.03125 37.109375 41.625 \r\nQ 41.21875 47.21875 41.21875 52.203125 \r\nQ 41.21875 57.421875 37.46875 61 \r\nQ 33.734375 64.59375 27.734375 64.59375 \r\nQ 21.390625 64.59375 17.578125 60.78125 \r\nQ 13.765625 56.984375 13.71875 50.25 \r\nL 4.6875 51.171875 \r\nQ 5.609375 61.28125 11.65625 66.578125 \r\nQ 17.71875 71.875 27.9375 71.875 \r\nQ 38.234375 71.875 44.234375 66.15625 \r\nQ 50.25 60.453125 50.25 52 \r\nQ 50.25 47.703125 48.484375 43.546875 \r\nQ 46.734375 39.40625 42.65625 34.8125 \r\nQ 38.578125 30.21875 29.109375 22.21875 \r\nQ 21.1875 15.578125 18.9375 13.203125 \r\nQ 16.703125 10.84375 15.234375 8.453125 \r\nz\r\n\" id=\"ArialMT-50\"/>\r\n      </defs>\r\n      <g style=\"fill:#262626;\" transform=\"translate(250.978444 242.013594)scale(0.11 -0.11)\">\r\n       <use xlink:href=\"#ArialMT-50\"/>\r\n      </g>\r\n     </g>\r\n    </g>\r\n    <g id=\"xtick_5\">\r\n     <g id=\"line2d_5\">\r\n      <path clip-path=\"url(#pf1994ce835)\" d=\"M 318.860863 224.64 \r\nL 318.860863 7.2 \r\n\" style=\"fill:none;stroke:#ffffff;stroke-linecap:round;\"/>\r\n     </g>\r\n     <g id=\"text_5\">\r\n      <!-- 3 -->\r\n      <defs>\r\n       <path d=\"M 4.203125 18.890625 \r\nL 12.984375 20.0625 \r\nQ 14.5 12.59375 18.140625 9.296875 \r\nQ 21.78125 6 27 6 \r\nQ 33.203125 6 37.46875 10.296875 \r\nQ 41.75 14.59375 41.75 20.953125 \r\nQ 41.75 27 37.796875 30.921875 \r\nQ 33.84375 34.859375 27.734375 34.859375 \r\nQ 25.25 34.859375 21.53125 33.890625 \r\nL 22.515625 41.609375 \r\nQ 23.390625 41.5 23.921875 41.5 \r\nQ 29.546875 41.5 34.03125 44.421875 \r\nQ 38.53125 47.359375 38.53125 53.46875 \r\nQ 38.53125 58.296875 35.25 61.46875 \r\nQ 31.984375 64.65625 26.8125 64.65625 \r\nQ 21.6875 64.65625 18.265625 61.421875 \r\nQ 14.84375 58.203125 13.875 51.765625 \r\nL 5.078125 53.328125 \r\nQ 6.6875 62.15625 12.390625 67.015625 \r\nQ 18.109375 71.875 26.609375 71.875 \r\nQ 32.46875 71.875 37.390625 69.359375 \r\nQ 42.328125 66.84375 44.9375 62.5 \r\nQ 47.5625 58.15625 47.5625 53.265625 \r\nQ 47.5625 48.640625 45.0625 44.828125 \r\nQ 42.578125 41.015625 37.703125 38.765625 \r\nQ 44.046875 37.3125 47.5625 32.6875 \r\nQ 51.078125 28.078125 51.078125 21.140625 \r\nQ 51.078125 11.765625 44.234375 5.25 \r\nQ 37.40625 -1.265625 26.953125 -1.265625 \r\nQ 17.53125 -1.265625 11.296875 4.34375 \r\nQ 5.078125 9.96875 4.203125 18.890625 \r\nz\r\n\" id=\"ArialMT-51\"/>\r\n      </defs>\r\n      <g style=\"fill:#262626;\" transform=\"translate(315.802347 242.013594)scale(0.11 -0.11)\">\r\n       <use xlink:href=\"#ArialMT-51\"/>\r\n      </g>\r\n     </g>\r\n    </g>\r\n   </g>\r\n   <g id=\"matplotlib.axis_2\">\r\n    <g id=\"ytick_1\">\r\n     <g id=\"line2d_6\">\r\n      <path clip-path=\"url(#pf1994ce835)\" d=\"M 44.531719 212.476684 \r\nL 379.331719 212.476684 \r\n\" style=\"fill:none;stroke:#ffffff;stroke-linecap:round;\"/>\r\n     </g>\r\n     <g id=\"text_6\">\r\n      <!-- −0.75 -->\r\n      <defs>\r\n       <path d=\"M 9.078125 0 \r\nL 9.078125 10.015625 \r\nL 19.09375 10.015625 \r\nL 19.09375 0 \r\nz\r\n\" id=\"ArialMT-46\"/>\r\n       <path d=\"M 4.734375 62.203125 \r\nL 4.734375 70.65625 \r\nL 51.078125 70.65625 \r\nL 51.078125 63.8125 \r\nQ 44.234375 56.546875 37.515625 44.484375 \r\nQ 30.8125 32.421875 27.15625 19.671875 \r\nQ 24.515625 10.6875 23.78125 0 \r\nL 14.75 0 \r\nQ 14.890625 8.453125 18.0625 20.40625 \r\nQ 21.234375 32.375 27.171875 43.484375 \r\nQ 33.109375 54.59375 39.796875 62.203125 \r\nz\r\n\" id=\"ArialMT-55\"/>\r\n       <path d=\"M 4.15625 18.75 \r\nL 13.375 19.53125 \r\nQ 14.40625 12.796875 18.140625 9.390625 \r\nQ 21.875 6 27.15625 6 \r\nQ 33.5 6 37.890625 10.78125 \r\nQ 42.28125 15.578125 42.28125 23.484375 \r\nQ 42.28125 31 38.0625 35.34375 \r\nQ 33.84375 39.703125 27 39.703125 \r\nQ 22.75 39.703125 19.328125 37.765625 \r\nQ 15.921875 35.84375 13.96875 32.765625 \r\nL 5.71875 33.84375 \r\nL 12.640625 70.609375 \r\nL 48.25 70.609375 \r\nL 48.25 62.203125 \r\nL 19.671875 62.203125 \r\nL 15.828125 42.96875 \r\nQ 22.265625 47.46875 29.34375 47.46875 \r\nQ 38.71875 47.46875 45.15625 40.96875 \r\nQ 51.609375 34.46875 51.609375 24.265625 \r\nQ 51.609375 14.546875 45.953125 7.46875 \r\nQ 39.0625 -1.21875 27.15625 -1.21875 \r\nQ 17.390625 -1.21875 11.203125 4.25 \r\nQ 5.03125 9.71875 4.15625 18.75 \r\nz\r\n\" id=\"ArialMT-53\"/>\r\n      </defs>\r\n      <g style=\"fill:#262626;\" transform=\"translate(7.2 216.413481)scale(0.11 -0.11)\">\r\n       <use xlink:href=\"#ArialMT-8722\"/>\r\n       <use x=\"58.398438\" xlink:href=\"#ArialMT-48\"/>\r\n       <use x=\"114.013672\" xlink:href=\"#ArialMT-46\"/>\r\n       <use x=\"141.796875\" xlink:href=\"#ArialMT-55\"/>\r\n       <use x=\"197.412109\" xlink:href=\"#ArialMT-53\"/>\r\n      </g>\r\n     </g>\r\n    </g>\r\n    <g id=\"ytick_2\">\r\n     <g id=\"line2d_7\">\r\n      <path clip-path=\"url(#pf1994ce835)\" d=\"M 44.531719 184.608943 \r\nL 379.331719 184.608943 \r\n\" style=\"fill:none;stroke:#ffffff;stroke-linecap:round;\"/>\r\n     </g>\r\n     <g id=\"text_7\">\r\n      <!-- −0.50 -->\r\n      <g style=\"fill:#262626;\" transform=\"translate(7.2 188.54574)scale(0.11 -0.11)\">\r\n       <use xlink:href=\"#ArialMT-8722\"/>\r\n       <use x=\"58.398438\" xlink:href=\"#ArialMT-48\"/>\r\n       <use x=\"114.013672\" xlink:href=\"#ArialMT-46\"/>\r\n       <use x=\"141.796875\" xlink:href=\"#ArialMT-53\"/>\r\n       <use x=\"197.412109\" xlink:href=\"#ArialMT-48\"/>\r\n      </g>\r\n     </g>\r\n    </g>\r\n    <g id=\"ytick_3\">\r\n     <g id=\"line2d_8\">\r\n      <path clip-path=\"url(#pf1994ce835)\" d=\"M 44.531719 156.741203 \r\nL 379.331719 156.741203 \r\n\" style=\"fill:none;stroke:#ffffff;stroke-linecap:round;\"/>\r\n     </g>\r\n     <g id=\"text_8\">\r\n      <!-- −0.25 -->\r\n      <g style=\"fill:#262626;\" transform=\"translate(7.2 160.678)scale(0.11 -0.11)\">\r\n       <use xlink:href=\"#ArialMT-8722\"/>\r\n       <use x=\"58.398438\" xlink:href=\"#ArialMT-48\"/>\r\n       <use x=\"114.013672\" xlink:href=\"#ArialMT-46\"/>\r\n       <use x=\"141.796875\" xlink:href=\"#ArialMT-50\"/>\r\n       <use x=\"197.412109\" xlink:href=\"#ArialMT-53\"/>\r\n      </g>\r\n     </g>\r\n    </g>\r\n    <g id=\"ytick_4\">\r\n     <g id=\"line2d_9\">\r\n      <path clip-path=\"url(#pf1994ce835)\" d=\"M 44.531719 128.873462 \r\nL 379.331719 128.873462 \r\n\" style=\"fill:none;stroke:#ffffff;stroke-linecap:round;\"/>\r\n     </g>\r\n     <g id=\"text_9\">\r\n      <!-- 0.00 -->\r\n      <g style=\"fill:#262626;\" transform=\"translate(13.624688 132.810259)scale(0.11 -0.11)\">\r\n       <use xlink:href=\"#ArialMT-48\"/>\r\n       <use x=\"55.615234\" xlink:href=\"#ArialMT-46\"/>\r\n       <use x=\"83.398438\" xlink:href=\"#ArialMT-48\"/>\r\n       <use x=\"139.013672\" xlink:href=\"#ArialMT-48\"/>\r\n      </g>\r\n     </g>\r\n    </g>\r\n    <g id=\"ytick_5\">\r\n     <g id=\"line2d_10\">\r\n      <path clip-path=\"url(#pf1994ce835)\" d=\"M 44.531719 101.005722 \r\nL 379.331719 101.005722 \r\n\" style=\"fill:none;stroke:#ffffff;stroke-linecap:round;\"/>\r\n     </g>\r\n     <g id=\"text_10\">\r\n      <!-- 0.25 -->\r\n      <g style=\"fill:#262626;\" transform=\"translate(13.624688 104.942519)scale(0.11 -0.11)\">\r\n       <use xlink:href=\"#ArialMT-48\"/>\r\n       <use x=\"55.615234\" xlink:href=\"#ArialMT-46\"/>\r\n       <use x=\"83.398438\" xlink:href=\"#ArialMT-50\"/>\r\n       <use x=\"139.013672\" xlink:href=\"#ArialMT-53\"/>\r\n      </g>\r\n     </g>\r\n    </g>\r\n    <g id=\"ytick_6\">\r\n     <g id=\"line2d_11\">\r\n      <path clip-path=\"url(#pf1994ce835)\" d=\"M 44.531719 73.137982 \r\nL 379.331719 73.137982 \r\n\" style=\"fill:none;stroke:#ffffff;stroke-linecap:round;\"/>\r\n     </g>\r\n     <g id=\"text_11\">\r\n      <!-- 0.50 -->\r\n      <g style=\"fill:#262626;\" transform=\"translate(13.624688 77.074778)scale(0.11 -0.11)\">\r\n       <use xlink:href=\"#ArialMT-48\"/>\r\n       <use x=\"55.615234\" xlink:href=\"#ArialMT-46\"/>\r\n       <use x=\"83.398438\" xlink:href=\"#ArialMT-53\"/>\r\n       <use x=\"139.013672\" xlink:href=\"#ArialMT-48\"/>\r\n      </g>\r\n     </g>\r\n    </g>\r\n    <g id=\"ytick_7\">\r\n     <g id=\"line2d_12\">\r\n      <path clip-path=\"url(#pf1994ce835)\" d=\"M 44.531719 45.270241 \r\nL 379.331719 45.270241 \r\n\" style=\"fill:none;stroke:#ffffff;stroke-linecap:round;\"/>\r\n     </g>\r\n     <g id=\"text_12\">\r\n      <!-- 0.75 -->\r\n      <g style=\"fill:#262626;\" transform=\"translate(13.624688 49.207038)scale(0.11 -0.11)\">\r\n       <use xlink:href=\"#ArialMT-48\"/>\r\n       <use x=\"55.615234\" xlink:href=\"#ArialMT-46\"/>\r\n       <use x=\"83.398438\" xlink:href=\"#ArialMT-55\"/>\r\n       <use x=\"139.013672\" xlink:href=\"#ArialMT-53\"/>\r\n      </g>\r\n     </g>\r\n    </g>\r\n    <g id=\"ytick_8\">\r\n     <g id=\"line2d_13\">\r\n      <path clip-path=\"url(#pf1994ce835)\" d=\"M 44.531719 17.402501 \r\nL 379.331719 17.402501 \r\n\" style=\"fill:none;stroke:#ffffff;stroke-linecap:round;\"/>\r\n     </g>\r\n     <g id=\"text_13\">\r\n      <!-- 1.00 -->\r\n      <g style=\"fill:#262626;\" transform=\"translate(13.624688 21.339298)scale(0.11 -0.11)\">\r\n       <use xlink:href=\"#ArialMT-49\"/>\r\n       <use x=\"55.615234\" xlink:href=\"#ArialMT-46\"/>\r\n       <use x=\"83.398438\" xlink:href=\"#ArialMT-48\"/>\r\n       <use x=\"139.013672\" xlink:href=\"#ArialMT-48\"/>\r\n      </g>\r\n     </g>\r\n    </g>\r\n   </g>\r\n   <g id=\"PathCollection_1\">\r\n    <defs>\r\n     <path d=\"M 0 3 \r\nC 0.795609 3 1.55874 2.683901 2.12132 2.12132 \r\nC 2.683901 1.55874 3 0.795609 3 0 \r\nC 3 -0.795609 2.683901 -1.55874 2.12132 -2.12132 \r\nC 1.55874 -2.683901 0.795609 -3 0 -3 \r\nC -0.795609 -3 -1.55874 -2.683901 -2.12132 -2.12132 \r\nC -2.683901 -1.55874 -3 -0.795609 -3 0 \r\nC -3 0.795609 -2.683901 1.55874 -2.12132 2.12132 \r\nC -1.55874 2.683901 -0.795609 3 0 3 \r\nz\r\n\" id=\"m2a3a0f2db9\" style=\"stroke:#4c72b0;\"/>\r\n    </defs>\r\n    <g clip-path=\"url(#pf1994ce835)\">\r\n     <use style=\"fill:#4c72b0;stroke:#4c72b0;\" x=\"119.243646\" xlink:href=\"#m2a3a0f2db9\" y=\"50.877531\"/>\r\n     <use style=\"fill:#4c72b0;stroke:#4c72b0;\" x=\"155.787541\" xlink:href=\"#m2a3a0f2db9\" y=\"166.804888\"/>\r\n     <use style=\"fill:#4c72b0;stroke:#4c72b0;\" x=\"157.282118\" xlink:href=\"#m2a3a0f2db9\" y=\"133.637543\"/>\r\n     <use style=\"fill:#4c72b0;stroke:#4c72b0;\" x=\"154.538631\" xlink:href=\"#m2a3a0f2db9\" y=\"152.946779\"/>\r\n     <use style=\"fill:#4c72b0;stroke:#4c72b0;\" x=\"159.12673\" xlink:href=\"#m2a3a0f2db9\" y=\"128.99302\"/>\r\n     <use style=\"fill:#4c72b0;stroke:#4c72b0;\" x=\"363.532678\" xlink:href=\"#m2a3a0f2db9\" y=\"18.621591\"/>\r\n     <use style=\"fill:#4c72b0;stroke:#4c72b0;\" x=\"105.18864\" xlink:href=\"#m2a3a0f2db9\" y=\"175.977895\"/>\r\n     <use style=\"fill:#4c72b0;stroke:#4c72b0;\" x=\"102.487916\" xlink:href=\"#m2a3a0f2db9\" y=\"200.464941\"/>\r\n     <use style=\"fill:#4c72b0;stroke:#4c72b0;\" x=\"63.636749\" xlink:href=\"#m2a3a0f2db9\" y=\"109.947976\"/>\r\n     <use style=\"fill:#4c72b0;stroke:#4c72b0;\" x=\"152.511336\" xlink:href=\"#m2a3a0f2db9\" y=\"149.216905\"/>\r\n     <use style=\"fill:#4c72b0;stroke:#4c72b0;\" x=\"112.070003\" xlink:href=\"#m2a3a0f2db9\" y=\"73.29583\"/>\r\n     <use style=\"fill:#4c72b0;stroke:#4c72b0;\" x=\"99.537462\" xlink:href=\"#m2a3a0f2db9\" y=\"213.218409\"/>\r\n     <use style=\"fill:#4c72b0;stroke:#4c72b0;\" x=\"153.594454\" xlink:href=\"#m2a3a0f2db9\" y=\"161.587108\"/>\r\n     <use style=\"fill:#4c72b0;stroke:#4c72b0;\" x=\"151.719048\" xlink:href=\"#m2a3a0f2db9\" y=\"141.49682\"/>\r\n     <use style=\"fill:#4c72b0;stroke:#4c72b0;\" x=\"103.520728\" xlink:href=\"#m2a3a0f2db9\" y=\"193.842641\"/>\r\n     <use style=\"fill:#4c72b0;stroke:#4c72b0;\" x=\"152.787744\" xlink:href=\"#m2a3a0f2db9\" y=\"138.914769\"/>\r\n     <use style=\"fill:#4c72b0;stroke:#4c72b0;\" x=\"117.951247\" xlink:href=\"#m2a3a0f2db9\" y=\"45.417474\"/>\r\n     <use style=\"fill:#4c72b0;stroke:#4c72b0;\" x=\"70.041708\" xlink:href=\"#m2a3a0f2db9\" y=\"94.499538\"/>\r\n     <use style=\"fill:#4c72b0;stroke:#4c72b0;\" x=\"60.798635\" xlink:href=\"#m2a3a0f2db9\" y=\"132.21813\"/>\r\n     <use style=\"fill:#4c72b0;stroke:#4c72b0;\" x=\"116.603404\" xlink:href=\"#m2a3a0f2db9\" y=\"58.053012\"/>\r\n     <use style=\"fill:#4c72b0;stroke:#4c72b0;\" x=\"156.855306\" xlink:href=\"#m2a3a0f2db9\" y=\"143.596049\"/>\r\n     <use style=\"fill:#4c72b0;stroke:#4c72b0;\" x=\"70.130187\" xlink:href=\"#m2a3a0f2db9\" y=\"79.573942\"/>\r\n     <use style=\"fill:#4c72b0;stroke:#4c72b0;\" x=\"152.742613\" xlink:href=\"#m2a3a0f2db9\" y=\"148.410708\"/>\r\n     <use style=\"fill:#4c72b0;stroke:#4c72b0;\" x=\"153.774421\" xlink:href=\"#m2a3a0f2db9\" y=\"142.578487\"/>\r\n     <use style=\"fill:#4c72b0;stroke:#4c72b0;\" x=\"153.149726\" xlink:href=\"#m2a3a0f2db9\" y=\"147.246751\"/>\r\n     <use style=\"fill:#4c72b0;stroke:#4c72b0;\" x=\"148.853169\" xlink:href=\"#m2a3a0f2db9\" y=\"169.144398\"/>\r\n     <use style=\"fill:#4c72b0;stroke:#4c72b0;\" x=\"163.006015\" xlink:href=\"#m2a3a0f2db9\" y=\"112.593079\"/>\r\n     <use style=\"fill:#4c72b0;stroke:#4c72b0;\" x=\"67.035234\" xlink:href=\"#m2a3a0f2db9\" y=\"103.123158\"/>\r\n     <use style=\"fill:#4c72b0;stroke:#4c72b0;\" x=\"115.896804\" xlink:href=\"#m2a3a0f2db9\" y=\"53.811346\"/>\r\n     <use style=\"fill:#4c72b0;stroke:#4c72b0;\" x=\"103.70338\" xlink:href=\"#m2a3a0f2db9\" y=\"190.091262\"/>\r\n     <use style=\"fill:#4c72b0;stroke:#4c72b0;\" x=\"116.218763\" xlink:href=\"#m2a3a0f2db9\" y=\"47.671664\"/>\r\n     <use style=\"fill:#4c72b0;stroke:#4c72b0;\" x=\"117.918498\" xlink:href=\"#m2a3a0f2db9\" y=\"50.805487\"/>\r\n     <use style=\"fill:#4c72b0;stroke:#4c72b0;\" x=\"115.706637\" xlink:href=\"#m2a3a0f2db9\" y=\"67.20898\"/>\r\n     <use style=\"fill:#4c72b0;stroke:#4c72b0;\" x=\"69.081021\" xlink:href=\"#m2a3a0f2db9\" y=\"87.832955\"/>\r\n     <use style=\"fill:#4c72b0;stroke:#4c72b0;\" x=\"145.90072\" xlink:href=\"#m2a3a0f2db9\" y=\"158.90402\"/>\r\n     <use style=\"fill:#4c72b0;stroke:#4c72b0;\" x=\"154.939227\" xlink:href=\"#m2a3a0f2db9\" y=\"137.016973\"/>\r\n     <use style=\"fill:#4c72b0;stroke:#4c72b0;\" x=\"157.307233\" xlink:href=\"#m2a3a0f2db9\" y=\"138.7902\"/>\r\n     <use style=\"fill:#4c72b0;stroke:#4c72b0;\" x=\"63.753118\" xlink:href=\"#m2a3a0f2db9\" y=\"101.856023\"/>\r\n     <use style=\"fill:#4c72b0;stroke:#4c72b0;\" x=\"157.946327\" xlink:href=\"#m2a3a0f2db9\" y=\"119.008463\"/>\r\n     <use style=\"fill:#4c72b0;stroke:#4c72b0;\" x=\"108.883231\" xlink:href=\"#m2a3a0f2db9\" y=\"177.791983\"/>\r\n     <use style=\"fill:#4c72b0;stroke:#4c72b0;\" x=\"73.325273\" xlink:href=\"#m2a3a0f2db9\" y=\"90.309064\"/>\r\n     <use style=\"fill:#4c72b0;stroke:#4c72b0;\" x=\"102.625422\" xlink:href=\"#m2a3a0f2db9\" y=\"195.247872\"/>\r\n     <use style=\"fill:#4c72b0;stroke:#4c72b0;\" x=\"153.535253\" xlink:href=\"#m2a3a0f2db9\" y=\"141.823075\"/>\r\n     <use style=\"fill:#4c72b0;stroke:#4c72b0;\" x=\"155.688478\" xlink:href=\"#m2a3a0f2db9\" y=\"140.007714\"/>\r\n     <use style=\"fill:#4c72b0;stroke:#4c72b0;\" x=\"66.656369\" xlink:href=\"#m2a3a0f2db9\" y=\"105.708778\"/>\r\n     <use style=\"fill:#4c72b0;stroke:#4c72b0;\" x=\"65.977468\" xlink:href=\"#m2a3a0f2db9\" y=\"107.958045\"/>\r\n     <use style=\"fill:#4c72b0;stroke:#4c72b0;\" x=\"69.789461\" xlink:href=\"#m2a3a0f2db9\" y=\"77.777375\"/>\r\n     <use style=\"fill:#4c72b0;stroke:#4c72b0;\" x=\"69.489952\" xlink:href=\"#m2a3a0f2db9\" y=\"95.2821\"/>\r\n     <use style=\"fill:#4c72b0;stroke:#4c72b0;\" x=\"96.931457\" xlink:href=\"#m2a3a0f2db9\" y=\"211.215237\"/>\r\n     <use style=\"fill:#4c72b0;stroke:#4c72b0;\" x=\"152.472499\" xlink:href=\"#m2a3a0f2db9\" y=\"160.669008\"/>\r\n     <use style=\"fill:#4c72b0;stroke:#4c72b0;\" x=\"151.87021\" xlink:href=\"#m2a3a0f2db9\" y=\"150.556289\"/>\r\n     <use style=\"fill:#4c72b0;stroke:#4c72b0;\" x=\"152.497701\" xlink:href=\"#m2a3a0f2db9\" y=\"145.402995\"/>\r\n     <use style=\"fill:#4c72b0;stroke:#4c72b0;\" x=\"153.37517\" xlink:href=\"#m2a3a0f2db9\" y=\"161.056431\"/>\r\n     <use style=\"fill:#4c72b0;stroke:#4c72b0;\" x=\"63.050674\" xlink:href=\"#m2a3a0f2db9\" y=\"124.41315\"/>\r\n     <use style=\"fill:#4c72b0;stroke:#4c72b0;\" x=\"146.602141\" xlink:href=\"#m2a3a0f2db9\" y=\"161.438077\"/>\r\n     <use style=\"fill:#4c72b0;stroke:#4c72b0;\" x=\"106.709351\" xlink:href=\"#m2a3a0f2db9\" y=\"172.60374\"/>\r\n     <use style=\"fill:#4c72b0;stroke:#4c72b0;\" x=\"151.236034\" xlink:href=\"#m2a3a0f2db9\" y=\"147.774366\"/>\r\n     <use style=\"fill:#4c72b0;stroke:#4c72b0;\" x=\"159.063797\" xlink:href=\"#m2a3a0f2db9\" y=\"131.5566\"/>\r\n     <use style=\"fill:#4c72b0;stroke:#4c72b0;\" x=\"147.35972\" xlink:href=\"#m2a3a0f2db9\" y=\"174.273514\"/>\r\n     <use style=\"fill:#4c72b0;stroke:#4c72b0;\" x=\"60.33076\" xlink:href=\"#m2a3a0f2db9\" y=\"120.245583\"/>\r\n    </g>\r\n   </g>\r\n   <g id=\"patch_3\">\r\n    <path d=\"M 44.531719 224.64 \r\nL 44.531719 7.2 \r\n\" style=\"fill:none;stroke:#ffffff;stroke-linecap:square;stroke-linejoin:miter;stroke-width:1.25;\"/>\r\n   </g>\r\n   <g id=\"patch_4\">\r\n    <path d=\"M 379.331719 224.64 \r\nL 379.331719 7.2 \r\n\" style=\"fill:none;stroke:#ffffff;stroke-linecap:square;stroke-linejoin:miter;stroke-width:1.25;\"/>\r\n   </g>\r\n   <g id=\"patch_5\">\r\n    <path d=\"M 44.531719 224.64 \r\nL 379.331719 224.64 \r\n\" style=\"fill:none;stroke:#ffffff;stroke-linecap:square;stroke-linejoin:miter;stroke-width:1.25;\"/>\r\n   </g>\r\n   <g id=\"patch_6\">\r\n    <path d=\"M 44.531719 7.2 \r\nL 379.331719 7.2 \r\n\" style=\"fill:none;stroke:#ffffff;stroke-linecap:square;stroke-linejoin:miter;stroke-width:1.25;\"/>\r\n   </g>\r\n  </g>\r\n </g>\r\n <defs>\r\n  <clipPath id=\"pf1994ce835\">\r\n   <rect height=\"217.44\" width=\"334.8\" x=\"44.531719\" y=\"7.2\"/>\r\n  </clipPath>\r\n </defs>\r\n</svg>\r\n",
      "image/png": "[encoded data removed]"
     },
     "metadata": {}
    }
   ],
   "source": [
    "from matplotlib import pyplot as plt\n",
    "plt.scatter(prin_comp[:,0], prin_comp[:,1],color='b')"
   ]
  },
  {
   "cell_type": "code",
   "execution_count": 69,
   "metadata": {
    "tags": []
   },
   "outputs": [
    {
     "output_type": "stream",
     "name": "stdout",
     "text": "0.37690179386163175 1\n0.3597402217366625 3\n0.5528144640202921 5\n0.34338953128456035 7\n0.3062623515785765 9\n0.3503928037593445 11\n0.37604290803886914 12\n0.30343928829434 14\n0.31525510659926786 20\n0.31849032882558276 22\n0.3152434448828492 24\n0.35362198166544695 25\n0.33932376663125147 35\n0.3083192984208191 42\n0.33411452073991166 43\n0.30541865146108127 44\n0.32773420963481353 49\n0.3085660196139893 50\n0.3507023717052769 52\n0.31919892275827966 53\n0.33159827363997996 58\n"
    }
   ],
   "source": [
    "#---------------------------------------\n",
    "# Fórmula para colaboratividad\n",
    "#---------------------------------------\n",
    "\n",
    "eg = df['Eficiencia Global'].tolist()\n",
    "tr = df['Transitividad'].tolist()\n",
    "comunicacion = [eg[x]+tr[x] for x in range(n)]\n",
    "\n",
    "r= df['Radio'].tolist()\n",
    "sr= df['Spectral radius'].tolist()\n",
    "size=[-r[x]/28-sr[x]/5 for x in range(n)]\n",
    "\n",
    "rcc = df['Rich Club Coefficient'].tolist()\n",
    "cr = df['Core Ratio'].tolist()\n",
    "preparacion = [(rcc[x]+cr[x])/2 for x in range(n)]\n",
    "\n",
    "colab_1 = [comunicacion[x]+preparacion[x]+size[x] for x in range(n)]\n",
    "max_colab_1=[]\n",
    "for i in range(len(colab_1)):\n",
    "    if colab_1[i]>.3:\n",
    "        print(colab_1[i],i)\n",
    "        max_colab_1.append(i)"
   ]
  },
  {
   "cell_type": "code",
   "execution_count": 73,
   "metadata": {
    "tags": []
   },
   "outputs": [
    {
     "output_type": "stream",
     "name": "stdout",
     "text": "0.4335028076424266 0\n0.43753176761336443 1\n0.43149924355746627 3\n0.5043622869551668 5\n0.4455468178699993 8\n0.43126561622638704 10\n0.433730287925361 11\n0.4326648703799853 12\n0.43959562345749187 17\n0.4364438432023845 18\n0.43324006965323153 19\n0.43684909805376115 21\n0.4339609223538563 27\n0.43355979850012616 31\n0.431009608372572 32\n0.43058956195798115 37\n0.4363704225421378 44\n0.4509555732886308 53\n"
    }
   ],
   "source": [
    "#Bad number between 11 and 35 is higher than 36 to 60\n",
    "\n",
    "eg = df['Eficiencia Global'].tolist()\n",
    "tr = df['Transitividad'].tolist()\n",
    "comunicacion = [eg[x]+tr[x] for x in range(n)]\n",
    "\n",
    "r= df['Radio'].tolist()\n",
    "sr= df['Spectral radius'].tolist()\n",
    "size=[-r[x]/28-sr[x]/5 for x in range(n)]\n",
    "\n",
    "rcc = df['Rich Club Coefficient'].tolist()\n",
    "cr = df['Core Ratio'].tolist()\n",
    "preparacion = [(rcc[x]+cr[x])/2 for x in range(n)]\n",
    "\n",
    "colab_1 = [((comunicacion[x]**2+preparacion[x]**2+size[x]**2)/3)**(1/2) for x in range(n)]\n",
    "max_colab_1b=[]\n",
    "for i in range(len(colab_1b)):\n",
    "    if colab_1b[i]>.43:\n",
    "        print(colab_1b[i],i)\n",
    "        max_colab_1b.append(i)"
   ]
  },
  {
   "cell_type": "code",
   "execution_count": 68,
   "metadata": {
    "tags": []
   },
   "outputs": [
    {
     "output_type": "stream",
     "name": "stdout",
     "text": "0.22830056621726855 1\n0.21003267662269107 2\n0.21690363477256727 3\n0.21047463074125325 4\n0.3398934850901574 5\n0.2177823912300705 7\n0.2103616370330609 8\n0.2160883361378501 11\n0.21956453322465674 12\n0.21520719075676395 20\n0.2203280966830905 25\n0.21203445959972195 35\n0.21543777691504476 36\n0.21423168975620852 39\n0.21768971688629038 43\n0.22201918051954592 49\n0.22024968479074772 52\n0.2176678200945896 53\n0.2140960744018184 58\n"
    }
   ],
   "source": [
    "eg = df['Eficiencia Global'].tolist()\n",
    "comunicacion = [eg[x] for x in range(n)]\n",
    "\n",
    "rcc= df['Rich Club Coefficient'].tolist()\n",
    "mod= df['Modularidad'].tolist()\n",
    "futuro=[(rcc[x]+1-mod[x])/2 for x in range(n)]\n",
    "\n",
    "tr = df['Transitividad'].tolist()\n",
    "resistencia = [tr[x] for x in range(n)]\n",
    "\n",
    "colab_2 = [((comunicacion[x]**2+futuro[x]**2+resistencia[x]**2)/3)**(1/2) for x in range(n)]\n",
    "max_colab_2=[]\n",
    "for i in range(len(colab_2)):\n",
    "    if colab_2[i]>.21:\n",
    "        print(colab_2[i],i)\n",
    "        max_colab_2.append(i)"
   ]
  },
  {
   "cell_type": "code",
   "execution_count": 76,
   "metadata": {
    "tags": []
   },
   "outputs": [
    {
     "output_type": "stream",
     "name": "stdout",
     "text": "0.6854215507005375 1\n0.7008895065150914 4\n1.1006861727037653 5\n0.6828792036031921 7\n0.6957583970652077 13\n0.6848731420259988 20\n0.6713298055488807 25\n0.7490891371834657 36\n0.7160498126265097 39\n0.7004154842924882 43\n0.7145626650580623 49\n0.6854451581677711 51\n0.6704796708289175 52\n0.6756822964306508 53\n0.6987255448428292 55\n0.671492843979964 57\n"
    }
   ],
   "source": [
    "eg = df['Eficiencia Global'].tolist()\n",
    "comunicacion = [eg[x] for x in range(n)]\n",
    "\n",
    "r= df['Transitividad'].tolist()\n",
    "size=[r[x] for x in range(n)]\n",
    "\n",
    "rcc = df['Core Ratio'].tolist()\n",
    "md= df['Modularidad'].tolist()\n",
    "preparacion = [1-(rcc[x]/2+md[x]/2) for x in range(n)]\n",
    "\n",
    "colab_3 = [comunicacion[x]+preparacion[x]+size[x] for x in range(n)]\n",
    "max_colab_3=[]\n",
    "for i in range(len(colab_3)):\n",
    "    if colab_3[i]>.67:\n",
    "        print(colab_3[i],i)\n",
    "        max_colab_3.append(i)"
   ]
  },
  {
   "cell_type": "code",
   "execution_count": 81,
   "metadata": {
    "tags": []
   },
   "outputs": [
    {
     "output_type": "stream",
     "name": "stdout",
     "text": "0.2550556581055234 1\n0.24706865880661183 2\n0.2543080371451285 4\n0.3956886252668821 5\n0.2500967476692722 7\n0.25394989285233 13\n0.2506953428856495 20\n0.2498187722258049 25\n0.2671421293242758 36\n0.24590590394876655 38\n0.2607765994678477 39\n0.2477081883566307 40\n0.2539638055830213 43\n0.2601267127369639 49\n0.25001837989975473 51\n0.2491294286020056 52\n0.24583389007303758 53\n0.2511668502785238 55\n0.2466972066827345 57\n"
    }
   ],
   "source": [
    "eg = df['Eficiencia Global'].tolist()\n",
    "comunicacion = [eg[x] for x in range(n)]\n",
    "\n",
    "r= df['Transitividad'].tolist()\n",
    "size=[r[x] for x in range(n)]\n",
    "\n",
    "rcc = df['Core Ratio'].tolist()\n",
    "md= df['Modularidad'].tolist()\n",
    "preparacion = [1-(rcc[x]/2+md[x]/2) for x in range(n)]\n",
    "\n",
    "colab_3 = [((comunicacion[x]**2+preparacion[x]**2+size[x]**2)/3)**(1/2) for x in range(n)]\n",
    "max_colab_3=[]\n",
    "for i in range(len(colab_3)):\n",
    "    if colab_3[i]>.245:\n",
    "        print(colab_3[i],i)\n",
    "        max_colab_3.append(i)"
   ]
  },
  {
   "cell_type": "code",
   "execution_count": null,
   "metadata": {},
   "outputs": [],
   "source": []
  }
 ],
 "metadata": {
  "@webio": {
   "lastCommId": null,
   "lastKernelId": null
  },
  "kernelspec": {
   "display_name": "Python 3",
   "language": "python",
   "name": "python3"
  },
  "language_info": {
   "codemirror_mode": {
    "name": "ipython",
    "version": 3
   },
   "file_extension": ".py",
   "mimetype": "text/x-python",
   "name": "python",
   "nbconvert_exporter": "python",
   "pygments_lexer": "ipython3",
   "version": "3.7.6-final"
  }
 },
 "nbformat": 4,
 "nbformat_minor": 4
}